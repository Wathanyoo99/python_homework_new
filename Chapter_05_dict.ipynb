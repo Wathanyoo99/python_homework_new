{
 "cells": [
  {
   "cell_type": "markdown",
   "id": "b444a2b1-1b6d-4176-8d1f-530254acfdc5",
   "metadata": {},
   "source": [
    "# แบบฝึกหัด บทที่ 5 ตัวแปรและประเภทข้อมูล (Dictionary)"
   ]
  },
  {
   "cell_type": "raw",
   "id": "fe5ae0b4-ef63-4826-accf-7927f7336ce9",
   "metadata": {},
   "source": [
    "\"\"\"\n",
    "ชื่อ - สกุล - รหัส\n",
    "\n",
    "นายวทัญญู ช่างเกวียน 6712732117\n",
    "\"\"\""
   ]
  },
  {
   "cell_type": "markdown",
   "id": "ee56ed63-0dad-4888-abb3-dac078c0177c",
   "metadata": {},
   "source": [
    "## 1.\tจงแปลงข้อมูลต่อไปนี้ให้เป็น Dictionary"
   ]
  },
  {
   "cell_type": "code",
   "execution_count": 3,
   "id": "94428f7b-4992-4b2f-9ee0-065385e26a1c",
   "metadata": {},
   "outputs": [
    {
     "data": {
      "text/plain": [
       "' \\n6611127320001 นาย ศักรินทร์ หาญทอง โรงเรียนวัดหลวงวิทยา\\n6611127320002 นาย ทวีพรโชค ดาวจันทร โรงเรียนนาเเก้ววิทยา\\n6611127320003 นาย ฐิราชัย พลหาญ โรงเรียนโขงเจียมวิทยาคม\\n6611127320004 นาย ชานนท์ รูปคุ้ม โรงเรียนบ้านกันทรารมย์\\n'"
      ]
     },
     "execution_count": 3,
     "metadata": {},
     "output_type": "execute_result"
    }
   ],
   "source": [
    "\"\"\" \n",
    "6611127320001 นาย ศักรินทร์ หาญทอง โรงเรียนวัดหลวงวิทยา\n",
    "6611127320002 นาย ทวีพรโชค ดาวจันทร โรงเรียนนาเเก้ววิทยา\n",
    "6611127320003 นาย ฐิราชัย พลหาญ โรงเรียนโขงเจียมวิทยาคม\n",
    "6611127320004 นาย ชานนท์ รูปคุ้ม โรงเรียนบ้านกันทรารมย์\n",
    "\"\"\""
   ]
  },
  {
   "cell_type": "code",
   "execution_count": 1,
   "id": "e1e84ee5-5a94-4245-bbeb-72aa64fd1413",
   "metadata": {},
   "outputs": [],
   "source": [
    "# คำตอบ\n",
    "profile = {\n",
    "    '6611127320001' : {\n",
    "        'name': 'นายศักรินทร์',\n",
    "        'lastname': 'หาญทอง',\n",
    "        'school': 'โรงเรียนวัดหลวงวิทยา',\n",
    "    },\n",
    "    '6611127320002': {\n",
    "        'name': 'นายทวีพรโชค',\n",
    "        'lastname': 'ดาวจันทร',\n",
    "        'school': 'โรงเรียนนาเเก้ววิทยา',\n",
    "    },\n",
    "    '6611127320003' : {\n",
    "        'name': 'นายฐิราชัย',\n",
    "        'lastname': 'หาญทอง',\n",
    "        'school': 'โรงเรียนโขงเจียมวิทยาคม',\n",
    "    },\n",
    "    '661112732004' : {\n",
    "        'name': 'นายชานนท์',\n",
    "        'lastname': 'รูปคุ้ม',\n",
    "        'school': 'โรงเรียนบ้านกันทรารมย์',\n",
    "    },\n",
    "}\n"
   ]
  },
  {
   "cell_type": "markdown",
   "id": "84f776e2-52c8-471d-867f-4215479ec8ff",
   "metadata": {},
   "source": [
    "## 2.จงแสดงวิธีการเข้าถึงเข้ามูลรายบุคคล"
   ]
  },
  {
   "cell_type": "code",
   "execution_count": 15,
   "id": "cbc8398d-c456-4868-972a-9977a7fd5d8a",
   "metadata": {},
   "outputs": [
    {
     "data": {
      "text/plain": [
       "{'name': 'นายศักรินทร์', 'lname': 'หาญทอง', 'school': 'โรงเรียนวัดหลวงวิทยา'}"
      ]
     },
     "execution_count": 15,
     "metadata": {},
     "output_type": "execute_result"
    }
   ],
   "source": [
    "profile.get('6611127320001')"
   ]
  },
  {
   "cell_type": "code",
   "execution_count": 16,
   "id": "130c8420-a203-436d-a4ec-2619003aac20",
   "metadata": {},
   "outputs": [
    {
     "data": {
      "text/plain": [
       "{'name': 'นายทวีพรโชค', 'lname': 'ดาวจันทร', 'school': 'โรงเรียนนาเเก้ววิทยา'}"
      ]
     },
     "execution_count": 16,
     "metadata": {},
     "output_type": "execute_result"
    }
   ],
   "source": [
    "profile.get('6611127320002')"
   ]
  },
  {
   "cell_type": "code",
   "execution_count": 17,
   "id": "9a2c6529-5e9a-44c9-b3c5-ca00a327bb5d",
   "metadata": {},
   "outputs": [
    {
     "data": {
      "text/plain": [
       "{'name': 'นายฐิราชัย', 'lname': 'หาญทอง', 'school': 'โรงเรียนโขงเจียมวิทยาคม'}"
      ]
     },
     "execution_count": 17,
     "metadata": {},
     "output_type": "execute_result"
    }
   ],
   "source": [
    "profile.get('6611127320003')"
   ]
  },
  {
   "cell_type": "code",
   "execution_count": 18,
   "id": "c71e9eb7-8b43-496a-9683-e5854efb3f52",
   "metadata": {},
   "outputs": [
    {
     "data": {
      "text/plain": [
       "{'name': 'นายชานนท์', 'lname': 'รูปคุ้ม', 'school': 'โรงเรียนบ้านกันทรารมย์'}"
      ]
     },
     "execution_count": 18,
     "metadata": {},
     "output_type": "execute_result"
    }
   ],
   "source": [
    "profile.get('661112732004')"
   ]
  },
  {
   "cell_type": "markdown",
   "id": "2836600c-7a84-422e-bf6c-2eed9a08cd7a",
   "metadata": {},
   "source": []
  }
 ],
 "metadata": {
  "kernelspec": {
   "display_name": "Python 3 (ipykernel)",
   "language": "python",
   "name": "python3"
  },
  "language_info": {
   "codemirror_mode": {
    "name": "ipython",
    "version": 3
   },
   "file_extension": ".py",
   "mimetype": "text/x-python",
   "name": "python",
   "nbconvert_exporter": "python",
   "pygments_lexer": "ipython3",
   "version": "3.13.0"
  }
 },
 "nbformat": 4,
 "nbformat_minor": 5
}
