{
 "cells": [
  {
   "cell_type": "markdown",
   "id": "f90678a9-ab58-49f0-9325-526288a99a76",
   "metadata": {},
   "source": [
    "นายวทัญญู ช่างเกวียน\n",
    "\n",
    "เลขที่ 6712732117"
   ]
  },
  {
   "cell_type": "markdown",
   "id": "f991bcf9-50fe-4229-b04e-f99a1680a126",
   "metadata": {},
   "source": [
    "print (\"Hello \")"
   ]
  }
 ],
 "metadata": {
  "kernelspec": {
   "display_name": "Python 3 (ipykernel)",
   "language": "python",
   "name": "python3"
  },
  "language_info": {
   "codemirror_mode": {
    "name": "ipython",
    "version": 3
   },
   "file_extension": ".py",
   "mimetype": "text/x-python",
   "name": "python",
   "nbconvert_exporter": "python",
   "pygments_lexer": "ipython3",
   "version": "3.13.0"
  }
 },
 "nbformat": 4,
 "nbformat_minor": 5
}
