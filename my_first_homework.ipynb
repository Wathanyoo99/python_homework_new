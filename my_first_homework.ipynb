{
 "cells": [
  {
   "cell_type": "markdown",
   "id": "f90678a9-ab58-49f0-9325-526288a99a76",
   "metadata": {},
   "source": [
    "นายวทัญญู ช่างเกวียน\n",
    "\n",
    "เลขที่ 6712732117"
   ]
  },
  {
   "cell_type": "code",
   "execution_count": 1,
   "id": "0d2efa56-c125-4c7a-9e86-0e1af1309b13",
   "metadata": {},
   "outputs": [
    {
     "name": "stdout",
     "output_type": "stream",
     "text": [
      "Hello, world\n"
     ]
    }
   ],
   "source": [
    "print (\"Hello, world\")"
   ]
  }
 ],
 "metadata": {
  "kernelspec": {
   "display_name": "Python 3 (ipykernel)",
   "language": "python",
   "name": "python3"
  },
  "language_info": {
   "codemirror_mode": {
    "name": "ipython",
    "version": 3
   },
   "file_extension": ".py",
   "mimetype": "text/x-python",
   "name": "python",
   "nbconvert_exporter": "python",
   "pygments_lexer": "ipython3",
   "version": "3.13.0"
  }
 },
 "nbformat": 4,
 "nbformat_minor": 5
}
