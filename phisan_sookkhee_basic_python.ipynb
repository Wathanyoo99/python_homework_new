{
 "cells": [
  {
   "cell_type": "markdown",
   "metadata": {
    "colab_type": "text",
    "id": "view-in-github"
   },
   "source": [
    "<a href=\"https://colab.research.google.com/github/numvarn/PythonProgramming/blob/master/phisan_sookkhee_basic_python.ipynb\" target=\"_parent\"><img src=\"https://colab.research.google.com/assets/colab-badge.svg\" alt=\"Open In Colab\"/></a>"
   ]
  },
  {
   "cell_type": "markdown",
   "metadata": {
    "id": "CK-tiyEIioU9"
   },
   "source": [
    "# การเขียนโปรแกรมด้วยภาษาไพธอน 3\n",
    "\n",
    "<pre>โดย\n",
    "ผู้ช่วยศาสตาราจารย์พิศาล สุขขี\n",
    "สาขาวิทยาการคอมพิวเตอร์,\n",
    "มหาวิทยาลัยราชภัฏศรีสะเกษ\n",
    "\n",
    "E-mail : phisan.s@365.sskru.ac.th, phisan.shukkhi@gmail.com\n",
    "Website : http://phisan.sskru.ac.th\n",
    "Facebook : www.facebook/numvarn\n",
    "Skype : phisan.shukkhi\n",
    "Mobile Phone: 084-915-2456\n",
    "</pre>"
   ]
  },
  {
   "cell_type": "markdown",
   "metadata": {
    "id": "VC8fQCvhYJKb"
   },
   "source": [
    "# บทที่ 1 พื้นฐานโปรแกรมภาษาไพธอน\n"
   ]
  },
  {
   "cell_type": "markdown",
   "metadata": {
    "id": "84H7iC6wY19q"
   },
   "source": [
    "บทเรียนนี้จะอธิบายถึงพื้นฐานของโปรแกรมภาษาไพธอน ซึ่งประกอบไปด้วยไวยากรณ์โครงสร้างของโปรแกรม ข้อควรจำที่สำคัญในการใช้ไวยากรณ์ของภาษาไพธอน คำสั่งในการรับข้อมูลเข้าและการแสดผล\n",
    "\n",
    "เนื้อหาในบทเรียนนี้จะเป็นส่วนความรู้เบื้องต้นที่ทำให้สามารถเขียนโปรแกรมภาษาไพธอนอย่างง่ายได้ ตลอดจนวิธีการรันโปรแกรมที่เขียนด้วยภาษาไพธอน โดยใช้โปรแกรมแปลภาษาไพธอนทั้งในโหมดโต้ตอบและโหมดสคริปต์"
   ]
  },
  {
   "cell_type": "markdown",
   "metadata": {
    "id": "pYB7Sz85ZTdG"
   },
   "source": [
    "## Identifiers\n",
    "\n",
    " ชื่อ (Identifiers) เป็นการกำหนดชื่อต่างๆ เช่น ชื่อค่าคงที่ ชื่อตัวแปร ชื่อโปรแกรม ชื่อฟังก์ชัน ชื่อประเภทข้อมูล ชื่อฟิลด์ในเรคคอร์ด ชื่อยูนิต หรือชื่อมาตรฐาน เพื่อนำไปใช้ในโปรแกรม ซึ่งเป็นชื่อที่ผู้เขียนโปรแกรมกำหนดขึ้นมา ซึ่งกฎเกณฑ์การตั้งชื่อ สามารถทำได้ดังนี้\n",
    "\n",
    "\n"
   ]
  },
  {
   "cell_type": "code",
   "execution_count": null,
   "metadata": {
    "id": "15vVDNhEYP7Y"
   },
   "outputs": [],
   "source": [
    "# ชื่อคลาส\n",
    "class GetData:\n",
    "    pass\n",
    "\n",
    "# ชื่อฟังก์ชัน\n",
    "def getData():\n",
    "    pass\n",
    "\n",
    "def studentName():\n",
    "    pass\n",
    "\n",
    "# ชื่อตัวแปร\n",
    "data = 1\n",
    "student_name = \"Phisan Sookkhee\"\n",
    "my_input = 0\n",
    "my_input_number = 0"
   ]
  },
  {
   "cell_type": "markdown",
   "metadata": {
    "id": "olBwXtHTZzHM"
   },
   "source": [
    "\n",
    "\n",
    "```python\n",
    "#ตัวแปร\n",
    "my_student\n",
    "\n",
    "#ฟังก์ชัน\n",
    "myStudent\n",
    "\n",
    "#คลาส\n",
    "MyStudent\n",
    "```\n",
    "\n"
   ]
  },
  {
   "cell_type": "markdown",
   "metadata": {
    "id": "SXb-T_KNZ_dS"
   },
   "source": [
    "\n",
    "\n",
    "\n",
    "\n",
    "```python\n",
    "#คลาส\n",
    "PrintHelloWorld()\n",
    "\n",
    "#ฟังก์ชัน\n",
    "printHelloWorld()\n",
    "\n",
    "#ตัวแปร\n",
    "print_hello_world\n",
    "```\n",
    "\n",
    "\n"
   ]
  },
  {
   "cell_type": "markdown",
   "metadata": {
    "id": "yqCGRV2yh94V"
   },
   "source": [
    "<hr>"
   ]
  },
  {
   "cell_type": "markdown",
   "metadata": {
    "id": "rhyHdmipbKiv"
   },
   "source": [
    "## บรรทัดและการเยื้องหน้า (Lines and Indentation)\n",
    "\n",
    "ไพธอนไม่ใช้วงเล็บการเพื่อบ่งบอกถึงบล็อกของโค้ดสำหรับนิยามคลาส และฟังก์ชัน\n",
    "\n",
    "หรือคำสั่งโครงสร้างควบคุม บล็อกของโค้ดจะแสดงด้วยการเว้นบรรทัดพร้อมเยื้องหน้า ซึ่งในภาษาไพธอนมีการบังคับใช้อย่างเข้มงวด\n",
    "\n",
    "จำนวนของการเว้นวรรคในการเยื้องหน้าสำหรับคำสั่งทั้งหมดภายในบล็อกจะต้องทำการเว้นวรรคด้วยจำนวนหรือขนาดที่เท่ากันทั้งหมด ตัวอย่างเช่น"
   ]
  },
  {
   "cell_type": "code",
   "execution_count": null,
   "metadata": {
    "id": "BEmuKvdRay4l"
   },
   "outputs": [],
   "source": [
    "'''\n",
    "เทียบเคียงกับภาษาซี\n",
    "\n",
    "if(True) {\n",
    "    i = 1; x = 2;\n",
    "} else {\n",
    "    statement\n",
    "}\n",
    "'''\n",
    "\n",
    "if True:\n",
    "    print(\"Answer\")\n",
    "    print(\"True\")\n",
    "else:\n",
    "    print(\"Answer\")\n",
    "    print(\"False\")"
   ]
  },
  {
   "cell_type": "code",
   "execution_count": null,
   "metadata": {
    "id": "gBga7TIcZ0CT"
   },
   "outputs": [],
   "source": [
    "while True:\n",
    "    value = input(\"Please enter a value: \")\n",
    "    if value == \"quit\":\n",
    "        break\n",
    "    elif int(value) < 10:\n",
    "        print(\"Small\")\n",
    "    else:\n",
    "        print(value)"
   ]
  },
  {
   "cell_type": "markdown",
   "metadata": {
    "id": "AavrQSaNiAnr"
   },
   "source": [
    "<hr>"
   ]
  },
  {
   "cell_type": "markdown",
   "metadata": {
    "id": "cLFVGVh8cGrD"
   },
   "source": [
    "##การแสดงคําสั่งหลายบรรทัด (Multi-Line Statements)"
   ]
  },
  {
   "cell_type": "code",
   "execution_count": null,
   "metadata": {
    "id": "M5_QbjqKcCDv"
   },
   "outputs": [],
   "source": [
    "total = 1 + 2 + 3\n",
    "\n",
    "print(total)"
   ]
  },
  {
   "cell_type": "code",
   "execution_count": null,
   "metadata": {
    "id": "XE5YOA0mcNVK"
   },
   "outputs": [],
   "source": [
    "total = 1 + \\\n",
    "        2 + \\\n",
    "        3\n",
    "\n",
    "print(total)"
   ]
  },
  {
   "cell_type": "markdown",
   "metadata": {
    "id": "UeL2KfIEiEzU"
   },
   "source": [
    "<hr>"
   ]
  },
  {
   "cell_type": "markdown",
   "metadata": {
    "id": "PGWpbdFGcQtg"
   },
   "source": [
    "## การใช้เครื่องหมายคําพูดในภาษาไพธอน (Quotation in Python)"
   ]
  },
  {
   "cell_type": "code",
   "execution_count": null,
   "metadata": {
    "id": "cygHJjakcPvu"
   },
   "outputs": [],
   "source": [
    "word = 'word'"
   ]
  },
  {
   "cell_type": "code",
   "execution_count": null,
   "metadata": {
    "id": "OZG6mjNNcX8I"
   },
   "outputs": [],
   "source": [
    "sentence = \"This is a sentence.\""
   ]
  },
  {
   "cell_type": "code",
   "execution_count": null,
   "metadata": {
    "id": "tWoNvek5cZag"
   },
   "outputs": [],
   "source": [
    "paragraph = \"\"\"This is a paragraph.\n",
    "\n",
    "It is made up of multiple lines and sentences.\"\"\""
   ]
  },
  {
   "cell_type": "code",
   "execution_count": null,
   "metadata": {
    "id": "Ys_4I2NVca6D"
   },
   "outputs": [],
   "source": [
    "print(paragraph)"
   ]
  },
  {
   "cell_type": "markdown",
   "metadata": {
    "id": "T4Kqc5dziLIH"
   },
   "source": [
    "<hr>"
   ]
  },
  {
   "cell_type": "markdown",
   "metadata": {
    "id": "jFGxDojzcq05"
   },
   "source": [
    "## คําอธิบายโปรแกรม (Comment)"
   ]
  },
  {
   "cell_type": "markdown",
   "metadata": {
    "id": "16YLG6Iq6BGU"
   },
   "source": [
    "Single-line Comment"
   ]
  },
  {
   "cell_type": "code",
   "execution_count": null,
   "metadata": {
    "id": "OLUGkJHqcuS6"
   },
   "outputs": [],
   "source": [
    "# This is line comment\n",
    "a = 10 # This is line comment"
   ]
  },
  {
   "cell_type": "markdown",
   "metadata": {
    "id": "7BDsH2ZS6IiO"
   },
   "source": [
    "Multi-line Comment"
   ]
  },
  {
   "cell_type": "code",
   "execution_count": null,
   "metadata": {
    "id": "qBycc4mvcvzn"
   },
   "outputs": [],
   "source": [
    "'''\n",
    "This is block comment that\n",
    "Convers two lines.\n",
    "'''\n",
    "\n",
    "a = 10\n",
    "print(a)"
   ]
  },
  {
   "cell_type": "markdown",
   "metadata": {
    "id": "qlCsHSraiNR2"
   },
   "source": [
    "<hr>"
   ]
  },
  {
   "cell_type": "markdown",
   "metadata": {
    "id": "kSRvDQXcc0AL"
   },
   "source": [
    "## หลายคําสั่งภายในบรรทัดเดียว (Multiple Statements on a Single Line)\n",
    "\n",
    "ผู้เขียนโปรแกรมสามารถใชBเครื่องหมายเซมิโคลอน (“ ; ”) เพื่อคัดระหว่างคําสั่งที่อยู่ภายใน บรรทัดเดียวกันได้ ดังแสดงในตัวอย่าง"
   ]
  },
  {
   "cell_type": "code",
   "execution_count": null,
   "metadata": {
    "id": "TqFJIb2Vcx5F"
   },
   "outputs": [],
   "source": [
    "import sys; x = 'Python'; print(\"{} \\n\".format(x))"
   ]
  },
  {
   "cell_type": "code",
   "execution_count": null,
   "metadata": {
    "id": "DmfePbX5c558"
   },
   "outputs": [],
   "source": [
    "import sys\n",
    "\n",
    "x = 'Python'\n",
    "\n",
    "print(\"{} \\n\".format(x))"
   ]
  },
  {
   "cell_type": "markdown",
   "metadata": {
    "id": "w2HgLKSmiQ8s"
   },
   "source": [
    "<hr>"
   ]
  },
  {
   "cell_type": "markdown",
   "metadata": {
    "id": "f-DMxKLvc82X"
   },
   "source": [
    "## บรรทัดว่าง (Blank lines)\n",
    "บรรทัดที่มีเพียงแค่ช่องว่างเพียงอย่างเดียว หรืออาจมีเพียงคำอธิบายโปรแกรม จะถูกเรียกว่าเป็นบรรทัดว่าง (Blank lines) และตัวแปลภาษาไพธอนจะไม่สนใจบรรทัดว่างเหล่านี้\n",
    "\n",
    "ในการเขียนโปรแกรมภายในโค้ดที่เราสร้างขึ้นจะสังเกตุเห็นว่า สามารถมีบรรทัดว่างได้ทั่วไปตลอดทั้งโค้ดโปรแกรม และในการแปลภาษาตัวแปรภาษาจะไม่นำบรรทัดว่างเหล่านี้ไปตีความ"
   ]
  },
  {
   "cell_type": "code",
   "execution_count": null,
   "metadata": {
    "id": "tVJIGRpzddlN"
   },
   "outputs": [],
   "source": [
    "print(\"Hello world\")\n",
    "\n",
    "\n",
    "\n",
    "\n",
    "print(\"Hello, Phisan Sookkhee\")"
   ]
  },
  {
   "cell_type": "markdown",
   "metadata": {
    "id": "qxuMn_59iSfd"
   },
   "source": [
    "<hr>"
   ]
  },
  {
   "cell_type": "markdown",
   "metadata": {
    "id": "Q0ckW2BvdTa2"
   },
   "source": [
    "## การรับข้อมูลเข้าและการแสดงผล\n",
    "\n",
    "การรับข้อมูลจาก keyboard ด้วยฟังก์ชัน input()"
   ]
  },
  {
   "cell_type": "code",
   "execution_count": null,
   "metadata": {
    "id": "tz2NoMzOc7fJ"
   },
   "outputs": [],
   "source": [
    "name = input(\"What's your name? \")\n",
    "\n",
    "print(\"Nice to meet you \" + name + \"!\")"
   ]
  },
  {
   "cell_type": "code",
   "execution_count": null,
   "metadata": {
    "id": "wt6sWv40d7jY"
   },
   "outputs": [],
   "source": [
    "age = input(\"Your age? \")\n",
    "\n",
    "print(\"So, you are already \" + age +\" years old, \" + name + \"!\")"
   ]
  },
  {
   "cell_type": "code",
   "execution_count": null,
   "metadata": {
    "id": "U9ThH6l_dszB"
   },
   "outputs": [],
   "source": [
    "number = input(\"Enter your number : \")\n",
    "\n",
    "result = int(number) - 2\n",
    "\n",
    "print(result)"
   ]
  },
  {
   "cell_type": "markdown",
   "metadata": {
    "id": "3NESkZjkiT61"
   },
   "source": [
    "<hr>"
   ]
  },
  {
   "cell_type": "markdown",
   "metadata": {
    "id": "BI0FlVhIeVWx"
   },
   "source": [
    "## การแสดงผล\n",
    "\n",
    "การใช้ Formatters Formatters ทำงานโดยการใส่ฟิลด์ที่ใช้แทนข้อมูล หรือตัวยึดตำแหน่ง (Placeholder)\n",
    "\n",
    "อย่างน้อยหนึ่งฟิลด์ซึ่งถูกกำหนดโดยใช้วงเล็บปีกกา (“ { } ”) ลงในสตริงและเรียกใช้เมธอด format() ซึ่งทำการนำค่าที่เราต้องการไปทำการใส่เข้าไปในสตริง\n",
    "\n",
    "ค่านี้จะถูกส่งผ่านไปในตำแหน่งเดียวกับที่ตัวยึดตำแหน่งอยู่ในตำแหน่งที่กำหนดไว้เมื่อมีการเรียกใช้โปรแกรม ดังตัวอย่างด้านล่างนี้"
   ]
  },
  {
   "cell_type": "code",
   "execution_count": null,
   "metadata": {
    "id": "968PUkBneXmk"
   },
   "outputs": [],
   "source": [
    "msg = \"Phisan \" + \"Sookkhee \" + str(5)\n",
    "print(msg)"
   ]
  },
  {
   "cell_type": "code",
   "execution_count": null,
   "metadata": {
    "id": "uMCi6_naecka"
   },
   "outputs": [],
   "source": [
    "number = 5\n",
    "\n",
    "msg = \"Sammy has \"+ str(number) +\" dogs\"\n",
    "print(msg)"
   ]
  },
  {
   "cell_type": "code",
   "execution_count": null,
   "metadata": {
    "id": "-98iokraee3A"
   },
   "outputs": [],
   "source": [
    "number = 5\n",
    "\n",
    "msg = \"Sammy has {} dogs\".format(number)\n",
    "print(msg)"
   ]
  },
  {
   "cell_type": "code",
   "execution_count": null,
   "metadata": {
    "id": "qdWxKdZXeil1"
   },
   "outputs": [],
   "source": [
    "cat = 10\n",
    "dog = 5\n",
    "\n",
    "msg = \"Sammy has {} dogs and {} cats\".format(dog, cat)\n",
    "print(msg)"
   ]
  },
  {
   "cell_type": "code",
   "execution_count": null,
   "metadata": {
    "id": "4i5dSooeey76"
   },
   "outputs": [],
   "source": [
    "open_string = \"Sammy loves {}.\"\n",
    "print(open_string.format(\"open source\"))"
   ]
  },
  {
   "cell_type": "code",
   "execution_count": null,
   "metadata": {
    "id": "Taq6Uym0ey66"
   },
   "outputs": [],
   "source": [
    "msg = \"Hello, my name is {} {}\"\n",
    "\n",
    "name = input(\"Enter name : \")\n",
    "lastname = input(\"Enter lastname : \")\n",
    "\n",
    "print(msg.format(name, lastname))"
   ]
  },
  {
   "cell_type": "code",
   "execution_count": null,
   "metadata": {
    "id": "dNqbAKEbe4Fm"
   },
   "outputs": [],
   "source": [
    "msg = \"Sammy loves {}\".format(\"open source\")\n",
    "print(msg)"
   ]
  },
  {
   "cell_type": "markdown",
   "metadata": {
    "id": "6Ckq8j5fhwKT"
   },
   "source": [
    "การใช้ Formatters กับตัวยึดตำแหน่งหลายตัว\n",
    "เราสามารถใช้เครื่องหมายวงเล็บปีกกาหลายคู่เมื่อใช้ formatters ถ้าเราต้องการเพิ่มการแทนที่ตัวแปรอื่นในสตริง\n",
    "เราสามารถทำได้โดยการเพิ่มคู่วงเล็บปีกกาที่สอง และส่งค่าที่สองเข้าไปใน เมธอดโดยการคั่นด้วยเครื่องหมายจุลภาค (“ , ”)"
   ]
  },
  {
   "cell_type": "code",
   "execution_count": null,
   "metadata": {
    "id": "NPF7fK-Ae46M"
   },
   "outputs": [],
   "source": [
    "new_open_string = \"Sammy loves {} {}.\"\n",
    "print(new_open_string.format(\"open-source\", \"software\"))"
   ]
  },
  {
   "cell_type": "markdown",
   "metadata": {
    "id": "yaU-j3OFh5kD"
   },
   "source": [
    "จัดลำดับการแสดงผลด้วยอาร์กิวเมนต์ตำแหน่งและคำหลัก\n",
    "เมื่อเราใช้เครื่องหมายวงเล็บปีกกาโดยไม่มีพารามิเตอร์ใด ๆ ภายใน\n",
    "ไพธอนจะแทนที่ค่าที่โดยส่งผ่านเมธอด format() ตามลำดับ ตามที่เราได้เห็นแล้วจากตัวอย่างข้างต้นที่ผ่านมา โดยการสร้างแบบฟอร์มที่มีวงเล็บปีกกาสองวงที่ว่างเปล่ามีสองค่าที่ผ่านมาจะมีลักษณะดังนี้"
   ]
  },
  {
   "cell_type": "code",
   "execution_count": null,
   "metadata": {
    "id": "rsza9rSqe7zC"
   },
   "outputs": [],
   "source": [
    "print(\"Sammy the {} has a pet {}!\".format(\"shark\", \"pilot fish\"))\n",
    "\n",
    "# หรือ\n",
    "print(\"Sammy the {1} has a pet {0}!\".format(\"shark\", \"pilot fish\"))\n",
    "\n",
    "\n",
    "# หรือ\n",
    "print(\"Sammy is a {3}, {2}, and {1} {0}!\".format(\"happy\",\n",
    "                                                 \"smiling\",\n",
    "                                                 \"blue\",\n",
    "                                                 \"shark\"))\n",
    "\n",
    "# หรือ\n",
    "print(\"Sammy the {s} {m} a {pr}.\".format(s=\"shark\",\n",
    "                                         m=\"made\",\n",
    "                                         pr=\"pull request\"))"
   ]
  },
  {
   "cell_type": "markdown",
   "metadata": {
    "id": "usdjmGIiiWzV"
   },
   "source": [
    "<hr>"
   ]
  },
  {
   "cell_type": "markdown",
   "metadata": {
    "id": "RElWvFQEfKrz"
   },
   "source": [
    "## การแสดงผลโดยใช้ตัวแปลงข้อมูล\n",
    "\n",
    "ภายในวงเล็บปีกกาที่เราใช้เป็นตัวยึดตำแหน่งภายในสตริงนั้น สามารถมีพารามิเตอร์ ได้มากกว่า 1 ตัว โดยเราจะใช้ไวยากรณ์แบบ\n",
    "\n",
    "\n",
    "\n",
    "```python\n",
    "{field_name:conversion}\n",
    "```\n",
    "\n",
    "\n",
    "\n",
    "โดยที่ field_name จะระบุหมายเลขดัชนีของอาร์กิวเมนต์จากเมธอด format() ที่เราดำเนินการในส่วนการจัดเรียงลำดับ และ conversion หมายถึงรหัสการแปลงรูปแบบของข้อมูลที่เราใช้กับตัวจัดรูปแบบ\n",
    "\n",
    "ประเภทการแปลงรูปแบบหมายถึงรหัสอักขระเดี่ยวที่ภาษาไพธอนใช้ โดยจะใช้ s เป็นรหัสสำหรับสตริง และ d เพื่อแสดงจำนวนเต็มทศนิยม (10 ฐาน) และ f ซึ่งเราจะใช้เพื่อแสดงทศนิยมที่มีจุดทศนิยม เป็นต้น โดยตัวอย่างต่อไปนี้เป็นตัวอย่างที่เราจะทำการส่งค่าจำนวนเต็มผ่านเมธอด เพื่อต้องการแสดงผลเป็นจำนวนจริง หรือ float ซึ่งทำได้โดยการเพิ่มอาร์กิวเมนต์ประเภท Conversion f เข้าไปในตัวยึดตำแหน่งภายในสตริง"
   ]
  },
  {
   "cell_type": "code",
   "execution_count": null,
   "metadata": {
    "id": "P6dz86oVe-Ii"
   },
   "outputs": [],
   "source": [
    "from math import pi\n",
    "\n",
    "print(\"pi : {0:.3f}\".format(pi))"
   ]
  },
  {
   "cell_type": "code",
   "execution_count": null,
   "metadata": {
    "id": "rpPi2X_nfRPL"
   },
   "outputs": [],
   "source": [
    "print(\"Sammy ate {0:f} percent of a {1}!\".format(75, \"pizza\"))\n",
    "\n",
    "print(\"Sammy ate {0:.2f} percent of a {1}!\".format(75, \"pizza\"))\n",
    "\n",
    "print(\"Sammy ate {0:.0f} percent of a {1}!\".format(75.0789, \"pizza\"))"
   ]
  },
  {
   "cell_type": "markdown",
   "metadata": {
    "id": "JoX8AUg1iZVg"
   },
   "source": [
    "<hr>"
   ]
  },
  {
   "cell_type": "markdown",
   "metadata": {
    "id": "NFSeD-ihfb8R"
   },
   "source": [
    "## การกำหนดขนาดของฟิลด์"
   ]
  },
  {
   "cell_type": "code",
   "execution_count": null,
   "metadata": {
    "id": "O0BpDJmlfTad"
   },
   "outputs": [],
   "source": [
    "print(\"Sammy has {0:8} red {1:16}!\".format(5, \"balloons\"))"
   ]
  },
  {
   "cell_type": "code",
   "execution_count": null,
   "metadata": {
    "id": "YQueHCwefha7"
   },
   "outputs": [],
   "source": [
    "print(\"Sammy has {0:^8.2f} red {1:>16}!\".format(5, \"balloons\"))"
   ]
  },
  {
   "cell_type": "code",
   "execution_count": null,
   "metadata": {
    "id": "CXGIlJsAfjN6"
   },
   "outputs": [],
   "source": [
    "# < ชิดซ้าย\n",
    "# > ชิดขวา\n",
    "# ^ กึ่งกลาง\n",
    "print(\"Sammy has {0:<4} red {1:>16}!\".format(5, \"balloons\"))"
   ]
  },
  {
   "cell_type": "code",
   "execution_count": null,
   "metadata": {
    "id": "BXru9bFeflA1"
   },
   "outputs": [],
   "source": [
    "\"\"\"\n",
    "โดยค่าเริ่มต้นเมื่อเราสร้างฟิลด์ขนาดใหญ่ขึ้นด้วย formatters ไพธอนจะเติมฟิลด์ด้วยอักขระเว้นวรรค\n",
    "แต่เราสามารถปรับเปลี่ยนจากอักขระเว้นวรรคให้เป็นอักขระอื่น ๆ ตามที่เราต้องการได้\n",
    "โดยใส่อักขระที่เราต้องการไว้หลังเครื่องหมายโคลอน (“ : ”) ดังตัวอย่าง\n",
    "\"\"\"\n",
    "\n",
    "print(\"{0:_^20s}\".format(\"Sammy\"))"
   ]
  },
  {
   "cell_type": "markdown",
   "metadata": {
    "id": "nR5FvsuPiath"
   },
   "source": [
    "<hr>"
   ]
  },
  {
   "cell_type": "markdown",
   "metadata": {
    "id": "zQrPgD_AgKdu"
   },
   "source": [
    "## แบบฝึกหัด\n",
    "\n",
    "เรื่องพื้นฐานโปรแกรมภาษาไพธอน"
   ]
  },
  {
   "cell_type": "markdown",
   "metadata": {
    "id": "-OQZLtI_gY5K"
   },
   "source": [
    "1. จงเขียนโปรแกรมไพธอนเพื่อรับข้อมูล ที่เป็นชื่อผู้ใช้งานจากแป้นพิมพ์และแสดงออกทางหน้าจอ"
   ]
  },
  {
   "cell_type": "code",
   "execution_count": null,
   "metadata": {
    "id": "r0clwQFwfmcX"
   },
   "outputs": [],
   "source": [
    "# พิมพ์โค้ดโปรแกรมด้านล่างนี้\n",
    "\n"
   ]
  },
  {
   "cell_type": "markdown",
   "metadata": {
    "id": "iyObsoaKgfuW"
   },
   "source": [
    "2. จงเขียนโปรแกรมเพื่อแสดงค่าของ pi คือ 3.14159 ออกทางหน้าจอโดยทำการกำหนดรูปแบบในการแสดงผล\n",
    "\n",
    "ดังต่อไปนี้\n",
    "<pre>pi = 3\n",
    "pi = 3.14\n",
    "pi = 3.1416</pre>"
   ]
  },
  {
   "cell_type": "code",
   "execution_count": null,
   "metadata": {
    "id": "_Irl4t2bgerU"
   },
   "outputs": [],
   "source": [
    "# พิมพ์โค้ดโปรแกรมด้านล่างนี้\n",
    "\n"
   ]
  },
  {
   "cell_type": "markdown",
   "metadata": {
    "id": "aw1YJTMWg1tr"
   },
   "source": [
    "3. จงเขียนโปรแกรมที่แสดงคำว่า \"dog\", \"cat\", \"bat\" ออกทางหน้าจอ โดยกำหนดรูปแบบในการแสดงดังต่อไปนี้"
   ]
  },
  {
   "cell_type": "markdown",
   "metadata": {
    "id": "_a9Alhi2g9nT"
   },
   "source": [
    "\n",
    "\n",
    "```\n",
    "|dog       |   cat    |       bat|\n",
    "```\n",
    "\n"
   ]
  },
  {
   "cell_type": "code",
   "execution_count": null,
   "metadata": {
    "id": "PMGd8glPhCpl"
   },
   "outputs": [],
   "source": [
    "# พิมพ์โค้ดโปรแกรมด้านล่างนี้\n",
    "\n"
   ]
  },
  {
   "cell_type": "markdown",
   "metadata": {
    "id": "0af-yEnEhLz3"
   },
   "source": [
    "4. จงเขียนโปรแกรมที่แสดงคำว่า \"dog\", \"cat\", \"bat\" ออกทางหน้าจอ โดยกำหนดรูปแบบในการแสดงดังต่อไปนี้"
   ]
  },
  {
   "cell_type": "markdown",
   "metadata": {
    "id": "n6a1mFzhhRuW"
   },
   "source": [
    "\n",
    "\n",
    "```\n",
    "|dog*******|***cat****|*******bat|\n",
    "```\n",
    "\n"
   ]
  },
  {
   "cell_type": "code",
   "execution_count": null,
   "metadata": {
    "id": "-In8BBsthd_h"
   },
   "outputs": [],
   "source": [
    "# พิมพ์โค้ดโปรแกรมด้านล่างนี้\n",
    "\n"
   ]
  },
  {
   "cell_type": "markdown",
   "metadata": {
    "id": "cYKfecVPgfHA"
   },
   "source": [
    "<hr>"
   ]
  },
  {
   "cell_type": "markdown",
   "metadata": {
    "id": "ly8YDhXXjYgg"
   },
   "source": [
    "# บทที่ 2 ตัวแปร และประเภทข้อมูล\n",
    "\n",
    "\n",
    "\n",
    "<pre>\n",
    "หน่วยการเรียนนี้ ผู้เรียนจะได้เรียนรู้เกี่ยวกับตัวแปรและประข้อมูลในภาษา Python\n",
    "\n",
    "เนื้อหาประกอบไปด้วย\n",
    "1. ตัวแปรและการประกาศค่า\n",
    "2. การตั้งชื่อตัวแปรในภาษาไพธอน\n",
    "3. การกำหนดค่าให้กับตัวแปร\n",
    "4. ชนิดข้อมูลพื้นฐาน\n",
    "  a. ตัวเลข\n",
    "  b. สตริง\n",
    "5. ชนิดข้อมูลเชิงประกอบ\n",
    "  a. ลิสต์\n",
    "  b. ทัพเพิล\n",
    "  c. ดึกชันนารี\n",
    "  d. เซต\n",
    "</pre>\n",
    "\n"
   ]
  },
  {
   "cell_type": "markdown",
   "metadata": {
    "id": "bqgXr1jckoyX"
   },
   "source": [
    "## ตัวแปร และการประกาศค่า\n",
    "\n",
    "**ตัวแปร (Variable)** คือ ชื่อ หรือเครื่องหมายที่ถูกกำหนดขึ้นสำหรับใช้อ้างอิงถึงข้อมูลที่ถูกจัดเก็บเอาไว้ในหน่วยความจำ\n",
    "\n",
    "**ตัวแปรจะมีชื่อ (Identifier)** สำหรับใช้ในการอ้างถึงข้อมูล ในการเขียนโปรแกรม ค่าของตัวแปรสามารถที่จะกำหนดได้ใน Run-Time หรือเปลี่ยนแปลงอยู่ตลอดเวลาในขณะที่โปรแกรมทำงาน (Executing)\n",
    "\n",
    "และเพื่อความสะดวกในการนำเอาค่าข้อมูลที่จัดเก็บไว้ในหน่วยความจำเพื่อการประมวลผลภายในโปรแกรม โดยการอ้างอิงผ่านตัวแปรนั้น ป้ายชื่อที่เราใช้เรียกตัวแปรภายในโปรแกรมนั้น ควรเป็นชื่อที่สื่อความหมายซึ่จะทำให้ทั้งโปรแกรมและผู้ผ่าน รวมทั้งตัวผู้พัฒนาโปรแกรมเองสามารถเข้าใจได้ง่าย\n",
    "\n",
    "ในการเขียนโปรแกรมคอมพิวเตอร์ ตัวแปรจะแตกต่างจากตัวแปรในทางคณิตศาสตร์ ค่าของตัวแปรนั้นไม่จำเป็นต้องประกอบไปด้วยสูตรหรือสมการที่สมบูรณ์เหมือนกับในคณิตศาสตร์\n",
    "\n",
    "และในคอมพิวเตอร์นั้น ตัวแปรอาจจะมีการทำงานซ้ำ ๆ เช่น การกำหนดค่าในที่หนึ่ง และนำไปใช้อีกที่หนึ่งในโปรแกรม และนอกจากนี้ยังสามารถกำหนดค่าใหม่ให้กับตัวแปรได้ตลอดเวลา"
   ]
  },
  {
   "cell_type": "markdown",
   "metadata": {
    "id": "5G_oOCOolxmB"
   },
   "source": [
    "<hr>"
   ]
  },
  {
   "cell_type": "markdown",
   "metadata": {
    "id": "Oqjzh1-Ckow5"
   },
   "source": [
    "## การประกาศค่าตัวแปร\n",
    "\n",
    "การประกาศค่าตัวแปรในภาษาไพธอนสามารถทำได้โดยการใช้นิพจน์เพื่อกำหนดค่าให้แก่ตัวแปรโดยใช้เครื่องหมายเท่ากับ (=) ซึ่งไม่จำเป็นต้องมีการระบุ หรือประกาศว่าที่แปรที่เราสร้างขึ้นมีชนิดข้อมูลเป็นชนิดใด ซึ่งตัวแปรจะมีชนิดข้อมูลแปรผันตามค่าของข้อมูลที่เรากำหนดให้ ดังตัวอย่าง"
   ]
  },
  {
   "cell_type": "code",
   "execution_count": null,
   "metadata": {
    "id": "_jPZISpyicWY"
   },
   "outputs": [],
   "source": [
    "a = 3\n",
    "b = 4.92\n",
    "c = \"marcuscode.com\"\n",
    "c = 10.5"
   ]
  },
  {
   "cell_type": "markdown",
   "metadata": {
    "id": "K_E79ByFlSjF"
   },
   "source": [
    "การประกาศตัวแปรในภาษา Python นั้นไม่จำเป็นต้องระบุประเภทของตัวแปรในตอนที่ประกาศเหมือนในภาษา C หรือ Java\n",
    "\n",
    "* ในตัวแปร a มีค่าเป็น 3 และเป็นประเภทเป็น Integer\n",
    "\n",
    "* ตัวแปร b มีค่าเป็น 4.92\n",
    "* และเป็นประเภทเป็น Float\n",
    "และตัวแปร c มีค่าเป็น \"marcuscode.com\" และเป็นประเภท String\n",
    "\n",
    "และในภายหลังเราได้เปลี่ยนค่าของตัวแปร c เป็น 10.5 ทำให้ตัวแปร c มีชนิดข้อมูลกลายเป็นประเภท Float"
   ]
  },
  {
   "cell_type": "markdown",
   "metadata": {
    "id": "_GY3v6vilz2K"
   },
   "source": [
    "<hr>"
   ]
  },
  {
   "cell_type": "markdown",
   "metadata": {
    "id": "roP2SJsbloV5"
   },
   "source": [
    "## กำหนดค่าให้กับหลายตัวแปร (Multiple Assignment)\n",
    "\n",
    "ในภาษา Python สนับสนุนการกำหนดค่าให้กับหลายตัวแปร (Multiple Assignment) ในคำสั่งเดียวในตัวอย่างด้านล่าง เป็นการกำหนดค่า 1 และ 2 กับตัวแปร a และ b ตามลำดับ\n",
    "\n",
    "และในคำสั่งต่อมาเป็นการกำหนดค่า 10 ให้กับตัวแปร x y และ z ซึ่งทำให้การเขียนโปรแกรมสะดวกและรวดเร็วมากขึ้น\n",
    "\n",
    "โดยผลของการกำหนดค่าของตัวแปรด้านบน เป็นดังนี้"
   ]
  },
  {
   "cell_type": "code",
   "execution_count": null,
   "metadata": {
    "id": "7xDf2B1clipl"
   },
   "outputs": [],
   "source": [
    "a, b, c = 1, 2, 3\n",
    "x = y = z = 10"
   ]
  },
  {
   "cell_type": "code",
   "execution_count": null,
   "metadata": {
    "id": "ppLuLvTgl39G"
   },
   "outputs": [],
   "source": [
    "print(\"a = \" , a)\n",
    "print(\"b = \" , b)\n",
    "print(\"c = \" , c)\n",
    "print(\"x = \" , x)\n",
    "print(\"y = \" , y)\n",
    "print(\"z = \" , z)"
   ]
  },
  {
   "cell_type": "code",
   "execution_count": null,
   "metadata": {
    "id": "fuHiWL_Nl374"
   },
   "outputs": [],
   "source": [
    "# การกำหนดค่าเริ่มต้นให้ ตัวแปร\n",
    "\n",
    "x1 = x2 = x3 = x4 = x5 = x6 = x7 = x8 = x9 = x10 = 20\n",
    "\n",
    "print(x3)"
   ]
  },
  {
   "cell_type": "markdown",
   "metadata": {
    "id": "ujphSc75l-f2"
   },
   "source": [
    "การประยุกต์การกำหนดค่าให้หลายตัวแปร\n",
    "ตัวอย่างของการกำหนดค่าให้หลายตัวแปรที่มีในภาษาไพธอน นั้นสามารถนำมาประยุกต์ใช้ในการเรื่องของการสลับค่าระหว่างตัวแปร\n",
    "ซึ่งจะทำให้การดำเนินการรวดเร็วขึ้น โปรแกรมมีความกระชับขึ้น"
   ]
  },
  {
   "cell_type": "code",
   "execution_count": null,
   "metadata": {
    "id": "gUUjZ_Q-mFPQ"
   },
   "outputs": [],
   "source": [
    "# จงสลับค่าระหว่าง a และ b\n",
    "a = 10\n",
    "b = 20\n",
    "\n",
    "...\n",
    "\n",
    "print(a)\n",
    "print(b)"
   ]
  },
  {
   "cell_type": "code",
   "execution_count": null,
   "metadata": {
    "id": "JWb5sJ1el73S"
   },
   "outputs": [],
   "source": [
    "# จงสลับค่าระหว่าง a และ b\n",
    "# โดยใช้วิธีการ parallel assignment\n",
    "a = 10\n",
    "b = 20\n",
    "\n",
    "...\n",
    "\n",
    "print(a)\n",
    "print(b)"
   ]
  },
  {
   "cell_type": "code",
   "execution_count": null,
   "metadata": {
    "id": "reDp3al3mNAa"
   },
   "outputs": [],
   "source": [
    "# จงสลับค่าสมาชิกตำแหน่งแรก และตำแหน่งสุดท้าย\n",
    "\n",
    "lt = [1, 2, 3, 4, 5, 6]\n",
    "\n",
    "...\n",
    "\n",
    "print(lt)"
   ]
  },
  {
   "cell_type": "markdown",
   "metadata": {
    "id": "B5fTsK7PmYDQ"
   },
   "source": [
    "<hr>"
   ]
  },
  {
   "cell_type": "markdown",
   "metadata": {
    "id": "YWnCyNb_md5r"
   },
   "source": [
    "## การตั้งชื่อตัวแปรในภาษาไพธอน\n",
    "\n",
    "ไพทอนไม่จำเป็นต้องประกาศตัวแปรก่อนใช้งาน สามารถกำหนดค่าขึ้นมา และเรียกใช้ได้เลย แต่การตัวชื่อตัวแปรของ ไพทอนต้องเป็นไปตามกฏดังนี้\n",
    "\n",
    "1. ต้องขึ้นต้นด้วยตัวอักษร\n",
    "2. ห้ามใช้ตัวเลขหรือสัญลักษณ์ใดๆ\n",
    "3. ห้ามมีช่องว่างหรือเว้นวรรค\n",
    "ห้ามใช้เครื่องหมายต่อไปนี้ในการประกาศตัวแปร !...@...#...$...%...^...&...*...(...)...-...=...+...~\n",
    "4. ควรตั้งชื่อตัวแปรที่สื่อความหมายให้ชัดเจน เพื่อผู้อื่นตีความหมายได้เข้าใจ แต่ถ้ามีความหมายยาวมาก ให้ย่อ เช่น student_name ควรใช้ st_name เป็นต้น\n",
    "5. ตัวแปรที่มีตัวพิมพ์ใหญ่และตัวพิมพ์เล็กผสมกันจะมีความหมายต่างกับตัวพิมพ์เล็กเพียงอย่างเดียว เช่น St_Id แตกต่างจากตัวแปร st_id เป็นต้น"
   ]
  },
  {
   "cell_type": "markdown",
   "metadata": {
    "id": "v23lpbHdmwSb"
   },
   "source": [
    "## คำสงวน ในภาษาไพทอน\n",
    "คำสงวน คือชื่อหรือคำที่ภาษา Python (ไพทอน) ไว้ใช้เฉพาะเพื่อเป็นคำสั่ง หรือมีไว้เพื่อเขียนเป็นโครงสร้างของตัวภาษาเอง โดยคำสงวนของ Python จะมีทั้งหมด 31 คำ ดังนี้\n",
    "\n",
    "\n",
    "\n",
    "```python\n",
    "and, as, assert, break, class, continue, def, del, elif, else, except, exec,\n",
    " finally, for, from, global, if, import, in, is, lambda, not, or, pass, print,\n",
    "  raise, return, try, while, with, yield\n",
    "```\n",
    "\n"
   ]
  },
  {
   "cell_type": "markdown",
   "metadata": {
    "id": "ATte2E5Pm8W6"
   },
   "source": [
    "<hr>"
   ]
  },
  {
   "cell_type": "markdown",
   "metadata": {
    "id": "OAUoqWdFm_zh"
   },
   "source": [
    "## Numbers\n",
    "ไพทอนรองรับข้อมูลชนิดตัวเลขทั้ง 4 ชนิดดังนี้\n",
    "\n",
    "**int (signed integers)** − เรามักเรียกข้อมูลประเภทนี้ว่า จำนวนเต็ม (Integer), ซึ่งเป็นได้ทั้งตัวเลขจำนวนเต็มบวก หรือเต็มลบก็ได้ ในระบบเลขฐาน 10.\n",
    "\n",
    "**long (long integers)** − เป็นข้อมูลจำนวนเต็มที่ไม่ได้จำกัดขนาด แต่จะเขียนตามด้วยตัว L ตัวเล็กหรือตัวใหญ่ก็ได้.\n",
    "\n",
    "**float (floating point real values)** − เป็นข้อมูลตัวเลขประเภทจำนวนจริง ซึ่งจะเรียนในรูปแบบตัวเลขทศนิยม และ Floats อาจใช้เขียนในรูปแบบสัญลักษณ์ทางวิทยาศาสตร์ ซึ่งใช้ E หรือ e ในการแทนเลขยกกำลัง 10 (2.5e2 = 2.5 x 102 = 250).\n",
    "\n",
    "**complex (complex numbers)** − คือข้อมูลที่ถูกเขียนในรูปของ a + bJ, โดย a และ b คือจำนวนจริง และ J คือค่ารากที่สองของ -1 โดย Complex numbers ไม่ค่อยได้ถูกใช้ในการเขียนโปรแกรมในภาษาไพทอน\n",
    "\n",
    "หมายเหตุ ใน Python 3 ข้อมูลชนิด long ถูกตัดออกไป"
   ]
  },
  {
   "cell_type": "code",
   "execution_count": null,
   "metadata": {
    "id": "PR8FzuUzmR-V"
   },
   "outputs": [],
   "source": [
    "## Integer\n",
    "print(type(10))\n",
    "\n",
    "# Float\n",
    "print(type(15.20))\n",
    "\n",
    "# Complex\n",
    "print(type(9.322e-36j))"
   ]
  },
  {
   "cell_type": "markdown",
   "metadata": {
    "id": "GbEXpiUonUVZ"
   },
   "source": [
    "### การแปลงข้อมูลตัวเลข\n",
    "\n",
    "1. **int(x)** เป็นการแปลง x ให้อยู่ในรูปแบบจำนวนเต็ม.\n",
    "\n",
    "2. **float(x)** เป็นการแปลง x ให้อยู่ในรูปแบบจำนวนจริง (เลขทศนิยม).\n",
    "\n",
    "3. **complex(x)** เป็นการแปลง x เป็นจำนวนเชิงซ้อนกับส่วนจริง x และศูนย์ส่วนจินตภาพ.\n",
    "\n",
    "4. **complex(x, y)** เป็นการแปลง x และ y เป็นจำนวนเชิงซ้อนกับส่วนจริง x และ y ส่วนจินตภาพ x และ y เป็นนิพจน์ตัวเลข."
   ]
  },
  {
   "cell_type": "code",
   "execution_count": null,
   "metadata": {
    "id": "CnUv04ZqnoIn"
   },
   "outputs": [],
   "source": [
    "x = 10.8\n",
    "int(x)"
   ]
  },
  {
   "cell_type": "code",
   "execution_count": null,
   "metadata": {
    "id": "YDyjVUpjnpxm"
   },
   "outputs": [],
   "source": [
    "x = 2.58\n",
    "int(x)"
   ]
  },
  {
   "cell_type": "code",
   "execution_count": null,
   "metadata": {
    "id": "SDznQ1zhnsEO"
   },
   "outputs": [],
   "source": [
    "x = 10\n",
    "complex(x)"
   ]
  },
  {
   "cell_type": "code",
   "execution_count": null,
   "metadata": {
    "id": "qYWMucNWnv93"
   },
   "outputs": [],
   "source": [
    "x = 10\n",
    "complex(x, 2)"
   ]
  },
  {
   "cell_type": "markdown",
   "metadata": {
    "id": "666f2XBgoFip"
   },
   "source": [
    "### ฟังก์ชันทางคณิตศาสตร์"
   ]
  },
  {
   "cell_type": "markdown",
   "metadata": {
    "id": "Hy8ryqvuoKBS"
   },
   "source": [
    "\n",
    "\n",
    "```\n",
    "abs(x)\n",
    "```\n",
    "\n",
    "\n",
    "\n",
    "ค่าสัมบูรณ์ของ x: ระยะทาง (บวก) ระหว่าง x และศูนย์"
   ]
  },
  {
   "cell_type": "code",
   "execution_count": null,
   "metadata": {
    "id": "xWRv0cVqnP3f"
   },
   "outputs": [],
   "source": [
    "abs(-10)"
   ]
  },
  {
   "cell_type": "code",
   "execution_count": null,
   "metadata": {
    "id": "OFzctTA7oPRO"
   },
   "outputs": [],
   "source": [
    "import math"
   ]
  },
  {
   "cell_type": "markdown",
   "metadata": {
    "id": "bFY59ic9oSiH"
   },
   "source": [
    "**math.log(x)**\n",
    "\n",
    "The natural logarithm of x, for x > 0."
   ]
  },
  {
   "cell_type": "code",
   "execution_count": null,
   "metadata": {
    "id": "kIj1_FewoRLm"
   },
   "outputs": [],
   "source": [
    "math.log(10)"
   ]
  },
  {
   "cell_type": "markdown",
   "metadata": {
    "id": "DJSf5txeoXok"
   },
   "source": [
    "**math.log10(x)**\n",
    "\n",
    "The base-10 logarithm of x for x > 0."
   ]
  },
  {
   "cell_type": "code",
   "execution_count": null,
   "metadata": {
    "id": "quBiEEtboeob"
   },
   "outputs": [],
   "source": [
    "math.log10(10)"
   ]
  },
  {
   "cell_type": "markdown",
   "metadata": {
    "id": "N85M4cKZoiRR"
   },
   "source": [
    "**math.sqrt(x)**\n",
    "\n",
    "The square root of x for x > 0."
   ]
  },
  {
   "cell_type": "code",
   "execution_count": null,
   "metadata": {
    "id": "rNqSUoNXonGs"
   },
   "outputs": [],
   "source": [
    "math.sqrt(2)"
   ]
  },
  {
   "cell_type": "markdown",
   "metadata": {
    "id": "jRzfhZaloiPG"
   },
   "source": [
    "**Power of number**"
   ]
  },
  {
   "cell_type": "code",
   "execution_count": null,
   "metadata": {
    "id": "WxAf2qtKosr9"
   },
   "outputs": [],
   "source": [
    "3**2"
   ]
  },
  {
   "cell_type": "markdown",
   "metadata": {
    "id": "kwYwwN8Aoxef"
   },
   "source": [
    "<hr>"
   ]
  },
  {
   "cell_type": "markdown",
   "metadata": {
    "id": "Rx85gkxSo4oU"
   },
   "source": [
    "## Strings\n",
    "\n",
    "สตริง หรือข้อมูลประเภทลำดับของอักขระ เป็นข้อมูลอีกประเภทที่นิยมใช้มากในภาษาไพธอน โดยที่เราสามารถสร้างได้ง่าย ๆ โดยการใส่ตัวอักษร หรือข้อความไว้ภายในในเครื่องหมายคำพูด (' ' หรือ \" \") การสร้างข้อมูลประเภทสตริงสามารถทำได้โดยการกำหนดค่าให้กับตัวแปร ตัวอย่างเช่น -"
   ]
  },
  {
   "cell_type": "markdown",
   "metadata": {
    "id": "5kmlMQ5gpJzJ"
   },
   "source": [
    "### การสร้างสตริงในภาษาไพธอน\n",
    "\n",
    "สตริงที่สามารถสร้างขึ้นได้โดยใส่ตัวอักษรไว้ภายในเครื่องหมายคำพูดเดี่ยว ('..') หรือเครื่องหมายคำพูดคู่ (\"..\") และคำพูดสาม (\"\"\"..\"\"\") สามารถใช้ในไพธอน แต่โดยทั่วไปใช้เพื่อแสดงสายอักขระแบบหลายบรรทัด"
   ]
  },
  {
   "cell_type": "code",
   "execution_count": null,
   "metadata": {
    "id": "BHmJmWmWovLN"
   },
   "outputs": [],
   "source": [
    "# การกำหนดค่าให้กับตัวแปรที่มีชนิดข้อมูลเป็นสตริง\n",
    "my_string = 'Hello'\n",
    "print(my_string)\n",
    "\n",
    "my_string = \"Hello\"\n",
    "print(my_string)\n",
    "\n",
    "my_string = '''Hello'''\n",
    "print(my_string)\n",
    "\n",
    "# triple quotes string สามารถใช้สำหรับการแสดงสตริงในหลายบรรทัด\n",
    "my_string = \"\"\"Hello, welcome to\n",
    "           the world of Python\"\"\"\n",
    "print(my_string)"
   ]
  },
  {
   "cell_type": "markdown",
   "metadata": {
    "id": "r1U1K4qBpW5J"
   },
   "source": [
    "### การเข้าถึงอักขระในสตริง\n",
    "\n",
    "ภาษาไพธอนนั้นไม่สนับสนุนข้อมูลประเภทอักขระ (Character) โดยจะถือว่าข้อมูลอักขระแต่ละตัวนั้นถือว่าเป็นสตริงที่มีขนาดความยาวเท่ากับ 1 โดยในการเข้าถึงอักขระแต่ละตัวภายในสติงนั้นให้ใช้วงเล็บเหลี่ยม ( [ ] ) สำหรับการหั่น (Slide) ตามดัชนีหรือดัชนีการเข้าถึงอักขระภายในสตริง ตัวอย่างเช่น -"
   ]
  },
  {
   "cell_type": "code",
   "execution_count": null,
   "metadata": {
    "id": "9F_BqNhUpR7P"
   },
   "outputs": [],
   "source": [
    "str = 'Hello World!'\n",
    "\n",
    "print (str)          # พิมพ์สตริงตั้งหมด\n",
    "print (str[0])       # พิมพ์อักขระลำดับแรกของสตริง\n",
    "print (str[2:5])     # พิมพ์อักขระลำดับที่ 3 ถึงลำดับที่ 5 ภายในสตริง\n",
    "print (str[2:])      # พิมพ์อักขระลำดับที่ 3 จนถึงลำดับสุดท้ายภายในสตริง\n",
    "print (str * 2)      # พิมพ์สตริง จำนวน 2 ครั้ง\n",
    "print (str + \"TEST\") # พิมพ์สตริงโดยรวมสายอักขระเข้าด้วยกัน"
   ]
  },
  {
   "cell_type": "markdown",
   "metadata": {
    "id": "FvaOYsd5pe17"
   },
   "source": [
    "### การปรับปรุงสตริง\n",
    "\n",
    "เราสามารถ \"ปรับปรุง\" สตริงที่มีอยู่โดย (อีกครั้ง) การกำหนดตัวแปรให้กับสตริงอื่น ค่าใหม่อาจเกี่ยวข้องกับค่าก่อนหน้านี้หรือเป็นสตริงที่แตกต่างกันโดยสิ้นเชิง ตัวอย่างเช่น -"
   ]
  },
  {
   "cell_type": "code",
   "execution_count": null,
   "metadata": {
    "id": "dzafeFnypjDQ"
   },
   "outputs": [],
   "source": [
    "var = 'Hello World!'\n",
    "print(\"Updated String :- \", var[:6] + 'Python')"
   ]
  },
  {
   "cell_type": "code",
   "execution_count": null,
   "metadata": {
    "id": "2TlW4FVTpm7_"
   },
   "outputs": [],
   "source": [
    "str = \"Computer Science\"\n",
    "\n",
    "print(str[:8] + ' Today')"
   ]
  },
  {
   "cell_type": "code",
   "execution_count": null,
   "metadata": {
    "id": "A1puDUW3pol4"
   },
   "outputs": [],
   "source": [
    "print(str[9:] + ' Today')"
   ]
  },
  {
   "cell_type": "code",
   "execution_count": null,
   "metadata": {
    "id": "7MZNU7Sypr4d"
   },
   "outputs": [],
   "source": [
    "str = \"Computer Science\"\n",
    "\n",
    "print(str[:8]+\" Today \"+str[9:])"
   ]
  },
  {
   "cell_type": "markdown",
   "metadata": {
    "id": "6M6Qw3H7pt0u"
   },
   "source": [
    "### การดำเนินการสตริง\n",
    "\n",
    "ข้อมูลประเภทสตริงนั้นสามารถมีการดำเนินการที่หลากหลาย ดังนี้\n",
    "\n",
    "การรวมสองหรือมากกว่าสตริง\n",
    "การรวมสตริงตั้งแต่สอง หรือมากกว่านั้นเข้าเป็นหนึ่งเดียวเรียกว่าการ concatenation\n",
    "\n",
    "โดยใช้ตัวดำเนินการบวก ( + ) เพียงแค่เขียนนำสตริงสองตัวดำเนิการเข้าด้วยกันก็จะถูกเชื่อมต่อกัน\n",
    "\n",
    "และโอเปอเรเตอร์คูณ ( * ) สามารถใช้เพื่อทำซ้ำสตริงได้หลายครั้ง"
   ]
  },
  {
   "cell_type": "code",
   "execution_count": null,
   "metadata": {
    "id": "meI2NrE7pzLg"
   },
   "outputs": [],
   "source": [
    "str1 = 'Hello'\n",
    "str2 ='World!'\n",
    "\n",
    "# using +\n",
    "print('str1 + str2 = ', str1 + str2)\n",
    "\n",
    "# using *\n",
    "print('str1 * 3 =', str1 * 3)"
   ]
  },
  {
   "cell_type": "markdown",
   "metadata": {
    "id": "_pEeBXJDp4e0"
   },
   "source": [
    "หรือถ้าเราต้องการต่อสตริงต่าง ๆ ที่มีหลายบรรทัด เราสามารถใช้วงเล็บในการดำเนินการได้"
   ]
  },
  {
   "cell_type": "code",
   "execution_count": null,
   "metadata": {
    "id": "lz8Y6-uWp2Rb"
   },
   "outputs": [],
   "source": [
    "# using parentheses\n",
    "s = ('Hello '\n",
    "     'World')\n",
    "\n",
    "print(s)"
   ]
  },
  {
   "cell_type": "markdown",
   "metadata": {
    "id": "oh2FgNZAjaHl"
   },
   "source": [
    "<hr>\n",
    "\n",
    "**เกร็ดน่ารู้** ตัวดำเนินการ + และ * เวลาใช้งานกับสตริง\n",
    "\n",
    "* เมื่อใช้ + ระหว่างสองสตริง จะเป็นการนำสตริงมาต่อกัน\n",
    "* เมื่อใช้ * ระหว่างสตริงกับเลขจำนวนเต็ม จะเป็นการนำสตริงมาต่อกันตามจำนวนครั้งของเลขจำนวนเต็ม\n",
    "\n",
    "<hr>"
   ]
  },
  {
   "cell_type": "code",
   "execution_count": null,
   "metadata": {
    "id": "vm5M4vEqjdza"
   },
   "outputs": [],
   "source": [
    "\"Hello\" + \"World\""
   ]
  },
  {
   "cell_type": "code",
   "execution_count": null,
   "metadata": {
    "id": "j_fjoV2hjfYf"
   },
   "outputs": [],
   "source": [
    "\"Hello\" + \"World\" + \"!\""
   ]
  },
  {
   "cell_type": "code",
   "execution_count": null,
   "metadata": {
    "id": "S3ypSvuFjhNM"
   },
   "outputs": [],
   "source": [
    "3*\"Hello+\""
   ]
  },
  {
   "cell_type": "markdown",
   "metadata": {
    "id": "35MCdNrgqAH8"
   },
   "source": [
    "### การวนซ้ำบนสตริง\n",
    "\n",
    "เราสามารถใช้การทำซ้ำผ่านสตริง จากตัวอย่างด้านล่างเป็นการวนซ้ำเพื่อนับจำนวน 'l' ที่อยู่ในสตริง"
   ]
  },
  {
   "cell_type": "code",
   "execution_count": null,
   "metadata": {
    "id": "pfgn8m0Ip7Xn"
   },
   "outputs": [],
   "source": [
    "count = 0\n",
    "\n",
    "for letter in 'Hello World':\n",
    "    # count += 1\n",
    "    if(letter == 'l'):\n",
    "        count += 1\n",
    "\n",
    "print(count,'letters found')"
   ]
  },
  {
   "cell_type": "markdown",
   "metadata": {
    "id": "ZBQo6Ns3qPn8"
   },
   "source": [
    "### การทดสอบสมาชิกในสตริง\n",
    "\n",
    "เราสามารถทดสอบว่ามีอักขระ หรือสตริงย่อยอยู่ภายในสตริงหรือไม่โดยใช้ keyword คือ in"
   ]
  },
  {
   "cell_type": "code",
   "execution_count": null,
   "metadata": {
    "id": "XGld2IoyqHBf"
   },
   "outputs": [],
   "source": [
    "'a' in 'program'"
   ]
  },
  {
   "cell_type": "code",
   "execution_count": null,
   "metadata": {
    "id": "94svCi8eqX1i"
   },
   "outputs": [],
   "source": [
    "'at' not in 'battle'"
   ]
  },
  {
   "cell_type": "markdown",
   "metadata": {
    "id": "uWk43lCQqMLe"
   },
   "source": [
    "### Escape Characters\n",
    "\n",
    "กรณีตัวอย่าง : ถ้าหากเราต้องการพิมพ์ข้อความเช่น - He said, \"What's there?\" - เราไม่สามารถใช้เครื่องหมายคำพูดหรือคำพูดแบบคู่ได้ ซึ่งจะส่งผลให้เกิด SyntaxError เนื่องจากข้อความนั้นมีทั้งเครื่องหมายคำพูดแบบเดียว และแบบคู่\n"
   ]
  },
  {
   "cell_type": "code",
   "execution_count": null,
   "metadata": {
    "id": "L5_olm0pqwwC"
   },
   "outputs": [],
   "source": [
    "#ตัวอย่างที่เกิดข้อผิดพลาด\n",
    "# ต้องการพิมพ์\n",
    "# He said, \"What's there?\"\n",
    "\n",
    "print(\"He said, \"What's there?\"\")"
   ]
  },
  {
   "cell_type": "markdown",
   "metadata": {
    "id": "Hq0dzu71qyTk"
   },
   "source": [
    "วิธีหนึ่งในการแก้ปัญหานี้คือการใช้เครื่องหมายคำพูดแบบสามตัว หรือเราสามารถใช้ escape characters\n",
    "\n",
    "Escape characters เป็นอักขระพิเศษในไพธอน ซึ่งเป็นอักขระที่จะไม่แสดงผล หรือไม่ปรากฏให้เห็นตอนแสดงผลผ่านหน้าจอ ยกตัวอย่างเช่น \"\\n\" เป็นอักขระที่หมายถึงการขึ้นบรรทัดใหม่\n",
    "\n",
    "escape sequence เริ่มต้นด้วยเครื่องหมายแบ็กสแลช (\" \\ \") และถูกตีความแตกต่างกัน ถ้าเราใช้เครื่องคำพูดเดี่ยวเพื่อแทนสตริงจะต้องยกเว้นเครื่องหมายเดียวทั้งหมดภายในสตริง คล้ายกันคือกรณีที่มีเครื่องหมายคำพูดคู่ นี่คือวิธีที่สามารถทำได้เพื่อแสดงข้อความข้างต้น"
   ]
  },
  {
   "cell_type": "code",
   "execution_count": null,
   "metadata": {
    "id": "uRQGSOVsqkEU"
   },
   "outputs": [],
   "source": [
    "# using triple quotes\n",
    "print(\"\"\"He said, \"What's there?\"\"\")"
   ]
  },
  {
   "cell_type": "code",
   "execution_count": null,
   "metadata": {
    "id": "CWtBbWaCqn_X"
   },
   "outputs": [],
   "source": [
    "# escaping single quotes\n",
    "print('He said, \"What\\'s there?\"')"
   ]
  },
  {
   "cell_type": "code",
   "execution_count": null,
   "metadata": {
    "id": "PIUbdMLtqqfi"
   },
   "outputs": [],
   "source": [
    "# escaping double quotes\n",
    "print(\"He said, \\\"What's there?\\\"\")"
   ]
  },
  {
   "cell_type": "markdown",
   "metadata": {
    "id": "bA7490J6rMDA"
   },
   "source": [
    "### เมธอด format()\n",
    "สำหรับการจัดรูปแบบแสดงผลของสตริง\n",
    "\n",
    "เมธอด format() สามารถใช้งานกับสตริงอ็อบเจ็กต์ที่มีความหลากหลายและมีประสิทธิภาพในการจัดรูปแบบการแสดงผลของสตริง สตริงการจัดรูปแบบมีวงเล็บปีกกา {} เป็นตัวยึดตำแหน่ง หรือฟิลด์แทนที่ซึ่งจะถูกแทนที่\n",
    "\n",
    "ภายในเครื่องหมาย {} เราสามารถใช้อาร์กิวเมนต์ตัวเลขตำแหน่ง หรืออาร์กิวเมนต์คำหลักเพื่อระบุลำดับในการแสดงผลได้"
   ]
  },
  {
   "cell_type": "code",
   "execution_count": null,
   "metadata": {
    "id": "YES1LRRVqsU6"
   },
   "outputs": [],
   "source": [
    "# default(implicit) order\n",
    "default_order = \"{}, {} and {}\".format('John','Bill','Sean')\n",
    "print('\\n--- Default Order ---')\n",
    "print(default_order)\n",
    "\n",
    "# order using positional argument\n",
    "positional_order = \"{1}, {0} and {2}\".format('John','Bill','Sean')\n",
    "print('\\n--- Positional Order ---')\n",
    "print(positional_order)\n",
    "\n",
    "# order using keyword argument\n",
    "keyword_order = \"{s}, {b} and {j}\".format(j='John',b='Bill',s='Sean')\n",
    "print('\\n--- Keyword Order ---')\n",
    "print(keyword_order)"
   ]
  },
  {
   "cell_type": "markdown",
   "metadata": {
    "id": "MGaISULw5CX-"
   },
   "source": [
    "**format()**\n",
    "ผู้ใช้งานสามารถกำหนดทางเลือกในการแสดงผลสตริงได้อย่างหลากหลาย และจำเพาะเจาะจง\n",
    "\n",
    "ตัวอย่างเช่น สามารถใช้สัญลักพิเศษในการกำหนดรูปแบบการแสดงสตริงใช้ ชิดซ้าย <, ชิดขวา > หรือตรงกลาง ^ ได้\n",
    "\n",
    "นอกจากนี้เรายังสามารถจัดรูปแบบ integers เป็น binary, hexadecimal ฯลฯ\n",
    "\n",
    "และ floats สามารถปัดเศษหรือแสดงในรูปแบบเลขชี้กำลัง มีการจัดรูปแบบมากมายที่คุณสามารถใช้ได้\n",
    "\n",
    "รูปแบบการใช้งาน\n",
    "\n",
    "\n",
    "\n",
    "```\n",
    "String.format(args)\n",
    "```\n",
    "\n"
   ]
  },
  {
   "cell_type": "code",
   "execution_count": null,
   "metadata": {
    "id": "-MUkzdLq5ESG"
   },
   "outputs": [],
   "source": [
    "# formatting integers\n",
    "\"Binary representation of {0} is {0:b}\".format(12)"
   ]
  },
  {
   "cell_type": "code",
   "execution_count": null,
   "metadata": {
    "id": "dbTtY_ny5MR5"
   },
   "outputs": [],
   "source": [
    "# formatting floats\n",
    "\"Exponent representation: {0:e}\".format(1566.345)"
   ]
  },
  {
   "cell_type": "code",
   "execution_count": null,
   "metadata": {
    "id": "Cn35CwU95OUD"
   },
   "outputs": [],
   "source": [
    "# round off\n",
    "\"One third is: {0:.3f}\".format(1/3)"
   ]
  },
  {
   "cell_type": "code",
   "execution_count": null,
   "metadata": {
    "id": "1HhzLJ-x5QDN"
   },
   "outputs": [],
   "source": [
    "# string alignment\n",
    "\"|{:<10}|{:^10}|{:>10}|\".format('butter','bread','ham')"
   ]
  },
  {
   "cell_type": "markdown",
   "metadata": {
    "id": "RSqyd9ca5WV9"
   },
   "source": [
    "### String Method ที่มักใช้งานบ่อย\n",
    "\n",
    "String Method ที่มักใช้งานบ่อย เช่น lower(), upper(), join(), split(), find(), replace() เป็นต้น"
   ]
  },
  {
   "cell_type": "code",
   "execution_count": null,
   "metadata": {
    "id": "7ooSitKv5Upt"
   },
   "outputs": [],
   "source": [
    "# Funciton\n",
    "# lower(\"PrOgRaMiZ\")\n",
    "\n",
    "# Method\n",
    "\"PrOgRaMiZ\".lower()"
   ]
  },
  {
   "cell_type": "code",
   "execution_count": null,
   "metadata": {
    "id": "po04dQnu5iNP"
   },
   "outputs": [],
   "source": [
    "\"PrOgRaMiZ\".upper()"
   ]
  },
  {
   "cell_type": "code",
   "execution_count": null,
   "metadata": {
    "id": "2DskzjID5nSl"
   },
   "outputs": [],
   "source": [
    "\"This will split all words into a list\".split()"
   ]
  },
  {
   "cell_type": "code",
   "execution_count": null,
   "metadata": {
    "id": "-Xx6wDbQ5o7E"
   },
   "outputs": [],
   "source": [
    "' '.join(['This', 'will', 'join', 'all', 'words', 'into', 'a', 'string'])"
   ]
  },
  {
   "cell_type": "code",
   "execution_count": null,
   "metadata": {
    "id": "py28hfhV5riN"
   },
   "outputs": [],
   "source": [
    "'Happy New Year'.find('p')"
   ]
  },
  {
   "cell_type": "code",
   "execution_count": null,
   "metadata": {
    "id": "dK5o66K45u1h"
   },
   "outputs": [],
   "source": [
    "'Happy New Year, Happy'.replace('Happy','Brilliant')"
   ]
  },
  {
   "cell_type": "code",
   "execution_count": null,
   "metadata": {
    "id": "9TmTsF464Xyn"
   },
   "outputs": [],
   "source": [
    "letters = \"PyTHoN\"\n",
    "letters.isnumeric()"
   ]
  },
  {
   "cell_type": "code",
   "execution_count": null,
   "metadata": {
    "id": "O_uyHHSu4ife"
   },
   "outputs": [],
   "source": [
    "number = \"24579\"\n",
    "print(number.isnumeric())"
   ]
  },
  {
   "cell_type": "markdown",
   "metadata": {
    "id": "NZtSAPnG54mS"
   },
   "source": [
    "### ตัวอย่างการคำนวณค่า BMI"
   ]
  },
  {
   "cell_type": "code",
   "execution_count": null,
   "metadata": {
    "id": "qW-gZqfM5zpA"
   },
   "outputs": [],
   "source": [
    "weight, height = input(\"Enter your data (weight, height) : \").split()\n",
    "\n",
    "height_meter = int(height) / 100\n",
    "\n",
    "bmi = int(weight) / height_meter ** 2\n",
    "\n",
    "print(\"{0:.2f}\".format(bmi))"
   ]
  },
  {
   "cell_type": "code",
   "execution_count": null,
   "metadata": {
    "id": "N99DIcwk59LH"
   },
   "outputs": [],
   "source": [
    "# เขียนโปรแกรมแบบย่อ\n",
    "\n",
    "data = [int(i) for i in input(\"Enter your data: \").split()]\n",
    "print(\"{0:.2f}\".format(data[0] / (data[1]/100)**2))"
   ]
  },
  {
   "cell_type": "markdown",
   "metadata": {
    "id": "zpapQPSc68Up"
   },
   "source": [
    "<hr>"
   ]
  },
  {
   "cell_type": "markdown",
   "metadata": {
    "id": "-Q9CPLCo6fQ6"
   },
   "source": [
    "## List"
   ]
  },
  {
   "cell_type": "markdown",
   "metadata": {
    "id": "AF4fnFYN6fPD"
   },
   "source": [
    "**วิธีการสร้าง List ในภาษาไพธอน**\n",
    "\n",
    "ในการเขียนโปรแกรมภาษาไพธอน List จะถูกสร้างขึ้นโดยการวางไอเท็มทั้งหมด (element) ภายในวงเล็บเหลี่ยม [ ] โดยคั่นด้วยเครื่องหมายจุลภาค (,) และภายใน List นั้นสามารถมีสมาชิกจำนวนมาก และอาจมีหลากหลายประเภทข้อมูล (จำนวนเต็ม, จำนวนจริง, สตริง ฯลฯ )"
   ]
  },
  {
   "cell_type": "code",
   "execution_count": null,
   "metadata": {
    "id": "N9xNr5gl6KVr"
   },
   "outputs": [],
   "source": [
    "# empty list\n",
    "my_list = []\n",
    "\n",
    "# list of integers\n",
    "my_list = [1, 2, 3]\n",
    "\n",
    "# list with mixed datatypes\n",
    "my_list = [1, \"Hello\", 3.4]"
   ]
  },
  {
   "cell_type": "markdown",
   "metadata": {
    "id": "jSAHiIWR7EWX"
   },
   "source": [
    "นอกจากนี้ภายใน List ยังสามารถมี List อื่นเป็นเป็นสมาชิกได้อีกด้วยซึ่งเรียกว่า Nested List"
   ]
  },
  {
   "cell_type": "code",
   "execution_count": null,
   "metadata": {
    "id": "vyofhT3M61DG"
   },
   "outputs": [],
   "source": [
    "# nested list\n",
    "my_list = [\"mouse\", [8, 4, 6], ['a']]"
   ]
  },
  {
   "cell_type": "markdown",
   "metadata": {
    "id": "okT4plg17QQ4"
   },
   "source": [
    "### วิธีการเข้าถึงสมาชิก (Element) ภายใน List\n",
    "\n",
    "มีหลายวิธีที่เราสามารถเข้าถึงสมาชิกของ List ได้\n",
    "\n",
    "ดัชนีรายการ (Index) เราสามารถใช้ตัวดำเนินการดัชนี [ ] เพื่อเข้าถึงสมาชิกภายใน List ได้ โดยดัชนีเริ่มจาก 0 ดังนั้น List ที่มีสมาชิก 5 ตัว จะมีดัชนีตั้งแต่ 0 ถึง 4"
   ]
  },
  {
   "cell_type": "code",
   "execution_count": null,
   "metadata": {
    "id": "qlnvz9zn7V8W"
   },
   "outputs": [],
   "source": [
    "my_list = ['p','r','o','b','e']\n",
    "# Output: p\n",
    "print(my_list[0])\n",
    "\n",
    "# Output: o\n",
    "print(my_list[2])\n",
    "\n",
    "# Output: e\n",
    "print(my_list[4])\n",
    "\n",
    "# Error! Only integer can be used for indexing\n",
    "# my_list[4.0]\n",
    "\n",
    "# Nested List\n",
    "n_list = [\"Happy\", [2,0,1,5]]\n",
    "\n",
    "# Nested indexing\n",
    "\n",
    "# Output: a\n",
    "print(n_list[0][1])\n",
    "\n",
    "# Output: 5\n",
    "print(n_list[1][3])"
   ]
  },
  {
   "cell_type": "code",
   "execution_count": null,
   "metadata": {
    "id": "5lge73_A7I-p"
   },
   "outputs": [],
   "source": [
    "# Nested List\n",
    "# n_list = [\"Happy\", [2,0,1,5]]\n",
    "\n",
    "n_list = [[1, 2, 3], [4, 5, 6, [7, 8, 9, 10, [11, 12]]]]\n",
    "\n",
    "# จงเข้าถึงเลข 12 ใน n_list\n",
    "\n"
   ]
  },
  {
   "cell_type": "code",
   "execution_count": null,
   "metadata": {
    "id": "yRKKqnOg7hxl"
   },
   "outputs": [],
   "source": [
    "matrx = [\n",
    "    [1, 2, 3, 4],\n",
    "    [5, 6, 7, 8],\n",
    "    [9, 10, 11, 12]\n",
    "]\n",
    "\n",
    "# จงเข้าถึงเลข 12 ใน n_list\n",
    "\n"
   ]
  },
  {
   "cell_type": "code",
   "execution_count": null,
   "metadata": {
    "id": "cf6lNw5s7oJD"
   },
   "outputs": [],
   "source": [
    "str_lt = [\n",
    "        [\"Phisan\"],\n",
    "        [\"Sookkhee\", \"Hello\"],\n",
    "        ]\n",
    "\n",
    "# จงเข้าถึงตัวอักษร o ใน Hello ใน str_list\n",
    "\n"
   ]
  },
  {
   "cell_type": "markdown",
   "metadata": {
    "id": "4wMXhVUJ8FWQ"
   },
   "source": [
    "### การจัดทำดัชนีเชิงลบ (Negative indexing)\n",
    "\n",
    "โปรแกรมภาษาไพธอนช่วยช่วยอำนวนความสะดวกในการเข้าถึงสมาชิกที่อยู่ใน List ให้สามารถทำได้ง่ายขึ้น โดยอนุญาติให้มีการจัดทำดัชนีเชิงลบ โดย ดัชนี -1 หมายถึงรายการสุดท้ายภายใน List และ -2 ไปยังรายการสุดท้ายที่สองและอื่น ๆ"
   ]
  },
  {
   "cell_type": "code",
   "execution_count": null,
   "metadata": {
    "id": "g44oDpjD7-27"
   },
   "outputs": [],
   "source": [
    "my_list = ['p','r','o','b','e']"
   ]
  },
  {
   "cell_type": "code",
   "execution_count": null,
   "metadata": {
    "id": "wHpBOQaG8SZG"
   },
   "outputs": [],
   "source": [
    "my_list[len(my_list) - 1]"
   ]
  },
  {
   "cell_type": "code",
   "execution_count": null,
   "metadata": {
    "id": "eP4t9MpT8URq"
   },
   "outputs": [],
   "source": [
    "my_list[-1]"
   ]
  },
  {
   "cell_type": "markdown",
   "metadata": {
    "id": "BAcjVruT8p5X"
   },
   "source": [
    "### Slice Lists\n",
    "\n",
    "เราสามารถเข้าถึงสมาชิกต่าง ๆ ภายใน List โดยใช้ตัวดำเนินการ slice ( : )"
   ]
  },
  {
   "cell_type": "code",
   "execution_count": null,
   "metadata": {
    "id": "b_a5aFa78W0O"
   },
   "outputs": [],
   "source": [
    "my_list = ['p','r','o','g','r','a','m','i','z']\n",
    "\n",
    "# สมาชิกลำดับที่ 3 ถึง 5\n",
    "print(my_list[2:5])\n",
    "\n",
    "# สมาชิกเริ่มจากลำดับที่ 1 ถึง 4\n",
    "print(my_list[:-5])\n",
    "\n",
    "# สมาชิกลำดับที่ 6 ถึง ลำดับสุดท้าย\n",
    "print(my_list[5:])\n",
    "\n",
    "# สมาชิกลำดับแรก ถึง ลำดับสุดท้าย\n",
    "print(my_list[:])"
   ]
  },
  {
   "cell_type": "code",
   "execution_count": null,
   "metadata": {
    "id": "I1ozQtks8xTY"
   },
   "outputs": [],
   "source": [
    "# var[start:stop:step]\n",
    "\n",
    "n = [1, 2, 3, 4, 5, 6, 7, 8, 9]\n",
    "\n",
    "n[::-1]"
   ]
  },
  {
   "cell_type": "code",
   "execution_count": null,
   "metadata": {
    "id": "aYpoh1CE80Ve"
   },
   "outputs": [],
   "source": [
    "n = [1, 2, 3, 4, 5, 6, 7, 8, 9]\n",
    "n[::-2]"
   ]
  },
  {
   "cell_type": "code",
   "execution_count": null,
   "metadata": {
    "id": "P5TFd8TK83jM"
   },
   "outputs": [],
   "source": [
    "#การบ้าน\n",
    "'''\n",
    "เลขพาลินโดรม\n",
    "เลขที่เมื่อกลับหลังแล้วยังได้ตัวเดิม\n",
    "เช่น 8008, 0880\n",
    "'''\n",
    "\n",
    "# โจทย์ จงหาว่าในช่วง 1 - 1000 มีเลยพาลินโดรมอยู่เท่าไร่\n",
    "# การแปลงชนิดข้อมูล\n",
    "# int -> string\n",
    "count = 0\n",
    "for i in range(100, 1001):\n",
    "    if str(i) == _______:\n",
    "        count += 1\n",
    "\n",
    "print(count)"
   ]
  },
  {
   "cell_type": "markdown",
   "metadata": {
    "id": "WpGcF1Ns9OHG"
   },
   "source": [
    "### วิธีการเปลี่ยน หรือเพิ่มข้อมูลสมาชิกลงใน List\n",
    "\n",
    "เราสามารถใช้ตัวดำเนินการกำหนดค่า (=) เพื่อเปลี่ยนแปลงข้อมูลสมาชิกภายใน List ได้ ซึ่งในการเปลี่ยนแปลงข้อมูลนั้นสามารถทำได้ทีละตัว หรือกระทำเป็นช่วงข้อมูลได้"
   ]
  },
  {
   "cell_type": "code",
   "execution_count": null,
   "metadata": {
    "id": "iRwbX5a39ReH"
   },
   "outputs": [],
   "source": [
    "lt = []\n",
    "\n",
    "# วิธีที่ 1 : append\n",
    "lt.append(1)\n",
    "lt.append(3)\n",
    "lt.append(5)"
   ]
  },
  {
   "cell_type": "code",
   "execution_count": null,
   "metadata": {
    "id": "z30wI48o9U65"
   },
   "outputs": [],
   "source": [
    "lt"
   ]
  },
  {
   "cell_type": "code",
   "execution_count": null,
   "metadata": {
    "id": "jEV34g-59WXC"
   },
   "outputs": [],
   "source": [
    "# วิธีที่ 2 : insert\n",
    "lt = [1, 3, 5]\n",
    "\n",
    "lt.insert(0, 0)\n",
    "# [0, 1, 3, 5]\n",
    "\n",
    "lt.insert(2, 2)\n",
    "# [0, 1, 2, 3, 5]\n",
    "\n",
    "lt.insert(4, 4)\n",
    "# [0, 1, 2, 3, 4, 5]"
   ]
  },
  {
   "cell_type": "code",
   "execution_count": null,
   "metadata": {
    "id": "Agv_bCEV9ZGi"
   },
   "outputs": [],
   "source": [
    "lt"
   ]
  },
  {
   "cell_type": "code",
   "execution_count": null,
   "metadata": {
    "id": "FLJmIiq_9Z4n"
   },
   "outputs": [],
   "source": [
    "# mistake values\n",
    "odd = [2, 4, 6, 8]\n",
    "\n",
    "# change the 1st item\n",
    "odd[0] = 1\n",
    "\n",
    "# Output: [1, 4, 6, 8]\n",
    "print(odd)\n",
    "\n",
    "# change 2nd to 4th items\n",
    "odd[1:4] = [3, 5, 7]\n",
    "\n",
    "# Output: [1, 3, 5, 7]\n",
    "print(odd)"
   ]
  },
  {
   "cell_type": "markdown",
   "metadata": {
    "id": "BYGfhtpN92Ut"
   },
   "source": [
    "เราสามารถเพิ่มข้อมูลเข้าไปใน List ทีละตัวได้โดยใช้ append() หรือเพิ่มข้อมูลครั้งละหลายรายการเข้าไปใน List ได้โดยใช้ extend()"
   ]
  },
  {
   "cell_type": "code",
   "execution_count": null,
   "metadata": {
    "id": "DJjx2rw19jiE"
   },
   "outputs": [],
   "source": [
    "odd = [1, 3, 5]\n",
    "\n",
    "odd.append(7)\n",
    "\n",
    "# Output: [1, 3, 5, 7]\n",
    "print(odd)\n",
    "\n",
    "odd.extend([9, 11, 13])\n",
    "\n",
    "# Output: [1, 3, 5, 7, 9, 11, 13]\n",
    "print(odd)"
   ]
  },
  {
   "cell_type": "code",
   "execution_count": null,
   "metadata": {
    "id": "UiOdK1c09589"
   },
   "outputs": [],
   "source": [
    "a = [1, 2, 3]\n",
    "b = [4, 5, 6]\n",
    "\n",
    "a.extend(b)\n",
    "a"
   ]
  },
  {
   "cell_type": "markdown",
   "metadata": {
    "id": "0zeMsZl-9_98"
   },
   "source": [
    "นอกจากนี้ยังสามารถใช้ตัวดำเนินการบวก ( + ) เพื่อทำการรวม 2 List เข้าด้วยกัน วิธีนี้เรียกว่า Concatenation\n",
    "\n",
    "และสามารถใช้ตัวดำเนินการคูณ ( * ) เพื่อการสร้างสมาชิกซ้ำภายใน List ตามจำนวนครั้งที่กำหนด"
   ]
  },
  {
   "cell_type": "code",
   "execution_count": null,
   "metadata": {
    "id": "CIeFXBFH98r7"
   },
   "outputs": [],
   "source": [
    "odd = [1, 3, 5]\n",
    "\n",
    "# Output: [1, 3, 5, 9, 7, 5]\n",
    "print(odd + [9, 7, 5])\n",
    "\n",
    "#Output: [\"re\", \"re\", \"re\"]\n",
    "print([\"re\"] * 3)"
   ]
  },
  {
   "cell_type": "code",
   "execution_count": null,
   "metadata": {
    "id": "m8Cp0mY7-Co4"
   },
   "outputs": [],
   "source": [
    "a = [1, 2, 3]\n",
    "b = [4, 5, 6]\n",
    "\n",
    "a + b #เท่ากับการ extend"
   ]
  },
  {
   "cell_type": "markdown",
   "metadata": {
    "id": "r5_Oo0vE-Lmy"
   },
   "source": [
    "### วิธีการลบมูลสมาชิกออกจาก List\n",
    "\n",
    "เราสามารถลบข้อมูลสมาชิกออกจาก List ครั้งละหนึ่งรายการ หรือมากกว่านั้นออกจาก List โดยใช้คำสำคัญ delรายการได้ทั้งหมด"
   ]
  },
  {
   "cell_type": "code",
   "execution_count": null,
   "metadata": {
    "id": "f8fGA4dc-HSG"
   },
   "outputs": [],
   "source": [
    "my_list = ['p','r','o','b','l','e','m']\n",
    "\n",
    "# delete one item\n",
    "del my_list[2]\n",
    "\n",
    "# Output: ['p', 'r', 'b', 'l', 'e', 'm']\n",
    "print(my_list)\n",
    "\n",
    "# delete multiple items\n",
    "del my_list[1:5]\n",
    "\n",
    "# Output: ['p', 'm']\n",
    "print(my_list)\n",
    "\n",
    "# delete entire list\n",
    "del my_list\n",
    "\n",
    "# Error: List not defined\n",
    "# print(my_list)"
   ]
  },
  {
   "cell_type": "markdown",
   "metadata": {
    "id": "24Kk-tHa-k5u"
   },
   "source": [
    "ในอีกทางหนึ่งนั้น เราสามารถใช้เมธอด remove() เพื่อทำการลบข้อมูลสมาชิกที่กำหนดได้ทันที หรือใช้เมทอด pop() เพื่อทำการลบข้อมูลภายสมาชิกในรายการที่กำหนดได้\n",
    "\n",
    "เมธอด pop() จะลบและส่งกลับรายการสุดท้ายหากไม่มีดัชนี ซึ่งช่วยให้เราสามารถใช้ List เพื่อเป็นสแต็ก\n",
    "\n",
    "นอกจากนี้เรายังสามารถใช้เมธอด clear() เพื่อลบข้อมูลสมาชิกทั้งหมดออกจาก List"
   ]
  },
  {
   "cell_type": "code",
   "execution_count": null,
   "metadata": {
    "id": "t8XcuQkj-TXF"
   },
   "outputs": [],
   "source": [
    "my_list = ['p','r','o','b','l','e','m']\n",
    "my_list.remove('p')\n",
    "\n",
    "# Output: ['r', 'o', 'b', 'l', 'e', 'm']\n",
    "print(my_list)\n",
    "\n",
    "# Output: 'o'\n",
    "print(my_list.pop(1))\n",
    "\n",
    "# Output: ['r', 'b', 'l', 'e', 'm']\n",
    "print(my_list)\n",
    "\n",
    "# Output: 'm'\n",
    "print(my_list.pop())\n",
    "\n",
    "# Output: ['r', 'b', 'l', 'e']\n",
    "print(my_list)\n",
    "\n",
    "my_list.clear()\n",
    "\n",
    "# Output: []\n",
    "print(my_list)"
   ]
  },
  {
   "cell_type": "markdown",
   "metadata": {
    "id": "glrzMYVA-ruP"
   },
   "source": [
    "### การทดสอบการเป็นสมาชิกใน List หรือไม่\n",
    "\n",
    "เราสามารถใช้ keyword in สำหรับการทดสองว่ามีข้อมูลที่ต้องการทดสอบเป็นสมาชิกอยู่ List หรือไม่"
   ]
  },
  {
   "cell_type": "code",
   "execution_count": null,
   "metadata": {
    "id": "f6LXCNwe-o2D"
   },
   "outputs": [],
   "source": [
    "my_list = ['p','r','o','b','l','e','m']\n",
    "\n",
    "# Output: True\n",
    "print('p' in my_list)\n",
    "\n",
    "# Output: False\n",
    "print('a' in my_list)\n",
    "\n",
    "# Output: True\n",
    "print('c' not in my_list)"
   ]
  },
  {
   "cell_type": "markdown",
   "metadata": {
    "id": "YkjYma_5mABf"
   },
   "source": [
    "---\n",
    "### ข้อพึงระวัง\n",
    "\n"
   ]
  },
  {
   "cell_type": "code",
   "execution_count": null,
   "metadata": {
    "id": "GuXFvM0m5aKN"
   },
   "outputs": [],
   "source": [
    "# Copy (copy by reference) the list A\n",
    "\n",
    "A = [\"hard rock\", 10, 1.2]\n",
    "B = A\n",
    "\n",
    "print('A:', A)\n",
    "print('B:', B)"
   ]
  },
  {
   "cell_type": "markdown",
   "metadata": {
    "id": "-CfJ1k5O5czE"
   },
   "source": [
    "<img src=\"https://s3-api.us-geo.objectstorage.softlayer.net/cf-courses-data/CognitiveClass/PY0101EN/Chapter%202/Images/ListsRef.png\" width=\"1000\" align=\"center\">"
   ]
  },
  {
   "cell_type": "code",
   "execution_count": null,
   "metadata": {
    "id": "peUyhOq9mIcU"
   },
   "outputs": [],
   "source": [
    "a = [1, 2, 3, 4]\n",
    "\n",
    "b = a\n",
    "\n",
    "b[0] = 100\n",
    "\n",
    "print(a)"
   ]
  },
  {
   "cell_type": "code",
   "execution_count": null,
   "metadata": {
    "id": "xcCna3ZxmUzJ"
   },
   "outputs": [],
   "source": [
    "a = [1, 2, 3, 4]\n",
    "\n",
    "b = a.copy()\n",
    "\n",
    "b[0] = 100\n",
    "\n",
    "print(a)"
   ]
  },
  {
   "cell_type": "markdown",
   "metadata": {
    "id": "xiNG4yF8ysDa"
   },
   "source": [
    "### ฟังก์ชัน map()\n",
    "\n",
    "\n",
    "ฟังก์ชัน map( ) ใช้ในการเปลี่ยนแปลงข้อมูล ในกลุ่มข้อมูล เช่น list, set, tuple, และ dict และจะคืนข้อมูลที่\n",
    "เปลี่ยนแปลงแล้วกลับไปตามชนิดกลุ่มข้อมูลนั้น เมื่อใช้ใส่กลับไปในชนิดข้อมูลนั้น เช่น ใช้ด้ำาเนินการกับ list ก็จะคืนค่าเป็น\n",
    "ชนิด list เมื่อใส่กลับลงไปใน list ดังตัวอย่างต่อไปนี้\n",
    "\n",
    "รูปแบบการใช้งาน\n",
    "\n",
    "\n",
    "\n",
    "```\n",
    "map(function, collection)\n",
    "```\n",
    "\n"
   ]
  },
  {
   "cell_type": "code",
   "execution_count": null,
   "metadata": {
    "id": "O5ZIE6j2y9-w"
   },
   "outputs": [],
   "source": [
    "'''\n",
    "การดำเนินการกับสมาชิกภายใน list\n",
    "ทุก ๆ ตัว\n",
    "'''\n",
    "def square(i):\n",
    "  return i**2\n",
    "\n",
    "a = [1, 2, 3, 4, 5]\n",
    "b = map(square, a)\n",
    "\n",
    "list(b)"
   ]
  },
  {
   "cell_type": "code",
   "execution_count": null,
   "metadata": {
    "id": "RRJwPdJn3zws"
   },
   "outputs": [],
   "source": [
    "'''\n",
    "เขียนฟังก์ชันในรูปแบบของ lambda\n",
    "'''\n",
    "\n",
    "a = [1, 2, 3, 4, 5]\n",
    "b = list(map(lambda i: i**2, a))\n",
    "\n",
    "print(b)"
   ]
  },
  {
   "cell_type": "code",
   "execution_count": null,
   "metadata": {
    "id": "6DH9czif0PGM"
   },
   "outputs": [],
   "source": [
    "'''\n",
    "แปลงชิดข้อมูลของสมาชิกทุกตัวใน list ให้เป็น str\n",
    "'''\n",
    "def convertToStr(i):\n",
    "  return str(i)\n",
    "\n",
    "a = [1, 2, 3, 4, 5, 6]\n",
    "b = list(map(convertToStr, a))\n",
    "\n",
    "print(\", \".join(b))"
   ]
  },
  {
   "cell_type": "code",
   "execution_count": null,
   "metadata": {
    "id": "O0KrEDOz4i45"
   },
   "outputs": [],
   "source": [
    "'''\n",
    "เขียนฟังก์ชันในรูปแบบของ lambda\n",
    "'''\n",
    "\n",
    "a = [1, 2, 3, 4, 5, 6]\n",
    "b = list(map(lambda i: str(i), a))\n",
    "\n",
    "print(\", \".join(b))"
   ]
  },
  {
   "cell_type": "code",
   "execution_count": null,
   "metadata": {
    "id": "TG-4-F9PzoS6"
   },
   "outputs": [],
   "source": [
    "# เพิ่มเติม อีก 1 วิธี\n",
    "\n",
    "a = [1, 2, 3, 4, 5, 6]\n",
    "\n",
    "b = [str(i) for i in a]\n",
    "\n",
    "print(\", \".join(b))"
   ]
  },
  {
   "cell_type": "markdown",
   "metadata": {
    "id": "_EjgqtEc3nfP"
   },
   "source": [
    "### การ Filter สมาชิกภายในลิสต์\n"
   ]
  },
  {
   "cell_type": "code",
   "execution_count": null,
   "metadata": {
    "id": "XQAPPez-3v3g"
   },
   "outputs": [],
   "source": [
    "# ใช้ loop\n",
    "\n",
    "a = [5, 4, 10, 7, 1, 8, 3, 2]\n",
    "b = [i for i in a if i > 5]\n",
    "c = [i for i in a if i <= 5]\n",
    "print(b)\n",
    "print(c)"
   ]
  },
  {
   "cell_type": "code",
   "execution_count": null,
   "metadata": {
    "id": "ZaIme3OKBHZ8"
   },
   "outputs": [],
   "source": [
    "# ใช้ filter()\n",
    "\n",
    "a = [5, 4, 10, 7, 1, 8, 3, 2]\n",
    "b = filter(lambda x: x > 5, a)\n",
    "c = filter(lambda x: x <= 5, a)\n",
    "\n",
    "print(list(b))\n",
    "print(list(c))"
   ]
  },
  {
   "cell_type": "markdown",
   "metadata": {
    "id": "Y5SlkRHkhnbp"
   },
   "source": [
    "### List Mehod ที่ใช้งานบ่อย\n",
    "\n"
   ]
  },
  {
   "cell_type": "markdown",
   "metadata": {
    "id": "UuK9OqKTht-8"
   },
   "source": [
    "| Method | Description |\n",
    "|:---------:|:--------:|\n",
    "| append()\t| add an item to the end of the list |\n",
    "| extend()\t| add all the items of an iterable to the end of the list |\n",
    "|insert()\t| inserts an item at the specified index |\n",
    "| remove()\t| removes item present at the given index |\n",
    "| pop()\t| returns and removes item present at the given index |\n",
    "| clear()\t| removes all items from the list |\n",
    "| index()\t| returns the index of the first matched item |\n",
    "| count()\t| returns the count of the specified item in the list |\n",
    "| sort()\t| sort the list in ascending/descending order |\n",
    "| reverse()\t| reverses the item of the list|\n",
    "| copy()\t| returns the shallow copy of the list|\n",
    "\n",
    "\n"
   ]
  },
  {
   "cell_type": "markdown",
   "metadata": {
    "id": "IjFNt9_Q-zHe"
   },
   "source": [
    "<hr>"
   ]
  },
  {
   "cell_type": "markdown",
   "metadata": {
    "id": "MMW6oeE2_JFE"
   },
   "source": [
    "## Tuple"
   ]
  },
  {
   "cell_type": "markdown",
   "metadata": {
    "id": "I9WUAlGY_NP5"
   },
   "source": [
    "ในการเขียนโปรแกรมภาษาไพธอนนั้น Tuple จะมีความคล้ายกับ List แต่ความแตกต่างระหว่างของทั้งสอง คือการที่เราไม่สามารถเปลี่ยนแปลงข้อมูลสมาชิกของ Tuple ได้ ซึ่งแตกต่างกับ List ที่สามารถเปลี่ยนแปลงค่าข้อมูลสมาชิกภายใน List ได้ตลอดเวลา\n",
    "\n"
   ]
  },
  {
   "cell_type": "markdown",
   "metadata": {
    "id": "FQFLVh1c_k4G"
   },
   "source": [
    "### ข้อดีของ Tuple\n",
    "\n",
    "โดย Tuples นั้นค่อนข้างคล้ายกับ List ซึ่งทั้งสองจะสามารถใช้งานได้คล้ายกัน\n",
    "\n",
    "อย่างไรก็ตามมีข้อดีบางอย่างในการใช้งาน Tuple ที่เหนือกว่าการใช้งาน List ดังนี้ :\n",
    "\n",
    "1. โดยทั่วไปเราใช้ Tuple สำหรับประเภทข้อมูลที่แตกต่างกัน และ List สำหรับประเภทข้อมูลที่เหมือนกัน (หรือคล้ายกัน)\n",
    "\n",
    "2. เนื่องจาก Tuple จะไม่มีการเปลี่ยนแปลงข้อมูล การทำงานวนซ้ำ (Itering) บน Tuple จะเร็วกว่า List ซึ่งเป็นการเพิ่มประสิทธิภาพการทำงานขึ้นเล็กน้อย\n",
    "\n",
    "3. Tuples มีข้อมูลสมาชิกที่คงที่ ไม่มีการเปลี่ยนแปลง ทำให้สามารถใช้เป็นคีย์สำหรับพจนานุกรมได้ ซึ่งต่างจาก List ที่ไม่สามารถทำได้\n",
    "\n",
    "4. หากมีข้อมูลที่ไม่ต้องการให้ทำการเปลี่ยนแปลง การนำ Tuple มาใช้งานจะรับประกันได้ว่าจะสามารถป้องกันการเขียน หรือแก้ไขข้อมูลสมาชิกได้"
   ]
  },
  {
   "cell_type": "markdown",
   "metadata": {
    "id": "IIDcq8uR_rMP"
   },
   "source": [
    "### การสร้าง Tuple\n",
    "\n",
    "Tuple จะถูกสร้างขึ้นโดยวางข้อมูลสมาชิกทั้งหมดไว้ในวงเล็บ () โดยคั่นด้วยเครื่องหมายจุลภาค\n",
    "\n",
    "ภายใน Tuple สามารถมีข้อมูลสมาชิกที่เป็น List ได้หลาย List และอาจมีข้อมูลได้หลายประเภทข้อมูล (integer, float, list, string เป็นต้น)"
   ]
  },
  {
   "cell_type": "code",
   "execution_count": null,
   "metadata": {
    "id": "3CB7OuLJ-wcy"
   },
   "outputs": [],
   "source": [
    "# empty tuple\n",
    "# Output: ()\n",
    "my_tuple = () # []\n",
    "print(my_tuple)\n",
    "\n",
    "# tuple having integers\n",
    "# Output: (1, 2, 3)\n",
    "my_tuple = (1, 2, 3)\n",
    "print(my_tuple)\n",
    "\n",
    "# tuple with mixed datatypes\n",
    "# Output: (1, \"Hello\", 3.4)\n",
    "my_tuple = (1, \"Hello\", 3.4)\n",
    "print(my_tuple)\n",
    "\n",
    "# nested tuple\n",
    "# Output: (\"mouse\", [8, 4, 6], (1, 2, 3))\n",
    "my_tuple = (\"mouse\", [8, 4, 6], (1, 2, 3))\n",
    "print(my_tuple)\n",
    "\n",
    "# tuple can be created without parentheses\n",
    "# also called tuple packing\n",
    "# Output: 3, 4.6, \"dog\"\n",
    "\n",
    "my_tuple = 3, 4.6, \"dog\"\n",
    "print(my_tuple)\n",
    "\n",
    "# tuple unpacking is also possible\n",
    "# Output:\n",
    "# 3\n",
    "# 4.6\n",
    "# dog\n",
    "a, b, c = my_tuple\n",
    "print(a)\n",
    "print(b)\n",
    "print(c)"
   ]
  },
  {
   "cell_type": "markdown",
   "metadata": {
    "id": "Kp5IkZlg_1rE"
   },
   "source": [
    "### ข้อสังเกตุในการสร้าง Tuple\n",
    "\n",
    "การสร้าง Tuple ที่มีข้อมูลสมาชิกเพียง 1 ตัวนั้น มีข้อน่าสังเกตุ คือ หากใส่ข้อมูลเข้าไปเครื่องหมาย ( ) เลยจะทำให้ตัวแปรภาษาทำการตีความหมายผิดไป จึงจำเป็นจะต้องมีเครื่องหมายจุลภาคต่อท้ายข้อมูลสมาชิกนั้นด้วย เพื่อบ่งบอกว่าสิ่งที่เราสร้างขึ้นนั้นเป็น Tuple"
   ]
  },
  {
   "cell_type": "code",
   "execution_count": null,
   "metadata": {
    "id": "hPBExfbs_wcp"
   },
   "outputs": [],
   "source": [
    "# only parentheses is not enough\n",
    "# Output: <class 'str'>\n",
    "my_tuple = (\"hello\")\n",
    "print(type(my_tuple))\n",
    "\n",
    "# need a comma at the end\n",
    "# Output: <class 'tuple'>\n",
    "my_tuple = (\"hello\",)\n",
    "print(type(my_tuple))\n",
    "\n",
    "# parentheses is optional\n",
    "# Output: <class 'tuple'>\n",
    "my_tuple = \"hello\",\n",
    "print(type(my_tuple))"
   ]
  },
  {
   "cell_type": "markdown",
   "metadata": {
    "id": "urR_dY3FAhXG"
   },
   "source": [
    "### การเปลี่ยนแปลง Tuple\n",
    "\n",
    "Tuple นั้นจะมีลักษณะคงที่ไม่สามารถทำการเปลี่ยนแปลงค่าของสมาชิกหลังจากถูกสร้างขึ้น\n",
    "\n",
    "ซึ่งหมายความว่าข้อมูลสมาชิกของ Tuple ไม่สามารถเปลี่ยนแปลงได้เมื่อมีการกำหนดค่าแล้ว แต่ถ้าข้อมูลสมาชิกภายใน Tuple นั้นเป็นข้อมูลประเภทที่แก้ไขค่าได้เช่น List จะสามารถเปลี่ยนแปลงได้ค่าที่อยู่ภายใน List นั้นได้"
   ]
  },
  {
   "cell_type": "code",
   "execution_count": null,
   "metadata": {
    "id": "6J73V_Wx_7oo"
   },
   "outputs": [],
   "source": [
    "my_tuple = (4, 2, 3, [6, 5])\n",
    "\n",
    "# เราไม่สามารถเปลี่ยนองค์ประกอบได้\n",
    "\n",
    "# หากคุณยกเลิกการ comment คำสั่งด้านล่าง\n",
    "# คุณจะได้รับข้อความแจ้งข้อผิดพลาด:\n",
    "# TypeError: 'tuple' object does not support item assignment\n",
    "\n",
    "#my_tuple [1] = 9\n",
    "\n",
    "# แต่รายการขององค์ประกอบที่เปลี่ยนแปลงได้สามารถเปลี่ยนแปลงได้\n",
    "# ผลลัพธ์: (4, 2, 3, [9, 5])\n",
    "my_tuple[3][0] = 9\n",
    "print(my_tuple)\n",
    "\n",
    "# tuples สามารถกำหนดใหม่ได้\n",
    "# ผลลัพธ์: ('p', 'r', 'o', 'g', 'r', 'a', 'm', 'i', 'z')\n",
    "my_tuple = ('p', 'r', 'o', 'g', 'r', 'a', 'm', 'i', 'z')\n",
    "print(my_tuple)"
   ]
  },
  {
   "cell_type": "code",
   "execution_count": null,
   "metadata": {
    "id": "Zef7f1VVAnY1"
   },
   "outputs": [],
   "source": [
    "my_tuple [1] = 9"
   ]
  },
  {
   "cell_type": "markdown",
   "metadata": {
    "id": "Q6grBLkkBI6o"
   },
   "source": [
    "เราสามารถใช้ตัวดำเนินการบวก ( + ) เพื่อรวม Tuple ซึ่งการดำเนินการนี้เรียกว่า Concatenation\n",
    "\n",
    "นอกจากนี้เราสามารถทำซ้ำข้อมูลสมาชิกภายใน Tuple ตามจำนวนครั้งที่ต้องการ โดยใช้ตัวดำเนินการคูณ ( * )\n",
    "\n",
    "โดยผลการดำเนินงานทั้ง + และ * เป็น Tuple ชุดใหม่"
   ]
  },
  {
   "cell_type": "code",
   "execution_count": null,
   "metadata": {
    "id": "chrN-1udBCY7"
   },
   "outputs": [],
   "source": [
    "# Concatenation\n",
    "\n",
    "# ผลลัพธ์: (1, 2, 3, 4, 5, 6)\n",
    "print((1, 2, 3) + (4, 5, 6))\n",
    "\n",
    "# Repeat\n",
    "# ผลลัพธ์: ('Repeat', 'Repeat', 'Repeat')\n",
    "print((\"Repeat\",) * 3)"
   ]
  },
  {
   "cell_type": "markdown",
   "metadata": {
    "id": "EnglPJ7NBSfi"
   },
   "source": [
    "### การลบ Tuple\n",
    "\n",
    "ตามที่กล่าวไว้ข้างต้นเราไม่สามารถเปลี่ยนแปลงข้อมูลสมาชิกภายใน Tuple ได้ นั่นหมายความว่าเราไม่สามารถลบหรือนำข้อมูลออกจาก Tuple ได้\n",
    "\n",
    "แต่ลบสามารถลบ Tuple ทั้งหมดเป็นไปได้โดยใช้คำหลัก del"
   ]
  },
  {
   "cell_type": "code",
   "execution_count": null,
   "metadata": {
    "id": "TfnN49gkBM2i"
   },
   "outputs": [],
   "source": [
    "my_tuple = ('p', 'r', 'o', 'g', 'r', 'a', 'm', 'i', 'z')\n",
    "\n",
    "# ไม่สามารถลบรายการได้\n",
    "# ถ้ายกเลิกการ comment คำสั่งด้านล่าง,\n",
    "# คุณจะได้รับข้อความแจ้งข้อผิดพลาด:\n",
    "# TypeError: 'tuple' object doesn't support item deletion\n",
    "\n",
    "#del my_tuple [3]\n",
    "\n",
    "# สามารถลบ Tuple ทั้งหมดได้\n",
    "# NameError: name 'my_tuple' is not defined\n",
    "del my_tuple\n",
    "\n",
    "my_tuple"
   ]
  },
  {
   "cell_type": "markdown",
   "metadata": {
    "id": "ZrTfnJIODPtx"
   },
   "source": [
    "## Dictionary"
   ]
  },
  {
   "cell_type": "markdown",
   "metadata": {
    "id": "TjcSHfo1DURs"
   },
   "source": [
    "### Dictionary ในภาษา Python คืออะไร\n",
    "\n",
    "Dictionary หรือ พจนานุกรมในภาษา Python คือชุดของข้อมูลที่ไม่มีลำดับ โดยพจนานุกรมจะแตกต่างจากชนิดข้มูลอื่น ๆ ซึ่งจะมีเพียงแค่ข้อมูลเป็นสมาชิกภายในเท่านั้น แต่ว่าพจนานุกรมนั้นข้อมูลสมาชิกแต่ละตัวจะประกอบไปด้วยคู่ของ คีย์ : ค่าข้อมูล\n",
    "\n",
    "เราสามารถเข้าถึงค่าข้อมูลสมาชิกภายในพจนานุกรมได้ก็ต่อเมื่อเราทราบคีย์ที่ในอ้างอิงถึงข้อมูลนั้น\n",
    "\n"
   ]
  },
  {
   "cell_type": "markdown",
   "metadata": {
    "id": "z7CvsPGpDeQK"
   },
   "source": [
    "### วิธีการสร้างพจนานุกรม?\n",
    "การสร้างพจนานุกรมทำได้ง่าย เพียงแค่วางข้อมูลสมาชิกภายในวงเล็บปีกกา {} โดยคั่นด้วยเครื่องหมายจุลภาค\n",
    "\n",
    "รายการมีคีย์และค่าข้อมูลสมาชิก ที่สอดคล้องกันแสดงเป็นคู่ คือ คีย์ : ค่า\n",
    "\n",
    "แม้ว่าค่าจะเป็นชนิดข้อมูลใดก็ตามและสามารถทำซ้ำได้ คีย์ต้องเป็นประเภทที่ไม่เปลี่ยนรูป (สตริง, จำนวน, หรือ tuple ที่มีองค์ประกอบไม่เปลี่ยนรูป) และต้องไม่ซ้ำกัน"
   ]
  },
  {
   "cell_type": "code",
   "execution_count": null,
   "metadata": {
    "id": "LASx6bW8BYCU"
   },
   "outputs": [],
   "source": [
    "# empty dictionary\n",
    "my_dict = {}\n",
    "\n",
    "my_dict = {\"key\": \"value\"}\n",
    "\n",
    "my_dic = {\"name\": \"Phisan\", 'last_name': 'Sookkhee'}\n",
    "\n",
    "# dictionary with integer keys\n",
    "my_dict = {1: 'apple', 2: 'ball'}\n",
    "\n",
    "# dictionary with mixed keys\n",
    "my_dict = {'name': 'John', 1: [2, 4, 3]}\n",
    "\n",
    "# using dict()\n",
    "my_dict = dict({1:'apple', 2:'ball'})\n",
    "\n",
    "# from sequence having each item as a pair\n",
    "my_dict = dict([(1,'apple'), (2,'ball')])"
   ]
  },
  {
   "cell_type": "code",
   "execution_count": null,
   "metadata": {
    "id": "UablrGc7Di-f"
   },
   "outputs": [],
   "source": [
    "'''\n",
    "non-structure data\n",
    "นักศึกษาคนที่ 1 นายพิศาล สุขขี รหัส 123456\n",
    "นักศึกษาคนที่ 2 นายสายฟ้า ธานี รหัส 098764222\n",
    "นักศึกษาคนที่ 3 เจษฎา ตอนศรี รหัส 9999282727\n",
    "'''\n",
    "\n",
    "# structure data\n",
    "my_students = {\n",
    "    '123456' : {\n",
    "        'name': 'นายพิศาล',\n",
    "        'lname': 'สุขขี',\n",
    "    },\n",
    "    '098764222': {\n",
    "        'name': 'สายฟ้า',\n",
    "        'lname': 'ธานี',\n",
    "    },\n",
    "    '9999282727': {\n",
    "        'name': 'เจษฎา',\n",
    "        'lname': 'ตอนศรี',\n",
    "    }\n",
    "}"
   ]
  },
  {
   "cell_type": "code",
   "execution_count": null,
   "metadata": {
    "id": "vFHw3FhrDpCJ"
   },
   "outputs": [],
   "source": [
    "my_students.get('123456').get('name')"
   ]
  },
  {
   "cell_type": "markdown",
   "metadata": {
    "id": "GO7IYSKfDwSc"
   },
   "source": [
    "### วิธีการเข้าถึงข้อมูลสมาชิกภายในพจนานุกรม\n",
    "\n",
    "แม้ว่าการจัดทำดัชนีจะมีลักษณะคล้ายกับข้อมูลประเภทอื่น ๆ ในการเข้าถึงค่าข้อมูลสมาชิกในพจนานุกรมจะใช้คีย์ คีย์สามารถใช้ได้ทั้งภายในวงเล็บเหลี่ยม หรือด้วยเมธอด get( )\n",
    "\n",
    "ความแตกต่างในขณะที่ใช้ get( ) คือจะทำการส่งกลับค่า None แทนที่จะเป็น KeyError ถ้าหากไม่พบคีย์"
   ]
  },
  {
   "cell_type": "code",
   "execution_count": null,
   "metadata": {
    "id": "b06EVNI3Dpc9"
   },
   "outputs": [],
   "source": [
    "my_dict = {'name':'Jack', 'age': 26}\n",
    "\n",
    "# Output: Jack\n",
    "print(my_dict['name'])\n",
    "\n",
    "# Output: 26\n",
    "print(my_dict.get('age'))\n",
    "\n",
    "# Trying to access keys which doesn't exist throws error\n",
    "# my_dict.get('address')\n",
    "# my_dict['address']"
   ]
  },
  {
   "cell_type": "code",
   "execution_count": null,
   "metadata": {
    "id": "eLeBY9XHD0u2"
   },
   "outputs": [],
   "source": [
    "profile = {\n",
    "    \"name\": \"Phisan\",\n",
    "    \"lname\": \"Sookkhee\",\n",
    "    \"age\": 18,\n",
    "}\n",
    "\n",
    "profile.get(\"age\")"
   ]
  },
  {
   "cell_type": "markdown",
   "metadata": {
    "id": "bqmcdBA0LH1x"
   },
   "source": [
    "### วิธีเปลี่ยนหรือเพิ่มข้อมูลสมาชิกในพจนานุกรม\n",
    "\n",
    "พจนานุกรมสามารถเปลี่ยนแปลงค่าข้อมูลสมาชิกได้\n",
    "\n",
    "เราสามารถเพิ่มข้อมูลใหม่ หรือเปลี่ยนค่าของข้อมูลที่มีอยู่โดยใช้โอเปอเรเตอร์กำหนดค่า ( = )\n",
    "\n",
    "หากว่ามีคีย์อยู่แล้วในพจนานุกรม ค่าของข้อมูลใหม่จะได้รับการอัพเดตในคีย์ที่มีอยู่เดิม แต่หากไม่มีคีย์นั้นอยู่จะมีการเพิ่มคีย์ใหม่ : ค่าลงในพจนานุกรม"
   ]
  },
  {
   "cell_type": "code",
   "execution_count": null,
   "metadata": {
    "id": "ggfFyNp9D3EH"
   },
   "outputs": [],
   "source": [
    "my_dict = {'name': 'Jack', 'age': 26}\n",
    "\n",
    "# update value\n",
    "my_dict ['age'] = 27\n",
    "\n",
    "#Output: {'age': 27, 'name': 'Jack'}\n",
    "print(my_dict)\n",
    "\n",
    "# เพิ่มรายการ\n",
    "my_dict ['address'] = 'Downtown'\n",
    "\n",
    "# ผลลัพธ์: {'address': 'Downtown', 'age': 27, 'name': 'Jack'}\n",
    "print(my_dict)"
   ]
  },
  {
   "cell_type": "code",
   "execution_count": null,
   "metadata": {
    "id": "2ySchb6LLOKb"
   },
   "outputs": [],
   "source": [
    "my_dict = {'name': 'Jack', 'age': 26}\n",
    "my_dict[\"address\"] = \"40/6\"\n",
    "my_dict['age'] = 18"
   ]
  },
  {
   "cell_type": "code",
   "execution_count": null,
   "metadata": {
    "id": "yPz2N3VNLQDN"
   },
   "outputs": [],
   "source": [
    "my_dict"
   ]
  },
  {
   "cell_type": "markdown",
   "metadata": {
    "id": "P6s7TPSHLXB4"
   },
   "source": [
    "### การลบพจนานุกรม หรือลบข้อมูลสมาชิกออกจากพจนานุกรม\n",
    "\n",
    "เราสามารถลบข้อมูลสมาชิกในพจนานุกรมโดยใช้เมธอด pop( ) โดยวิธีนี้จะทำการลบข้อมูลสมาชิกผ่านคีย์ที่ระบุและส่งคืนค่าออกมาจากพจนานุกรม\n",
    "\n",
    "และเราสามารถใช้เมทธอด popitem( ) เพื่อลบและส่งคืนค่าข้อมูลสมาชิกที่กำหนดเอง (อ้างอิงจากคีย์) จากพจนานุกรม\n",
    "\n",
    "และสามารถลบข้อมูลทั้งหมดออกได้ในครั้งเดียวโดยใช้เมธอด clear( )\n",
    "\n",
    "นอกจากนี้เรายังสามารถใช้คำสำคัญ del เพื่อลบทั้งพจนานุกรมด้วย"
   ]
  },
  {
   "cell_type": "code",
   "execution_count": null,
   "metadata": {
    "id": "8SSPZ4gMLTti"
   },
   "outputs": [],
   "source": [
    "# create a dictionary\n",
    "squares = {1:1, 2:4, 3:9, 4:16, 5:25}\n",
    "\n",
    "# remove a particular item\n",
    "# Output: 16\n",
    "print(squares.pop(4))\n",
    "\n",
    "# Output: {1: 1, 2: 4, 3: 9, 5: 25}\n",
    "print(squares)\n",
    "\n",
    "# remove an arbitrary item\n",
    "# Output: (1, 1)\n",
    "print(squares.popitem())\n",
    "\n",
    "# Output: {2: 4, 3: 9, 5: 25}\n",
    "print(squares)\n",
    "\n",
    "# Output: {2: 4, 3: 9}\n",
    "print(squares)\n",
    "\n",
    "# remove all items\n",
    "squares.clear()\n",
    "\n",
    "# Output: {}\n",
    "print(squares)\n",
    "\n",
    "# delete the dictionary itself\n",
    "del squares"
   ]
  },
  {
   "cell_type": "code",
   "execution_count": null,
   "metadata": {
    "id": "SbQnK62uLfo6"
   },
   "outputs": [],
   "source": [
    "my_dict = {'name': 'Jack', 'age': 18, 'address': '40/6'}\n",
    "\n",
    "del my_dict[\"address\"]"
   ]
  },
  {
   "cell_type": "code",
   "execution_count": null,
   "metadata": {
    "id": "a6zQm6EhLeYm"
   },
   "outputs": [],
   "source": [
    "my_dict"
   ]
  },
  {
   "cell_type": "markdown",
   "metadata": {
    "id": "IGjMUQD1vuaj"
   },
   "source": [
    "---\n",
    "ข้อสังเกตุ :\n",
    "---"
   ]
  },
  {
   "cell_type": "code",
   "execution_count": null,
   "metadata": {
    "id": "tS5YqNGEv_fw"
   },
   "outputs": [],
   "source": [
    "my_dict = {'name': 'Jack', 'age': 18, 'address': '40/6'}\n",
    "\n",
    "new_dict = my_dict\n",
    "\n",
    "new_dict['name'] = 'Phisan'\n",
    "\n",
    "my_dict"
   ]
  },
  {
   "cell_type": "code",
   "execution_count": null,
   "metadata": {
    "id": "_1iE7KlHwNeG"
   },
   "outputs": [],
   "source": [
    "my_dict = {'name': 'Jack', 'age': 18, 'address': '40/6'}\n",
    "\n",
    "new_dict = my_dict.copy()\n",
    "\n",
    "new_dict['name'] = 'Phisan'\n",
    "\n",
    "my_dict"
   ]
  },
  {
   "cell_type": "markdown",
   "metadata": {
    "id": "SZPZrThBwOL2"
   },
   "source": [
    "---"
   ]
  },
  {
   "cell_type": "markdown",
   "metadata": {
    "id": "H9nAijcALr_m"
   },
   "source": [
    "## Set\n",
    "\n",
    "เซต (Set) คือ\n",
    "\n",
    "เซตในภาษาไพธอนเป็นโครงสร้างข้อมูลที่เหมือนกันกับเซตทางคณิตศาสตร์ อาจประกอบด้วยข้อมูลสมาชิกต่าง ๆ โดยไม่คำนึงถึงลำดับในการจัดเก็บ และข้อมูลสมาชิกทุกตัวภายในเซตมีเอกลักษณ์ (ไม่มีรายการที่ซ้ำกัน)\n",
    "\n",
    "เราสามารถเพิ่มและลบข้อมูลสมาชิกของเซต เราสามารถใช้ข้อมูลสมาชิกของเชตในการทำซ้ำเช่นเดียวกับลิสต์ ตลอดจนสามารถใช้การดำเนินการมาตรฐานที่เกี่ยวกับเซต เช่น union, intersection, difference, symmetric difference นอกจากนั้นยังสามารถตรวจสอบว่าข้อมูลใด ๆ เป็นสมาชิกภายในเซตหรือไม่\n",
    "\n",
    "ลำดับของข้อมูลสมาชิกภายในเซตจะไม่ได้ถูกกำหนดไว้ และชนิดข้อมูลที่เปลี่ยนแปลงไม่ได้ใด ๆ สามารถเป็นเป็นองค์ประกอบของเซตได้ เช่น จำนวน, จำนวนจริง, ข้อความ, ทัพเพิล เป็นต้น ประเภทข้อมูลที่เปลี่ยนแปลงได้ ไม่สามารถเป็นองค์ประกอบของเซตได้ โดยเฉพาะอย่างยิ่ง ลิสต์ นั้นไม่สามารถเป็นข้อมูลสมาชิกของเซตได้ และเซตใด ๆ ไม่สามารถใช้เป็นข้อมูลสมาชิกภายในเซตอื่น ๆ ได้ นั่นคือ จะไม่มีเซตภายในเซตได้\n",
    "\n",
    "เซตสมารถสร้างขึ้นโดยการวางข้อมูลทั้งหมด (element) ภายในเครื่องหมายวงเล็บปีกกา {} คั่นด้วยเครื่องหมายจุลภาคหรือใช้ฟังก์ชั่น set()\n",
    "\n",
    "โดยเซตนั้นสามารถมีข้อมูลสมาชิกจำนวนมาก และอาจมีหลากหลายประเภท (จำนวน, จำนวนจริง, ข้อความ เป็นต้น) แต่สมาชิกภายในเซตต้องไม่เป็นข้อมูลประเภทที่มีขนาดไม่คงตัว เช่น ลิสต์ หรือ ดิกชันนารี"
   ]
  },
  {
   "cell_type": "code",
   "execution_count": null,
   "metadata": {
    "id": "qBtpC_VrLjzf"
   },
   "outputs": [],
   "source": [
    "# เซตของจำนวนเต็ม\n",
    "my_set = {1, 2, 3}\n",
    "print(my_set)\n",
    "\n",
    "# เซตที่มีข้อมูลสมาชิกหลากหลายประเภทข้อมูล\n",
    "my_set = {1.0, \"Hello\", (1, 2, 3)}\n",
    "print(my_set)"
   ]
  },
  {
   "cell_type": "code",
   "execution_count": null,
   "metadata": {
    "id": "t2LQYK-YL2_5"
   },
   "outputs": [],
   "source": [
    "# ข้อมูลสมาชิกภายในเซตจะไม่สามารถซ้ำกันได้\n",
    "my_set = {1,2,3,4,3,2}\n",
    "print(my_set)\n",
    "\n",
    "# สมาชิกภายในเซตต้องไม่เป็นข้อมูลประเภทที่แก้ไขได้\n",
    "# เช่น [3, 4] เป็นลิสต์ที่แก้ไขได้\n",
    "\n",
    "# บรรทัดที่ 11 จะทำให้เกิดข้อผิดพลาด\n",
    "#เพราะไม่สามารถใช้ลิสต์ในการเป็นข้อมูลสมาชิกภายในเซต\n",
    "# TypeError: unhashable type: 'list'\n",
    "my_set = {1, 2, [3, 4]}\n",
    "\n",
    "# เราสามารถสร้างเซตจากลิสต์ได้เลย\n",
    "# Output: {1, 2, 3}\n",
    "my_set = set([1,2,3,2])\n",
    "print(my_set)"
   ]
  },
  {
   "cell_type": "markdown",
   "metadata": {
    "id": "nNPEJ0PMMGdL"
   },
   "source": [
    "การสร้างเซตที่ว่างเปล่าจะมีความยุ่งยากเล็กน้อย\n",
    "\n",
    "การใช้วงเล็บปีกกาที่ว่างเปล่า {} เพื่อประกาศตัวแปร จะทำให้เกิดพจนานุกรมว่างเปล่าในภาษาไพธอน (ไม่ใช่เซต)\n",
    "\n",
    "ดังนั้นเมื่อต้องการสร้างเซตเปล่า ๆ ที่ไม่มีข้อมูลสมาชิกใด ๆ ภายในเซต เราจะใช้ฟังก์ชัน set () โดยไม่มีอาร์กิวเมนต์ใด ๆ แทน {}"
   ]
  },
  {
   "cell_type": "code",
   "execution_count": null,
   "metadata": {
    "id": "YAcbXAqcL45Z"
   },
   "outputs": [],
   "source": [
    "# initialize a with {}\n",
    "a = {}\n",
    "\n",
    "# check data type of a\n",
    "# Output: <class 'dict'>\n",
    "print(type(a))\n",
    "\n",
    "# initialize a with set()\n",
    "a = set()\n",
    "\n",
    "# check data type of a\n",
    "# Output: <class 'set'>\n",
    "print(type(a))"
   ]
  },
  {
   "cell_type": "markdown",
   "metadata": {
    "id": "7UBJXFV1MMBs"
   },
   "source": [
    "### วิธีการแก้ไขเซตในภาษาไพธอน\n",
    "\n",
    "สำหรับเซตนั้น ข้อมูลสมาชิกภายในเซตถูกจัดเก็บอย่างไม่เป็นลำดับ ดังนั้นจัดทำดัชนีเพื่ออ้างอิงถึงข้อมูลสมาชิกแต่ละตัวจึงไม่มีความหมาย\n",
    "\n",
    "เราไม่สามารถเข้าถึงหรือเปลี่ยนข้อมูลสมาชิกของเซตโดยใช้การจัดทำดัชนีหรือการหั่นส่วน ซึ่งเป็นการดำเนินการที่เซตไม่ให้การรองรับ\n",
    "\n",
    "เราสามารถเพิ่มข้อมูลสมาชิกเพียงหนึ่งตัวโดยใช้เมธอด add() และ ข้อมูลสมาชิกหลายตัวโดยใช้เมธอด update() ในการ update() สามารถใช้ tuples, list, strings หรือ other sets เป็นอาร์กิวเมนต์ได้ ซึ่งจะต้องหลีกเลี่ยงความซ้ำซ้อนของข้อมูล"
   ]
  },
  {
   "cell_type": "code",
   "execution_count": null,
   "metadata": {
    "id": "f8ymxhyBMIpO"
   },
   "outputs": [],
   "source": [
    "# ตั้งต่าเริ่มต้นให้ตัวแปร\n",
    "my_set = {1,3}\n",
    "print(my_set)\n",
    "\n",
    "# หากเปิด comment ในบรรทัดที่ 8 จะพบ Error\n",
    "# TypeError: 'set' object does not support indexing\n",
    "\n",
    "# my_set[0]\n",
    "\n",
    "# เพ่ิมข้อมูล 1 ตัวเข้าสู่เซต\n",
    "# ผลลัพธ์: {1, 2, 3}\n",
    "my_set.add(2)\n",
    "print(my_set)\n",
    "\n",
    "# เพ่ิมข้อมูลหลายตัวเข้าสู่เซต\n",
    "# ผลลัพธ์: {1, 2, 3, 4}\n",
    "my_set.update([2,3,4])\n",
    "print(my_set)\n",
    "\n",
    "# เพิ่มข้อมูลหลายตัวจากลิสต์ และเซต\n",
    "# Output: {1, 2, 3, 4, 5, 6, 8}\n",
    "my_set.update([4,5], {1,6,8})\n",
    "print(my_set)"
   ]
  },
  {
   "cell_type": "markdown",
   "metadata": {
    "id": "f3oVaUI5MYAW"
   },
   "source": [
    "### การลบข้อมูลสมาชิกภายในเซต\n",
    "\n",
    "ข้อมูลสมาชิกของเซตสามารถที่จะถูกลบออกจากเซตได้โดยใช้เมธอด discard() และ remove()\n",
    "\n",
    "ข้อแตกต่างระหว่างสองคือในขณะที่ใช้ discard() หากไม่มีรายการอยู่ในเซ็ตก็จะไม่มีการเปลี่ยนแปลง remove() จะทำให้เกิดข้อผิดพลาดในสภาพดังกล่าว\n",
    "\n",
    "ดังแสดงได้ในตัวอย่างด้านล่าง"
   ]
  },
  {
   "cell_type": "code",
   "execution_count": null,
   "metadata": {
    "id": "ykibBo8dMUUl"
   },
   "outputs": [],
   "source": [
    "# กำหนดค่าเริ่มต้นให้กับตัวแปร my_set\n",
    "my_set = {1, 3, 4, 5, 6}\n",
    "print(my_set)\n",
    "\n",
    "# การลบข้อมูลสมาชิกโดยใช้เมธอด discard()\n",
    "# Output: {1, 3, 5, 6}\n",
    "my_set.discard(4)\n",
    "print(my_set)\n",
    "\n",
    "# การลบข้อมูลสมาชิกโดยใช้เมธอด remove()\n",
    "# Output: {1, 3, 5}\n",
    "my_set.remove(6)\n",
    "print(my_set)\n",
    "\n",
    "# การลบข้อมูลสมาชิกที่ไม่ปรากฏอยู่ในเซต\n",
    "# โดยใช้เมธอด discard()\n",
    "# Output: {1, 3, 5}\n",
    "my_set.discard(2)\n",
    "print(my_set)\n",
    "\n",
    "# การลบข้อมูลสมาชิกที่ไม่ปรากฏอยู่ในเซต\n",
    "# โดยใช้เมธอด remove()\n",
    "# จะมทำให้ปรากฏ Error\n",
    "# Output: KeyError: 2\n",
    "\n",
    "my_set.remove(2)"
   ]
  },
  {
   "cell_type": "markdown",
   "metadata": {
    "id": "s-tP0IQMMorJ"
   },
   "source": [
    "ในทำนองเดียวกันเราสามารถลบและส่งคืนค่าข้อมูลสมาชิกได้โดยใช้เมธอด pop ()\n",
    "\n",
    "แต่เนื่องด้วยข้อมูลภายในเซตถูกจัดเก็บอย่างไม่เป็นลำดับ ทำให้ไม่สามารถคาดคะเนล่วงหน้าได้ว่าผลของการใช้เมธอด pop() นั้นจะทำให้ได้ข้อมูลอะไรออกมาในขณะนั้น\n",
    "\n",
    "และนอกจากนี้เรายังสามารถลบรายการทั้งหมดออกจากเซตโดยใช้เมธอด clear ()"
   ]
  },
  {
   "cell_type": "code",
   "execution_count": null,
   "metadata": {
    "id": "4sldD3N3MeZ_"
   },
   "outputs": [],
   "source": [
    "# ผลลัพธ์: เซตที่มีข้อมูลสมาชิกที่ไม่ซ้ำกัน\n",
    "my_set = set(\"HelloWorld\")\n",
    "print(my_set)\n",
    "\n",
    "# ทำการ pop() ข้อมูลภายในเซต\n",
    "# ผลลัพธ์: ข้อมูลถูก pop() แบบสุ่ม\n",
    "print(my_set.pop())\n",
    "\n",
    "# pop() ข้อมูล\n",
    "my_set.pop()\n",
    "print(my_set)\n",
    "\n",
    "# ล้างข้อมูลภายในเซตทั้งหมด\n",
    "# ผลลัพธ์: set() - เซตว่าง\n",
    "my_set.clear()\n",
    "print(my_set)"
   ]
  },
  {
   "cell_type": "markdown",
   "metadata": {
    "id": "WM2i4RTLM2F0"
   },
   "source": [
    "### การดำเนินการกับเซต\n",
    "\n",
    "เซตสามารถนำไปใช้ในการดำเนินการทางคณิตศาสตร์ได้ เช่น union, intersection, difference and symmetric difference\n",
    "\n",
    "ลองพิจารณาการดำเนินการระหว่างเซต 2 เซตต่อไปนี้"
   ]
  },
  {
   "cell_type": "code",
   "execution_count": null,
   "metadata": {
    "id": "SDpCrkUJMtOe"
   },
   "outputs": [],
   "source": [
    "A = {1, 2, 3, 4, 5}\n",
    "B = {4, 5, 6, 7, 8}"
   ]
  },
  {
   "cell_type": "markdown",
   "metadata": {
    "id": "TBVcDkSQM9N6"
   },
   "source": [
    "### Set Union\n",
    "\n",
    "union ของเซต A และเซต B คือ เซตที่ประกอบไปด้วยข้อมูลสมาชิกจากเชต A และเซต B\n",
    "\n",
    "union สมารถดำเนินการโดยใช้เครื่องหมาย | หรือสามารถดำเนินการได้โดยใช้เมธอด union()"
   ]
  },
  {
   "cell_type": "code",
   "execution_count": null,
   "metadata": {
    "id": "CyVyZxlFM540"
   },
   "outputs": [],
   "source": [
    "A = {1, 2, 3, 4, 5}\n",
    "B = {4, 5, 6, 7, 8}\n",
    "\n",
    "# ใช้ | operator\n",
    "print(A | B)"
   ]
  },
  {
   "cell_type": "code",
   "execution_count": null,
   "metadata": {
    "id": "DEzvD5nnNFKT"
   },
   "outputs": [],
   "source": [
    "A.union(B)"
   ]
  },
  {
   "cell_type": "code",
   "execution_count": null,
   "metadata": {
    "id": "4G7EJMqiNJDx"
   },
   "outputs": [],
   "source": [
    "B.union(A)"
   ]
  },
  {
   "cell_type": "markdown",
   "metadata": {
    "id": "9HS_ktueNQB7"
   },
   "source": [
    "### Set Intersection\n",
    "\n",
    "Intersection ของเซต A และเซต B คือ เซตของข้อมูลสมาชิกที่มีอยู่ในเซต A และเซต B\n",
    "\n",
    "การ Intersection สามารถดำเนินการโดยใช้เครื่องหมาย & หรือสามารถทำได้โดยใช้เมธอด intersection()"
   ]
  },
  {
   "cell_type": "code",
   "execution_count": null,
   "metadata": {
    "id": "pcHRdpUqNKZR"
   },
   "outputs": [],
   "source": [
    "A = {1, 2, 3, 4, 5}\n",
    "B = {4, 5, 6, 7, 8}\n",
    "\n",
    "# ใช้ & operator\n",
    "print(A & B)"
   ]
  },
  {
   "cell_type": "code",
   "execution_count": null,
   "metadata": {
    "id": "fhChKq0INV3D"
   },
   "outputs": [],
   "source": [
    "A.intersection(B)"
   ]
  },
  {
   "cell_type": "markdown",
   "metadata": {
    "id": "VPpIA4I9NcyZ"
   },
   "source": [
    "### ความต่างระหว่างเซต\n",
    "\n",
    "ความต่างของเซต A และเซต B (A - B) คือเซตที่ประกอบไปด้วยข้อมูลสมาชิกที่อยู่ใน A แต่ไม่อยู่ใน B เช่นเดียวกัน B - A คือเซตที่ประกอบไปด้วยข้อมูลสมาชิกที่อยู่ใน B แต่ไม่อยู่ใน A\n",
    "\n",
    "การหาความต่างระหว่างเซตสามารถดำเนินการโดยใช้ตัวดำเนินการ - เช่นเดียวกันสามารถดำเนินการโดยใช้เมธอด difference()"
   ]
  },
  {
   "cell_type": "code",
   "execution_count": null,
   "metadata": {
    "id": "Nfd04N8VNX9v"
   },
   "outputs": [],
   "source": [
    "A = {1, 2, 3, 4, 5}\n",
    "B = {4, 5, 6, 7, 8}\n",
    "\n",
    "# ใช้ - operator on A\n",
    "print(A - B)"
   ]
  },
  {
   "cell_type": "code",
   "execution_count": null,
   "metadata": {
    "id": "Wx7IX_ohNhSo"
   },
   "outputs": [],
   "source": [
    "A.difference(B)"
   ]
  },
  {
   "cell_type": "code",
   "execution_count": null,
   "metadata": {
    "id": "RzJk8ENMNisM"
   },
   "outputs": [],
   "source": [
    "B - A"
   ]
  },
  {
   "cell_type": "code",
   "execution_count": null,
   "metadata": {
    "id": "C-3knGDGNj_w"
   },
   "outputs": [],
   "source": [
    "B - A"
   ]
  },
  {
   "cell_type": "markdown",
   "metadata": {
    "id": "UE2rMIqFPHm2"
   },
   "source": [
    "### ความต่างแบบสมมาตรระหว่างเซต\n",
    "\n",
    "ความแตกต่างแบบสมมาตรระหว่างเซต A และเซต B คือเซตของข้อมูลสมาชิกจากทั้งเซต A และเซต B ยกเว้นข้อมูลสมาชิกที่มีอยู่ทั่วไปในทั้งสองเซต\n",
    "\n",
    "ความแตกต่างแบบสมมาตรจะดำเนินการโดยใช้ตัวดำเนินการ ^ และสามารถทำได้โดยใช้เมธอด symmetric_difference()"
   ]
  },
  {
   "cell_type": "code",
   "execution_count": null,
   "metadata": {
    "id": "_0cFmJIMPNrs"
   },
   "outputs": [],
   "source": [
    "A = {1, 2, 3, 4, 5}\n",
    "B = {4, 5, 6, 7, 8}\n",
    "\n",
    "# ใช้ ^ operator\n",
    "print(A ^ B)"
   ]
  },
  {
   "cell_type": "code",
   "execution_count": null,
   "metadata": {
    "id": "LNn4IXfGNlig"
   },
   "outputs": [],
   "source": [
    "A.symmetric_difference(B)"
   ]
  },
  {
   "cell_type": "code",
   "execution_count": null,
   "metadata": {
    "id": "qoWGNiZEPQ9X"
   },
   "outputs": [],
   "source": [
    "B.symmetric_difference(A)"
   ]
  },
  {
   "cell_type": "markdown",
   "metadata": {
    "id": "X01ZZJs5PejG"
   },
   "source": [
    "<hr>"
   ]
  },
  {
   "cell_type": "markdown",
   "metadata": {
    "id": "IvifERzLPxd-"
   },
   "source": [
    "## แบบฝึกหัด"
   ]
  },
  {
   "cell_type": "markdown",
   "metadata": {
    "id": "xEqkZegcPxbp"
   },
   "source": [
    "1. จงนับจำนวนตัวลีเมอร์ ที่พบเห็นอยู่ภายใน List ว่าจะแต่ละสายพันธ์มีจำนวนเท่าใด\n",
    "\n"
   ]
  },
  {
   "cell_type": "code",
   "execution_count": null,
   "metadata": {
    "id": "-N0o8hU8PXAD"
   },
   "outputs": [],
   "source": [
    "lemurs = ['White-headed lemur', 'Gray-headed lemur',\n",
    "          'Common brown lemur', 'Collared brown lemur',\n",
    "          'Red lemur', 'Collared brown lemur', 'Red-fronted lemur',\n",
    "          'Red-bellied lemur', 'Collared brown lemur', 'Crowned lemur',\n",
    "          'Red lemur', 'Crowned lemur', 'Blue-eyed black lemur',\n",
    "          'Common brown lemur', 'Mongoose lemur', 'Common brown lemur',\n",
    "          \"Sanford's brown lemur\", 'White-headed lemur', 'Black lemur',\n",
    "          'Mongoose lemur', 'Red-bellied lemur', 'Red-fronted lemur',\n",
    "          'Blue-eyed black lemur', 'Collared brown lemur',\n",
    "          'Blue-eyed black lemur', 'White-headed lemur', 'Red lemur',\n",
    "          'Red-bellied lemur', 'Gray-headed lemur', 'Red-bellied lemur',\n",
    "          'Red lemur', 'Common brown lemur', 'Mongoose lemur', 'Red lemur',\n",
    "          'Common brown lemur', \"Sanford's brown lemur\"]"
   ]
  },
  {
   "cell_type": "code",
   "execution_count": null,
   "metadata": {
    "id": "08n-30fPib5z"
   },
   "outputs": [],
   "source": [
    "# คำตอบ\n",
    "# คำใบ้ ใช้ Dictionnary\n",
    "\n"
   ]
  },
  {
   "cell_type": "markdown",
   "metadata": {
    "id": "Y8GYo-q1ihTU"
   },
   "source": [
    "2. จงเขียน Function เพื่อนับจำนวน AT ที่อยู่ในสานอักขระ dna_seq\n",
    "\n",
    "\n",
    "\n",
    "```\n",
    "dna_seq = 'ACGCGCAGATAGGACGCAGGGAGGGAGGAGGTTTTAGAAGAGGATAGACCCA'\n",
    "```\n",
    "\n"
   ]
  },
  {
   "cell_type": "code",
   "execution_count": null,
   "metadata": {
    "id": "fJODY0afin9S"
   },
   "outputs": [],
   "source": [
    "# คำตอบ\n",
    "\n",
    "dna_seq = 'ACGCGCAGATAGGACGCAGGGAGGGAGGAGGTTTTAGAAGAGGATAGACCCA'\n",
    "\n"
   ]
  },
  {
   "cell_type": "markdown",
   "metadata": {
    "id": "hlyJA6eB6bCb"
   },
   "source": [
    "3. จงแปลงข้อมูลในตารางโครงสร้างให้อยู่ในรูปแบบ Dictionary\n",
    "\n",
    "| รหัสนักศึกษา | ชื่อ |           สกุล           |\n",
    "|:---------:|:--------:|:--------------------------:|\n",
    "|    6612732101    |  นายกรวีร์     |           จูมจันทร์          |\n",
    "|    6612732102    |  นายกฤษณ     |           สุขไชยญาติ          |\n",
    "|    6612732103    |  นายกิตตินันท์   | สองศร |\n",
    "\n",
    "\n"
   ]
  },
  {
   "cell_type": "code",
   "execution_count": null,
   "metadata": {
    "id": "2B859sjD6pO-"
   },
   "outputs": [],
   "source": [
    "# คำตอบ\n",
    "\n"
   ]
  },
  {
   "cell_type": "markdown",
   "metadata": {
    "id": "atqtnNvvQCpM"
   },
   "source": [
    "---"
   ]
  },
  {
   "cell_type": "markdown",
   "metadata": {
    "id": "naATAUr2T4_H"
   },
   "source": [
    "# บทที่ 3 ตัวดำเนินการ\n",
    "\n"
   ]
  },
  {
   "cell_type": "markdown",
   "metadata": {
    "id": "dy3_VxQuyS2r"
   },
   "source": [
    "## **ชนิดของตัวดำเนินการ**\n",
    "\n",
    "\n",
    "![alt text](https://cdn-images-1.medium.com/max/1200/1*X1uStrlHrq2T6tWvuKSxeA.png)\n",
    "\n",
    "\n",
    "**The different types of operators supported by Python are as follows:**\n",
    "\n",
    "1. Arithmetic Operators\n",
    "2. Relational Operators\n",
    "3. Logical Operators\n",
    "4. Bitwise Operators\n",
    "5. Assignment Operators\n",
    "6. Identity Operators\n",
    "7. Membership Operators\n",
    "\n",
    "\n",
    "---"
   ]
  },
  {
   "cell_type": "markdown",
   "metadata": {
    "id": "eUeSnXhhUSMJ"
   },
   "source": [
    "## การคำนวณทางคณิตศาสตร์\n",
    "\n",
    "คำสั่งเลขคณิต (arithmetic operations) และนิพจน์ทางคณิตศาสตร์ (mathematical expression)\n",
    "\n",
    "* เราสามารถทำการคำนวณทางคณิตศาสตร์ได้ โดยใช้เครื่องหมายบวก +, ลบ -, คูณ *, และหาร / กับตัวเลขได้\n",
    "* ข้อสังเกต: เราจะใช้เครื่องหมายดอกจัน * แทนการคูณนะครับ\n",
    "\n",
    "* เช่น ถ้าเราสั่งให้คอมพิวเตอร์คำนวณค่าของนิพจน์ทางคณิตศาสตร์  5×2+10  คอมพิวเตอร์ก็จะคำนวณผลลัพธ์ให้ทันที"
   ]
  },
  {
   "cell_type": "code",
   "execution_count": null,
   "metadata": {
    "id": "kR9Oiv-iQDmD"
   },
   "outputs": [],
   "source": [
    "5 * 2 + 10"
   ]
  },
  {
   "cell_type": "markdown",
   "metadata": {
    "id": "CR4N_bhtUZ0I"
   },
   "source": [
    "- ถ้าเราสั่งให้คอมพิวเตอร์คำนวณค่าของนิพจน์ $ 10 + \\frac{5}{2} $ เราจะได้ผลลัพธ์ดังนี้ครับ"
   ]
  },
  {
   "cell_type": "code",
   "execution_count": null,
   "metadata": {
    "id": "p_wyXYw6UfKj"
   },
   "outputs": [],
   "source": [
    "10 + 5 / 2"
   ]
  },
  {
   "cell_type": "markdown",
   "metadata": {
    "id": "DB3qyNE6UZxM"
   },
   "source": [
    "- จะสังเกตได้ว่า คอมพิวเตอร์คำนวณการหาร 5 / 2 และใส่ค่าทศนิยมให้โดยอัตโนมัติครับ"
   ]
  },
  {
   "cell_type": "markdown",
   "metadata": {
    "id": "pUo4iGWijw41"
   },
   "source": [
    "<hr>\n",
    "\n",
    "**เกร็ดน่ารู้** ตัวดำเนินการทางคณิตศาสตร์\n",
    "\n",
    "ตัวดำเนินการสำหรับการบวก ลบ คูณ และหาร ใน python ใช้เครื่องหมาย +, -, * และ / ตามลำดับ\n",
    "\n",
    "นอกจากนี้แล้วยังมีการใช้เครื่องหมาย **, //, % ซึ่งหมายถึงการยกกำลัง, การหารปัดเศษทิ้ง และเศษที่ได้จากการหาร ตามลำดับ\n",
    "\n",
    "<hr>"
   ]
  },
  {
   "cell_type": "code",
   "execution_count": null,
   "metadata": {
    "id": "y_T9AovRj0R_"
   },
   "outputs": [],
   "source": [
    "4**3"
   ]
  },
  {
   "cell_type": "code",
   "execution_count": null,
   "metadata": {
    "id": "y0zlNm5cj0PA"
   },
   "outputs": [],
   "source": [
    "7//3"
   ]
  },
  {
   "cell_type": "code",
   "execution_count": null,
   "metadata": {
    "id": "_De-jUjbj3qz"
   },
   "outputs": [],
   "source": [
    "7%3"
   ]
  },
  {
   "cell_type": "markdown",
   "metadata": {
    "id": "u4b2JvdGAwL7"
   },
   "source": [
    "ตัวอย่าง คัดกรองค่าขั้นต่ำ\n",
    "\n",
    "ตู้ ATM มีเมนูให้ผู้ใช้เลือกกดเงินตามจำนวนที่ต้องการถอนเงินได้ตามต้องการ เช่น\n",
    "\n",
    "กดจำนวนเงิน 400 บาท เป็นต้น ซึ่งผู้ใช้สามารถกรอกจำนวนได้ตามอิสระ\n",
    "\n",
    "แต่ผู้ใช้งานจะไม่สามารถกรอกจำนวนที่มีค่าต่ำกว่า หลักร้อยได้ เช่น 490\n",
    "\n",
    "ตู้ ATM จะสามารถตรวจสอบได้อย่างไรว่าผู้ใช้กรอกจำนวนเงินที่มูลค่าตำ่กว่า หลัก 100 เข้ามา\n",
    "\n"
   ]
  },
  {
   "cell_type": "code",
   "execution_count": null,
   "metadata": {
    "id": "50VPgxamBZy1"
   },
   "outputs": [],
   "source": [
    "money = int(input(\"กรอกจำนวนเงินที่ต้องการถอน : \"))\n",
    "\n",
    "if money % 100 == 0:\n",
    "  print(\"Valid number\")\n",
    "else:\n",
    "  print(\"Invalid number\")"
   ]
  },
  {
   "cell_type": "markdown",
   "metadata": {
    "id": "gAmuw3xQj9zg"
   },
   "source": [
    "ตัวอย่าง ทอนเท่าไร\n",
    "\n",
    "นักเรียนซื้อแฟลชไดรฟ์ ขนาด 32 GB ราคา 117 บาท ที่ร้านสะดวกซื้อ โดยจ่ายเงินด้วยธนบัตรหนึ่งร้อยบาท 2 ใบ ในลิ้นชักเก็บเงินของร้าน มีแต่ธนบัตร 20 บาท และเหรียญหนึ่งบาท พนักงานจะต้องทอนเงินเป็นธนบัตร 20 บาท จำนวนกี่ใบ และเหรียญหนึ่งบาทจำนวนกี่เหรียญ?"
   ]
  },
  {
   "cell_type": "code",
   "execution_count": null,
   "metadata": {
    "id": "QdzoDAouj_pY"
   },
   "outputs": [],
   "source": [
    "change = 200 - 177\n",
    "note20 = change//20\n",
    "coin1 = change % 20\n",
    "\n",
    "print(\"เงินทอนทั้งหมด\", change, \"บาท\")\n",
    "print(\"เป็นธนบัตรยี่สิบบาท จำนวน\", note20, \"ใบ\")\n",
    "print(\"เป็นหนึ่งบาท จำนวน\", coin1, \"เหรียญ\")"
   ]
  },
  {
   "cell_type": "markdown",
   "metadata": {
    "id": "KCdfl8yLR2xH"
   },
   "source": [
    "ตัวอย่าง ตู้ ATM\n",
    "\n",
    "ภายในตู้ ATM มีแบงค์สำหรับให้บริการสำหรับการถอน ประกอบไปด้วยแบงค์มูลค่า 1000, 500 และ 100 บาท\n",
    "\n",
    "ในการเบิกเงิน ผู้ใชังานเลือกกรอกจำนวนเงินที่ต้องการเบิกได้ เช่น\n",
    "\n",
    "กรอกเงินจำนวน 1900 บาท\n",
    "ตู้ ATM จะทำการพิจารณาจ่ายแบงค์ที่มีมูลค่าสูงสุดก่อน และค่อยพิจารณาจ่ายแบงค์มูลค่ารองลงมา\n",
    "\n",
    "input : 1900\n",
    "\n",
    "1000 : 1\n",
    "\n",
    "500 : 1\n",
    "\n",
    "100 : 4"
   ]
  },
  {
   "cell_type": "code",
   "execution_count": null,
   "metadata": {
    "id": "grr4lvuUSn4A"
   },
   "outputs": [],
   "source": [
    "# โจทย์ตู้ ATM\n",
    "\n"
   ]
  },
  {
   "cell_type": "markdown",
   "metadata": {
    "id": "UCoJJ1yBmic6"
   },
   "source": [
    "---"
   ]
  },
  {
   "cell_type": "markdown",
   "metadata": {
    "id": "ZKRq3YUQUqgI"
   },
   "source": [
    "## แบบฝึกหัด\n"
   ]
  },
  {
   "cell_type": "markdown",
   "metadata": {
    "id": "DmenGyChU3sh"
   },
   "source": [
    "เรามาลองคำนวณค่าของนิพจน์ทางคณิตศาสตร์ต่อไปนี้กันดูบ้างครับ\n",
    "\n",
    "1. $ \\frac{3}{4} + \\frac{1}{4} $"
   ]
  },
  {
   "cell_type": "code",
   "execution_count": null,
   "metadata": {
    "id": "G5evfAlRVIUM"
   },
   "outputs": [],
   "source": [
    "# ข้อที่ 1\n",
    "\n"
   ]
  },
  {
   "cell_type": "markdown",
   "metadata": {
    "id": "uPXGFoEpU-4T"
   },
   "source": [
    "2. $ 1 + 6 \\times 8 - 7 $"
   ]
  },
  {
   "cell_type": "code",
   "execution_count": null,
   "metadata": {
    "id": "JolSbB62UjQV"
   },
   "outputs": [],
   "source": [
    "# ข้อที่ 2\n",
    "\n"
   ]
  },
  {
   "cell_type": "markdown",
   "metadata": {
    "id": "YY1sDqRkU6ee"
   },
   "source": [
    "3. $ 5 \\times 6 + 7 \\times 8 - \\frac{2}{5} $"
   ]
  },
  {
   "cell_type": "code",
   "execution_count": null,
   "metadata": {
    "id": "9wrZB3_AYcIP"
   },
   "outputs": [],
   "source": [
    "# ข้อที่ 3\n",
    "\n"
   ]
  },
  {
   "cell_type": "markdown",
   "metadata": {
    "id": "2QcjzE6RjDFe"
   },
   "source": [
    "---"
   ]
  },
  {
   "cell_type": "markdown",
   "metadata": {
    "id": "ieJuDtiUVfUc"
   },
   "source": [
    "## วงเล็บในนิพจน์ทางคณิตศาสตร์\n",
    "\n",
    "- ทั้งนี้ เราสามารถใช้เครื่องหมายวงเล็บ `( )` ได้เหมือนกับนิพจน์ทางคณิตศาสตร์ปกติเลยครับ\n",
    "- เช่น เราสามารถคำนวณค่าของนิพจน์ $ 4 \\times 3 + (1 + 2) / 4 $ ได้ด้วยคำสั่งนี้"
   ]
  },
  {
   "cell_type": "code",
   "execution_count": null,
   "metadata": {
    "id": "hxKyfx0SVlhB"
   },
   "outputs": [],
   "source": [
    "4 * 3 + (1 + 2) / 4"
   ]
  },
  {
   "cell_type": "markdown",
   "metadata": {
    "id": "ZSNf82jlVfRV"
   },
   "source": [
    "- ข้อแตกต่างคือ ในกรณีที่มีวงเล็บซ้อนวงเล็บ เราจะใช้เครื่องหมายวงเล็บ `( )` เสมอ <u>**ห้ามใช้**</u>เครื่องหมายก้ามปู `[ ]` และเครื่องหมายปีกกา `{ }` โดยเด็ดขาด\n",
    "- เช่น ถ้าเราจะคำนวณค่าของนิพจน์ $ \\left( \\left[ 1 / \\left\\{ 2 + 3 \\right\\} \\right] \\times 4 + 5 \\right) / 6 $ เราจะต้องเปลี่ยนก้ามปูและปีกกากลับมาเป็นวงเล็บก่อนเสมอ"
   ]
  },
  {
   "cell_type": "code",
   "execution_count": null,
   "metadata": {
    "id": "v4iSg0wWU85M"
   },
   "outputs": [],
   "source": [
    "((1 / (2 + 3)) * 4 + 5) / 6"
   ]
  },
  {
   "cell_type": "markdown",
   "metadata": {
    "id": "BUG7yKXwVvE8"
   },
   "source": [
    "- **หัวใจ:** เครื่องหมายวงเล็บมีหน้าที่เปลี่ยนลำดับการทำงาน โดยจะเริ่มทำในวงเล็บก่อนเสมอ โดยลำดับการทำงานจะเริ่มจาก (1) ทำในวงเล็บ (2) คูณและหาร (3) บวกและลบ\n",
    "- เช่น ลองสังเกตผลลัพธ์ของนิพจน์ทั้งสองนี้ครับ: $ (1 + 2) \\times 3 $ กับ $ 1 + (2 \\times 3) $"
   ]
  },
  {
   "cell_type": "code",
   "execution_count": null,
   "metadata": {
    "id": "hCXDKEjDVz6O"
   },
   "outputs": [],
   "source": [
    "(1 + 2) * 3"
   ]
  },
  {
   "cell_type": "code",
   "execution_count": null,
   "metadata": {
    "id": "4wgvki-HV0uO"
   },
   "outputs": [],
   "source": [
    "1 + (2 * 3)"
   ]
  },
  {
   "cell_type": "markdown",
   "metadata": {
    "id": "XjE79WWuVvB6"
   },
   "source": [
    "ทั้งนี้ขอให้ท่านระมัดระวังการใช้เครื่องหมายคูณ `*` และหาร `/` ด้วยนะครับ เพราะถ้าหากไม่ระบุวงเล็บให้ชัดเจน ลำดับการคำนวณก็อาจจะไม่เป็นไปตามที่ท่านต้องการได้"
   ]
  },
  {
   "cell_type": "markdown",
   "metadata": {
    "id": "VZgEdS_m9Nqq"
   },
   "source": [
    "---"
   ]
  },
  {
   "cell_type": "markdown",
   "metadata": {
    "id": "9IUfRJixWDvx"
   },
   "source": [
    "## แบบฝึกหัด"
   ]
  },
  {
   "cell_type": "markdown",
   "metadata": {
    "id": "58ufl1fyWDso"
   },
   "source": [
    "เรามาลองคำนวณค่าของนิพจน์ทางคณิตศาสตร์ต่อไปนี้กันครับ\n",
    "\n",
    "1. $ 3 \\times (4 + 1 - 2 \\times 5) $"
   ]
  },
  {
   "cell_type": "code",
   "execution_count": null,
   "metadata": {
    "id": "AUszZeOhVtTa"
   },
   "outputs": [],
   "source": []
  },
  {
   "cell_type": "markdown",
   "metadata": {
    "id": "OY7aSqltWSJZ"
   },
   "source": [
    "2. $ \\frac{1 + 2 + 3}{4 + 5 + 6} $   \n",
    "\n",
    "\n",
    "[**หมายเหตุ:** โปรดเลือกการใช้เครื่องหมายวงเล็บด้วยความระมัดระวัง]"
   ]
  },
  {
   "cell_type": "code",
   "execution_count": null,
   "metadata": {
    "id": "gCZRh_lYYR6j"
   },
   "outputs": [],
   "source": []
  },
  {
   "cell_type": "markdown",
   "metadata": {
    "id": "lAWdY8e_lNS0"
   },
   "source": [
    "3. $ 7 \\times \\frac{5 + 6}{7 + \\frac{7}{8}} $"
   ]
  },
  {
   "cell_type": "code",
   "execution_count": null,
   "metadata": {
    "id": "pU8BdHSllPTs"
   },
   "outputs": [],
   "source": []
  },
  {
   "cell_type": "markdown",
   "metadata": {
    "id": "b29JeFcm8aoe"
   },
   "source": [
    "4. $ \\frac{5 + 6^{2.5}}{\\sqrt[2]{3.5}} + 3^2 $"
   ]
  },
  {
   "cell_type": "code",
   "execution_count": null,
   "metadata": {
    "id": "zySjctqm8etG"
   },
   "outputs": [],
   "source": []
  },
  {
   "cell_type": "markdown",
   "metadata": {
    "id": "PZpDyyd-83wj"
   },
   "source": [
    "5. $ 3^{5 + 3/4} $"
   ]
  },
  {
   "cell_type": "code",
   "execution_count": null,
   "metadata": {
    "id": "dBtRXw1f87sU"
   },
   "outputs": [],
   "source": []
  },
  {
   "cell_type": "markdown",
   "metadata": {
    "id": "DZl7T9XUlQy3"
   },
   "source": [
    "---"
   ]
  },
  {
   "cell_type": "markdown",
   "metadata": {
    "id": "dPISCAl6WZFb"
   },
   "source": [
    "## เครื่องหมายยกกำลัง (power) และการถอดราก (root)\n",
    "\n",
    "- เครื่องหมายยกกำลังในภาษา Python จะใช้เครื่องหมาย `**` (ดอกจันเขียนติดกัน 2 ดวง) ครับ\n",
    "- เช่น ถ้าเราจะคำนวณค่าของนิพจน์ $ 2^5 $ เราจะใช้คำสั่งว่า"
   ]
  },
  {
   "cell_type": "code",
   "execution_count": null,
   "metadata": {
    "id": "aG2dpiDIWTXw"
   },
   "outputs": [],
   "source": [
    "2 ** 5"
   ]
  },
  {
   "cell_type": "markdown",
   "metadata": {
    "id": "EYvIF2paWd6b"
   },
   "source": [
    "- เมื่อเรานำเครื่องหมายยกกำลังมาใส่ในนิพจน์ทางคณิตศาสตร์ ลำดับการทำงานจะเปลี่ยนไปตามนี้ครับ\n",
    "  1. ทำในวงเล็บก่อน\n",
    "  2. ทำเครื่องหมายยกกำลัง\n",
    "  3. ทำเครื่องหมายคูณและหาร\n",
    "  4. ทำเครื่องหมายบวกและลบ\n",
    "- เช่น ลองสังเกตการคำนวณค่าของนิพจน์ 3 ตัวนี้กันครับ: `(2 * 5) ** 3`, `2 * (5 ** 3)`, และ `2 * 5 ** 3`"
   ]
  },
  {
   "cell_type": "code",
   "execution_count": null,
   "metadata": {
    "id": "xWx-horrWfwc"
   },
   "outputs": [],
   "source": [
    "(2 * 5) ** 3"
   ]
  },
  {
   "cell_type": "code",
   "execution_count": null,
   "metadata": {
    "id": "2Lp9itJcWmmv"
   },
   "outputs": [],
   "source": [
    "2 * (5 ** 3)"
   ]
  },
  {
   "cell_type": "code",
   "execution_count": null,
   "metadata": {
    "id": "znvsMeI8Wn01"
   },
   "outputs": [],
   "source": [
    "2 * 5 ** 3"
   ]
  },
  {
   "cell_type": "markdown",
   "metadata": {
    "id": "poDR5vSlWsNu"
   },
   "source": [
    "- ดังนั้นเพื่อความปลอดภัย เราจึงนิยมเขียนเครื่องหมายยกกำลัง `**` ติดกับตัวเลข เพื่อให้เป็นที่รู้กันว่า ถ้าหากไม่มีวงเล็บ เราจะเริ่มทำจากเครื่องหมายยกกำลังก่อนเสมอ เช่น เราจะเขียนนิพจน์ $ 2 \\times 5^3 $ ด้วยคำสั่ง `2 * 5**3` เป็นต้น"
   ]
  },
  {
   "cell_type": "markdown",
   "metadata": {
    "id": "skVUl4jwWyOc"
   },
   "source": [
    "---\n",
    "- นอกจากนี้เรายังสามารถคำนวณค่าราก\n",
    "\n",
    "(root) ได้โดยการใช้สูตร:\n",
    "\n",
    "$$ \\sqrt[r]{a} = a^{1/r} $$\n",
    "\n",
    "- เช่น เราสามารถคำนวณค่า $ \\sqrt[3]{8} $ (รากที่ 3 ของ 8) ได้โดยคำสั่ง `8**(1/3)`"
   ]
  },
  {
   "cell_type": "code",
   "execution_count": null,
   "metadata": {
    "id": "CzcqcrdwWpQ7"
   },
   "outputs": [],
   "source": [
    "8**(1/3)"
   ]
  },
  {
   "cell_type": "markdown",
   "metadata": {
    "id": "Kmr9WM4p_ZYY"
   },
   "source": [
    "---"
   ]
  },
  {
   "cell_type": "markdown",
   "metadata": {
    "id": "axuFi8JZlJnM"
   },
   "source": [
    "## ตัวดำเนินการบูลีน\n",
    "\n",
    "ประโยคคำสั่งที่ต้องมีการเปรียบเที่ยบเงื่อนไข เช่น if , if-else while เป็นต้น เราต้องระบุนิพจน์เปรียบเทียบได้แก่ True หรือ False ในการกำหนดเงื่อนไข\n",
    "\n",
    "แต่หาต้องการกำหนดเงือนไขที่ซับซ้อนขึ้น สามารถใช้ตัวดำเนินการบูลีนได้แก่ and or หรือ not ในการเชื่อมนิพจน์เปรียบเทียบอย่างง่ายเข้าด้วยกันได้"
   ]
  },
  {
   "cell_type": "markdown",
   "metadata": {
    "id": "wmVbM6h1lVCY"
   },
   "source": [
    "<img height=\"300px\" src=\"https://www.patanasongsivilai.com/blog/wp-content/uploads/2020/02/opertor_boolean.png\" align=\"left\" hspace=\"10px\" vspace=\"0px\">"
   ]
  },
  {
   "cell_type": "code",
   "execution_count": null,
   "metadata": {
    "id": "uqeLOTUO_J-Y"
   },
   "outputs": [],
   "source": [
    "age = 12"
   ]
  },
  {
   "cell_type": "code",
   "execution_count": null,
   "metadata": {
    "id": "HVgJTYk9_JvL"
   },
   "outputs": [],
   "source": [
    "age > 13 and age < 19"
   ]
  },
  {
   "cell_type": "code",
   "execution_count": null,
   "metadata": {
    "id": "iSV85Uiw_JaB"
   },
   "outputs": [],
   "source": [
    "age > 13 or age < 19"
   ]
  },
  {
   "cell_type": "code",
   "execution_count": null,
   "metadata": {
    "id": "LIAUC_7y_JWV"
   },
   "outputs": [],
   "source": [
    "not age > 13"
   ]
  },
  {
   "cell_type": "markdown",
   "metadata": {
    "id": "mvgyFcIc_TZb"
   },
   "source": [
    "---"
   ]
  },
  {
   "cell_type": "markdown",
   "metadata": {
    "id": "RAWbKOrRXC8N"
   },
   "source": [
    "## **แบบฝึกหัด**"
   ]
  },
  {
   "cell_type": "markdown",
   "metadata": {
    "id": "8CXbTrjlXGnt"
   },
   "source": [
    "เรามาคำนวณค่าของนิพจน์ดังต่อไปนี้กันครับ\n",
    "\n",
    "1. $ 3^{5 + 3/4} $"
   ]
  },
  {
   "cell_type": "code",
   "execution_count": null,
   "metadata": {
    "id": "03H0NxzOXH8I"
   },
   "outputs": [],
   "source": [
    "# คำตอบ\n",
    "\n",
    "\n"
   ]
  },
  {
   "cell_type": "markdown",
   "metadata": {
    "id": "_4g3mmXFXMEc"
   },
   "source": [
    "2. $ \\sqrt[2]{\\left( 7 + 3 \\times 4 \\right)} $"
   ]
  },
  {
   "cell_type": "code",
   "execution_count": null,
   "metadata": {
    "id": "GMoHSUKaW86J"
   },
   "outputs": [],
   "source": [
    "# คำตอบ\n",
    "\n",
    "\n"
   ]
  },
  {
   "cell_type": "markdown",
   "metadata": {
    "id": "pEUqkZNWXPMt"
   },
   "source": [
    "3. $ \\frac{5 + 6^{2.5}}{\\sqrt[2]{3.5}} + 3^2 $"
   ]
  },
  {
   "cell_type": "code",
   "execution_count": null,
   "metadata": {
    "id": "-SGDiCYu_COW"
   },
   "outputs": [],
   "source": [
    "# คำตอบ\n",
    "\n"
   ]
  },
  {
   "cell_type": "markdown",
   "metadata": {
    "id": "9JzM_Cve-_tg"
   },
   "source": [
    "4. $ 7 \\times \\frac{5 + 6}{7 + \\frac{7}{8}} $"
   ]
  },
  {
   "cell_type": "code",
   "execution_count": null,
   "metadata": {
    "id": "0HDqd31Q-_Lr"
   },
   "outputs": [],
   "source": [
    "# คำตอบ\n",
    "\n",
    "\n"
   ]
  },
  {
   "cell_type": "markdown",
   "metadata": {
    "id": "yURXS-Q9XVQm"
   },
   "source": [
    "---"
   ]
  },
  {
   "cell_type": "markdown",
   "metadata": {
    "id": "WBvKN5cTohJk"
   },
   "source": [
    "# บทที่ 4 โครงสร้างควบคุม\n",
    "\n",
    "โครงสร้างควบคุม (Control Structure)\n",
    "การควบคุมขั้นตอนการทำงานของโปรแกรม คือกระบวนการลำดับการทำงานภายในซอสโค๊ดเพื่อให้โปรแกรมทำงานเป็นลำดับตามที่เราต้องการ\n",
    "\n",
    "การควบคุมการไหลของโปรแกรมในภาษาไพธอน จะถูกควบคุมโดยคำสั่งเงื่อนไข, ลูป และการเรียกฟังก์ชัน ส่วนนี้ครอบคลุมคำสั่ง if และ for และ while"
   ]
  },
  {
   "cell_type": "markdown",
   "metadata": {
    "id": "uR_8n7ifx01g"
   },
   "source": [
    "## การทำงานแบบมีทางเลือก"
   ]
  },
  {
   "cell_type": "markdown",
   "metadata": {
    "id": "k0E-O4QYou3c"
   },
   "source": [
    "### if ... else ใน Python คืออะไร ?\n",
    "\n",
    "คำสั่ง if ... else ใน Python คืออะไร?\n",
    "\n",
    "คำสั่ง If ... elif ... else ถูกใช้ในโปรแกรมภาษาไพธอนสำหรับการตัดสินใจ\n",
    "\n",
    "การตัดสินใจเป็นสิ่งจำเป็นในกระบวนการทำงานของโปรแกรม หากในการทำงานนั้น ๆ เป็นการทำงานภายใต้เงื่อนไขบางอย่าง และจำเป็นต้องเลือกที่จะต้องทำงานอย่างใดอย่างหนึ่งในแต่ละเงื่อนไขเท่านั้น\n",
    "\n"
   ]
  },
  {
   "cell_type": "markdown",
   "metadata": {
    "id": "DiB6q4sMpBPd"
   },
   "source": [
    "### คำสั่ง if\n",
    "\n",
    "\n",
    "\n",
    "```python\n",
    "if test_expression:\n",
    "    statement(s)\n",
    "```\n",
    "\n",
    "จากด้านบน โปรแกรมจะประเมินนิพจน์ test_expression และจะเรียกใช้คำสั่งภายในบล็อคของ if เฉพาะเมื่อนิพจน์ test_expression นั้นมีค่าเป็นจริง (True)\n",
    "\n",
    "หากนิพจน์ test_expression นั้นมีค่าเป็นเท็จ (False) คำสั่งภายในบล็อคของ if จะไม่ถูกดำเนินการ\n",
    "\n"
   ]
  },
  {
   "cell_type": "markdown",
   "metadata": {
    "id": "RgbxrS6epX43"
   },
   "source": [
    "### ตัวอย่างของ if\n"
   ]
  },
  {
   "cell_type": "code",
   "execution_count": null,
   "metadata": {
    "id": "YzqmobBipdLU"
   },
   "outputs": [],
   "source": [
    "# หากตัวเลขเป็นบวกโปรแกรมจะพิมพ์ข้อความที่กำหนด\n",
    "\n",
    "num = 3\n",
    "if num > 0:\n",
    "    print(num, \"is a positive number.\")\n",
    "\n",
    "print(\"This is always printed.\")\n",
    "\n",
    "num = -1\n",
    "if num < 0:\n",
    "    print(num, \"is a positive number.\")\n",
    "\n",
    "print(\"This is also always printed.\")"
   ]
  },
  {
   "cell_type": "markdown",
   "metadata": {
    "id": "gtooi7slpX06"
   },
   "source": [
    "- ในตัวอย่างข้างต้น num > 0 คือนิพจน์ทดสอบ (test_expression)\n",
    "\n",
    "- ชุดคำสั่งที่อยู่ภายในบล็อค if จะถูกดำเนินการเฉพาะเมื่อนิพจน์นี้มีค่าเป็น True เท่านั้น\n",
    "\n",
    "- เมื่อตัวแปร num เท่ากับ 3 นิพจน์ทดสอบ จะมีค่าเป็นจริง (True) และชุดคำสั่งภายในบล็อค if ทั้งหมดจะถูกดำเนินการ\n",
    "\n",
    "- ถ้าตัวแปร num เท่ากับ -1 นิพจน์ทดสอบมีค่าเป็นเท็จ (False) และชุดคำสั่งภายในบล็อค if จะถูกข้ามไม่ทำงาน\n",
    "\n",
    "- สำหรับคำสั่ง print( ) ซึ่งอยู่นอกส่วนของ if จะถูกสั่งให้ทำงานโดยไม่คำนึงถึงนิพจน์ทดสอบว่ามีค่าเป็นจริง หรือเท็จ"
   ]
  },
  {
   "cell_type": "markdown",
   "metadata": {
    "id": "-X56kFsip72M"
   },
   "source": [
    "### คำสั่ง if...else\n",
    "\n",
    "ไวยากรณ์ของ if...else\n",
    "\n",
    "\n",
    "\n",
    "```python\n",
    "if test_expression:\n",
    "    Body_of_if\n",
    "else:\n",
    "    Body_of_else\n",
    "```\n",
    "\n",
    "คำสั่ง if ... else จะทำการประเมินค่าของนิพจน์ทดสอบ (test_expression) และดำเนินการทำคำสั่งภายในบล็อค if เฉพาะเมื่อเงื่อนไขมีค่าเป็น True เท่านั้น\n",
    "\n",
    "หากเงื่อนไขเป็น False ชุดคำสั่งที่อยู่ภายในบล็อค else จะถูกสั่งให้ทำงานแทน\n"
   ]
  },
  {
   "cell_type": "markdown",
   "metadata": {
    "id": "6swTfoBKqafg"
   },
   "source": [
    "### ตัวอย่างของ if...else"
   ]
  },
  {
   "cell_type": "code",
   "execution_count": null,
   "metadata": {
    "id": "iwJLvXCwqgv_"
   },
   "outputs": [],
   "source": [
    "# โปรแกรมตรวจสอบว่าหมายเลขเป็นบวกหรือลบ\n",
    "# และแสดงข้อความที่กำหนดไว้\n",
    "\n",
    "num = 3\n",
    "\n",
    "if num >= 0:\n",
    "    print(\"Positive or Zero\")\n",
    "else:\n",
    "    print(\"Negative number\")"
   ]
  },
  {
   "cell_type": "markdown",
   "metadata": {
    "id": "WHAwqb0Dqj-Q"
   },
   "source": [
    "- จากตัวอย่างข้างต้น เมื่อ num มีค่าเท่ากับ 3 นิพจน์ทดสอบจะมีค่าเป็นจริง และชุดคำสั่งภายใน if จะถูกเรียกใช้ และส่วนที่อยู่ภายใน else จะถูกข้ามไม่ทำงาน\n",
    "\n",
    "- และถ้าตัวเลขเท่ากับ -5 นิพจน์ทดสอบจะมีค่าเป็นเท็จ จำทำให้ชุดคำสั่งในส่วนของ else จะถูกเรียกใช้งาน\n",
    "\n",
    "- และถ้าตัวเลขเท่ากับ 0 นิพจน์ทดสอบมีค่าเป็นจริง และชุดคำสั่งภายใน if ถูกสั่งให้ทำงาน และข้ามชุดคำสั่งภายใน else ไป"
   ]
  },
  {
   "cell_type": "markdown",
   "metadata": {
    "id": "z8ohLqAusN7g"
   },
   "source": [
    "### คำสั่ง if...elif...else\n",
    "\n",
    "ไวยากรณ์ if...elif...else\n",
    "\n",
    "\n",
    "\n",
    "```python\n",
    "if test_expression_1:\n",
    "    Body_of_if\n",
    "elif test_expression_2:\n",
    "    Body_of_elif\n",
    "else:\n",
    "    Body_of_else\n",
    "\n",
    "```\n",
    "\n",
    "**ข้อสังเกตุ** : ในภาษาไพธอน elif เป็นรูปย่อของ else..if\n",
    "\n",
    "- โดย if...elif...else เป็นคำสั่งที่ช่วยให้เราสามารถตรวจสอบนิพจน์ทดสอบมากว่า 1 นิพจน์ขึ้นไป\n",
    "\n",
    "- ถ้านิพจน์เงื่อนไขมีค่าเป็น False จะทำการตรวจสอบเงื่อนไขของบล็อค elif ถัดไปและอื่น ๆ\n",
    "\n",
    "- หากเงื่อนไขทั้งหมดเป็นเท็จ ชุดคำสั่งที่อยู่ภายใต้ else จะถูกสั่งให้ทำงาน\n",
    "\n",
    "- ภายใน if ... elif ... else นั้นจะมีเพียงหนึ่งบล๊อกเท่านั้นที่ถูกเรียกใช้งานตามเงื่อนไขที่กำหนดไว้\n"
   ]
  },
  {
   "cell_type": "markdown",
   "metadata": {
    "id": "OxklPwjCssb8"
   },
   "source": [
    "### ตัวอย่างของ if...elif...else"
   ]
  },
  {
   "cell_type": "code",
   "execution_count": null,
   "metadata": {
    "id": "V-fBJevTswNC"
   },
   "outputs": [],
   "source": [
    "# ในโปรแกรมนี้\n",
    "# เราตรวจสอบว่าตัวเลขเป็นบวกหรือไม่\n",
    "# เป็นลบ หรือศูนย์ และ\n",
    "# แสดงข้อความตามที่กำหนดไว้\n",
    "num = 0\n",
    "\n",
    "if num > 0:\n",
    "    print(\"Positive number\")\n",
    "elif num == 0:\n",
    "    print(\"Zero\")\n",
    "else:\n",
    "    print(\"Negative number\")"
   ]
  },
  {
   "cell_type": "markdown",
   "metadata": {
    "id": "Vn3tIJrRszCL"
   },
   "source": [
    "เมื่อตัวแปร num มีค่าเป็นบวกจะมีการพิมพ์ข้อความเพื่อบวกว่าตัวเลขเป็นบวก\n",
    "\n",
    "และถ้าตัวเลขเท่ากับ 0 ศูนย์จะพิมพ์คำว่า \"Zero\"\n",
    "\n",
    "และหากตัวเลขเป็นค่าลบจำนวนพิมพ์ข้อความเพื่อบวกว่าตัวเลขเป็นลบ"
   ]
  },
  {
   "cell_type": "markdown",
   "metadata": {
    "id": "YWRV0PSss6Ko"
   },
   "source": [
    "### คำสั่ง Nested if\n",
    "\n",
    "- ภายในโปรแกรมนั้น เราสามารถมี if ... elif ... else ซ้อนอยู่ภายใต้ ... elif ... else ได้ ซึ่งรูปแบบการซ้อนกับของ statement นี้เรียกว่า Nested ในการเขียนโปรแกรมคอมพิวเตอร์\n",
    "\n",
    "- statement เหล่านี้นั้นสามารถซ้อนอยู่ภายในกันได้ การเยื้องเป็นวิธีเดียวที่จะจำแนกระดับการซ้อนออกจากัน และหากมีการซ้อนแบบนี้เกิดขึ้นในโปรแกรมจำนวนมาก อาจทำให้เกิดความสับสนได้ดังนั้นต้องหลีกเลี่ยงหากทำได้"
   ]
  },
  {
   "cell_type": "code",
   "execution_count": null,
   "metadata": {
    "id": "1oduCJOltFH3"
   },
   "outputs": [],
   "source": [
    "# ในโปรแกรมนี้จะทำการรับค่าตัวเลขจากคีย์บอร์ด\n",
    "# เพื่อตรวจสอบว่าหมายเลขเป็นบวกหรือไม่\n",
    "# negative หรือ zero และ display\n",
    "# และแสดงข้อความที่กำหนดไว้\n",
    "# เวลานี้เราใช้ nested if\n",
    "\n",
    "num = float(input(\"Enter a number: \"))\n",
    "\n",
    "if num >= 0:\n",
    "    if num == 0:\n",
    "        print(\"Zero\")\n",
    "    else:\n",
    "        print(\"Positive number\")\n",
    "else:\n",
    "    print(\"Negative number\")"
   ]
  },
  {
   "cell_type": "markdown",
   "metadata": {
    "id": "N3gtDeyxuRpv"
   },
   "source": [
    "### แบบฝึกหัด\n",
    "\n"
   ]
  },
  {
   "cell_type": "code",
   "execution_count": null,
   "metadata": {
    "id": "24MpcDFBurQ5"
   },
   "outputs": [],
   "source": [
    "# โปรแกรม ตัดเกรด\n",
    "'''\n",
    "A : 100 - 80\n",
    "B : 79 - 70\n",
    "C : 69 - 60\n",
    "D : 59 - 50\n",
    "E : 49 - 0\n",
    "'''\n",
    "score = int(input(\"Enter your score : \"))\n",
    "\n",
    "\n",
    "\n"
   ]
  },
  {
   "cell_type": "markdown",
   "metadata": {
    "id": "d0SjJR2Hlohy"
   },
   "source": [
    "---"
   ]
  },
  {
   "cell_type": "markdown",
   "metadata": {
    "id": "4biyDaSxvFfN"
   },
   "source": [
    "## การทำงานวนซ้ำ (Iterative)\n",
    "\n",
    "การทำงานวนซ้ำ (Iterative) หรือ Loop คือ การทำงานของโปรแกรมที่วนกลับมาที่เดิม จนกว่าจะถึงจุดที่เรากำหนดไว้\n",
    "\n",
    "โดยการจะวนลูปได้นั้นก็จำเป็นต้องมีคำสั่งที่ใช้ในการวนลูป เช่น คำสั่ง for คำสั่ง while เป็นต้น"
   ]
  },
  {
   "cell_type": "markdown",
   "metadata": {
    "id": "CvU7WTQCvTBq"
   },
   "source": [
    "### for Loop\n",
    "\n",
    "for ลูปในโปรแกรมภาษาไพธอน ถูกใช้การวนซ้ำบนข้อมูลประเภทลำดับ (List, Tuple, String) โดยการวนซ้ำตามลำดับเรียกว่า traversal\n",
    "\n",
    "ไวยากรณ์ของ for Loop\n",
    "\n",
    "```python\n",
    "for val in sequence:\n",
    "    body_of_for\n",
    "```"
   ]
  },
  {
   "cell_type": "markdown",
   "metadata": {
    "id": "IBLz6Qmav2iq"
   },
   "source": [
    "**ตัวอย่างของ for Loop**"
   ]
  },
  {
   "cell_type": "code",
   "execution_count": null,
   "metadata": {
    "id": "YM36_6pEutlJ"
   },
   "outputs": [],
   "source": [
    "# โปรแกรมเพื่อหาจำนวนรวมของตัวเลขทั้งหมดที่จัดเก็บไว้ในรายการ\n",
    "\n",
    "# List of numbers\n",
    "numbers = [6, 5, 3, 8, 4, 2, 5, 4, 11]\n",
    "\n",
    "# ตัวแปรที่ใช้เก็บผลรวม\n",
    "sum = 0\n",
    "\n",
    "# iterate over the list\n",
    "for val in numbers:\n",
    "\tsum = sum + val\n",
    "\n",
    "# Output: The sum is 48\n",
    "print(\"The sum is\", sum)"
   ]
  },
  {
   "cell_type": "code",
   "execution_count": null,
   "metadata": {
    "id": "RRscuoufv7Lg"
   },
   "outputs": [],
   "source": [
    "for letter in 'Sisaket':\n",
    "    print(\"current letter : \", letter)"
   ]
  },
  {
   "cell_type": "markdown",
   "metadata": {
    "id": "HAkVUjOqwWnk"
   },
   "source": [
    "### ฟังก์ชัน range( )\n",
    "\n",
    "- เราสามารถสร้างลำดับของตัวเลขโดยใช้ฟังก์ชัน range() เช่น range(10) จะทำการสร้างชุดตัวเลขตั้งแต่ 0 ถึง 9 (10 หมายเลข)\n",
    "\n",
    "- นอกจากนี้เรายังสามารถกำหนดขนาดเริ่มต้น หยุด และระยะห่างของตัวเลข (เริ่ม, หยุด, ระยะห่างของตัวเลข) โดยระยะห่างของตัวเลข ถูกกำหนดค่าเริ่มต้นให้เป็นเป็น 1 เสมอ หากไม่ได้กำหนดให้เป็นค่าอื่น\n",
    "\n",
    "- ฟังก์ชั่น range() นี้ไม่ได้ทำการเก็บค่าที่สร้างขึ้นทั้งหมดในหน่วยความจำ แต่สร้างขึ้นมาแสดงเพียงเท่านั้น ดังนั้นในการเก็บค่าที่ฟังก์ชั่น range() สร้างขึ้นมานั้นจะต้องใช้ฟังก์ชั่น list() ในการเก็บค่าเอาไว้ภายในตัวแปร\n",
    "\n",
    "ตัวอย่างต่อไปนี้จะชี้แจงเรื่องนี้"
   ]
  },
  {
   "cell_type": "code",
   "execution_count": null,
   "metadata": {
    "id": "k2WwToBBv-Hu"
   },
   "outputs": [],
   "source": [
    "list(range(0, 10))"
   ]
  },
  {
   "cell_type": "code",
   "execution_count": null,
   "metadata": {
    "id": "kVEBVaK34wuz"
   },
   "outputs": [],
   "source": [
    "list(range(0, 10, 2))"
   ]
  },
  {
   "cell_type": "code",
   "execution_count": null,
   "metadata": {
    "id": "daAHaZoLwjOO"
   },
   "outputs": [],
   "source": [
    "# ผลลัพธ์: range(0, 10)\n",
    "print(range(10))\n",
    "\n",
    "# ผลลัพธ์: [0, 1, 2, 3, 4, 5, 6, 7, 8, 9]\n",
    "print(list(range(10)))\n",
    "\n",
    "# ผลลัพธ์: [2, 3, 4, 5, 6, 7]\n",
    "print(list(range(2, 8)))\n",
    "\n",
    "# ผลลัพธ์: [2, 5, 8, 11, 14, 17]\n",
    "print(list(range(2, 20, 3)))\n",
    "\n",
    "# เก็บค่าที่สร้างขึ้นไว้ในตัวแปร val\n",
    "val = list(range(0, 10))\n",
    "print(val)"
   ]
  },
  {
   "cell_type": "markdown",
   "metadata": {
    "id": "leAwWMvWwmVT"
   },
   "source": [
    "เราสามารถใช้ฟังก์ชัน range() ในลูป for เพื่อสร้างลำดับของตัวเลขในการวนลูป โดยสามารถใช้ร่วมกับฟังก์ชัน len() เพื่อทำซ้ำ โดยการใช้งานร่วมกับการอ้างอิงค่าภายในลำดับผ่านดัชนี ดังนี้\n"
   ]
  },
  {
   "cell_type": "code",
   "execution_count": null,
   "metadata": {
    "id": "QO7o5SqJwj4E"
   },
   "outputs": [],
   "source": [
    "for i in range(0, 10):\n",
    "    print(\"number. {}\".format(i))"
   ]
  },
  {
   "cell_type": "code",
   "execution_count": null,
   "metadata": {
    "id": "joU94YUFwr_Q"
   },
   "outputs": [],
   "source": [
    "mul = 3\n",
    "for i in range(1, 13):\n",
    "    print(\"{} x {} = {}\".format(i, mul, i * mul))"
   ]
  },
  {
   "cell_type": "code",
   "execution_count": null,
   "metadata": {
    "id": "ZqaGIEO1wtm1"
   },
   "outputs": [],
   "source": [
    "genre = ['pop', 'rock', 'jazz']\n",
    "len(genre)"
   ]
  },
  {
   "cell_type": "code",
   "execution_count": null,
   "metadata": {
    "id": "pzMM9d7hwy0T"
   },
   "outputs": [],
   "source": [
    "genre = ['pop', 'rock', 'jazz']\n",
    "\n",
    "# iterate over the list using index\n",
    "for i in range(len(genre)):\n",
    "    print(\"I like\", genre[i])"
   ]
  },
  {
   "cell_type": "markdown",
   "metadata": {
    "id": "_OpI0V_jgdTu"
   },
   "source": [
    "---"
   ]
  },
  {
   "cell_type": "markdown",
   "metadata": {
    "id": "cLFly-DYf_N7"
   },
   "source": [
    "### แบบฝึกหัด"
   ]
  },
  {
   "cell_type": "markdown",
   "metadata": {
    "id": "9Oqw9ibRgFr1"
   },
   "source": [
    "1. จงวนลูปค่า index `i` จากค่า 1 ถึง 20 แล้วพิมพ์ค่าของ `2 * i` ออกมาทางหน้าจอ"
   ]
  },
  {
   "cell_type": "code",
   "execution_count": null,
   "metadata": {
    "id": "Aerh7phkgITp"
   },
   "outputs": [],
   "source": [
    "# วนลูปค่า index i จาก 1 ถึง 20\n"
   ]
  },
  {
   "cell_type": "markdown",
   "metadata": {
    "id": "wFtytArigMH6"
   },
   "source": [
    "2. จงวนลูปค่า index `i` จากค่า 100 จนถึง 10 แล้วพิมพ์ค่า `i / 10` ออกมาทางหน้าจอ"
   ]
  },
  {
   "cell_type": "code",
   "execution_count": null,
   "metadata": {
    "id": "IiKF9D-4gPr3"
   },
   "outputs": [],
   "source": [
    "# วนลูปค่า index i จาก 100 จนถึง 10\n",
    "\n"
   ]
  },
  {
   "cell_type": "markdown",
   "metadata": {
    "id": "ds0wNA5XgUF3"
   },
   "source": [
    "3. จงวนลูปค่า index `i` จากค่า 0 ถึง `len(student_heights) - 1` และแปลงหน่วยความสูงของนักเรียนแต่ละคนจากหน่วยเซนติเมตรเป็นหน่วยเมตร [คำใบ้: 100 เซนติเมตร = 1 เมตร]"
   ]
  },
  {
   "cell_type": "code",
   "execution_count": null,
   "metadata": {
    "id": "NbNMfeT5gVdX"
   },
   "outputs": [],
   "source": [
    "student_heights = [163.5, 150.0, 167.0, 161.25, 170.0]\n",
    "\n"
   ]
  },
  {
   "cell_type": "markdown",
   "metadata": {
    "id": "IpJekzxdguQn"
   },
   "source": [
    "4. จงวนลูปเพื่อแสดงสูตรคูณแม่ 3 ไล่ตั้งแต่ $3 \\times 1$ จนถึง $3 \\times 12$ โดยจะได้ผลลัพธ์ดังนี้\n",
    "\n",
    "```\n",
    "3 * 1 = 3\n",
    "3 * 2 = 6\n",
    "3 * 3 = 9\n",
    ":\n",
    ":\n",
    ":\n",
    "3 * 12 = 36\n",
    "```"
   ]
  },
  {
   "cell_type": "code",
   "execution_count": null,
   "metadata": {
    "id": "FvTUFPbSgxfH"
   },
   "outputs": [],
   "source": [
    "# วนลูปค่า index i จาก 1 ถึง 12\n",
    "\n",
    "\n"
   ]
  },
  {
   "cell_type": "markdown",
   "metadata": {
    "id": "Me1NIfmeq5NA"
   },
   "source": [
    "5. จงเขียนโปรแกรมเพื่อแสดงจัตุรัสตัวเลข 1 ถึง 9 โดยใช้ลูปซ้อนกัน 2 ลูป ซึ่งผลลัพธ์จะเป็นดังต่อไปนี้\n",
    "\n",
    "```\n",
    "1 2 3\n",
    "4 5 6\n",
    "7 8 9\n",
    "```"
   ]
  },
  {
   "cell_type": "code",
   "execution_count": null,
   "metadata": {
    "id": "dnx6v9azrACR"
   },
   "outputs": [],
   "source": [
    "# คำตอบ\n",
    "\n"
   ]
  },
  {
   "cell_type": "markdown",
   "metadata": {
    "id": "GtdhYcR1rMo_"
   },
   "source": [
    "6. จงเขียนโปรแกรมเพื่อแสดงจัตุรัสตัวเลข 1 ถึง 27 โดยใช้ลูปซ้อนกัน 3 ลูป ซึ่งผลลัพธ์จะเป็นดังนี้\n",
    "\n",
    "```\n",
    "1 2 3\n",
    "4 5 6\n",
    "7 8 9\n",
    "\n",
    "10 11 12\n",
    "13 14 15\n",
    "16 17 18\n",
    "\n",
    "19 20 21\n",
    "22 23 24\n",
    "25 26 27\n",
    "```\n",
    "\n",
    "   **หมายเหตุ:** เราสามารถระบุให้คำสั่ง `print` ไม่ต้องขึ้นบรรทัดใหม่หลังจากพิมพ์ค่าออกหน้าจอได้ด้วยการระบุ `end=''` ไว้ในวงเล็บของ `print` ครับ"
   ]
  },
  {
   "cell_type": "code",
   "execution_count": null,
   "metadata": {
    "id": "cfUnMNmrrOlx"
   },
   "outputs": [],
   "source": [
    "# คำตอบ\n",
    "\n"
   ]
  },
  {
   "cell_type": "markdown",
   "metadata": {
    "id": "AFPt5g3tgZ62"
   },
   "source": [
    "---"
   ]
  },
  {
   "cell_type": "markdown",
   "metadata": {
    "id": "p__xHc8qz2o-"
   },
   "source": [
    "### while Loop\n",
    "\n",
    "while ลูปในภาษาโปรแกรมไพธอนนั้น ใช้สำหรับการทำซ้ำ ประภทที่ต้องมีการตรวจสอบเงื่อนไขก่อนการทำซ้ำ โดยนิพจน์เงื่อนไขนั้นจะต้องเป็นจริงเสมอจึงจะมีการทำซ้ำ\n",
    "\n",
    "เรามักใช้ while เมื่อเราไม่ทราบล่วงหน้าจำนวนครั้งที่จะทำซ้ำ"
   ]
  },
  {
   "cell_type": "markdown",
   "metadata": {
    "id": "_JbQoSM70BE8"
   },
   "source": [
    "### ไวยากรณ์ของ while Loop\n",
    "\n",
    "\n",
    "\n",
    "```python\n",
    "while test_expression:\n",
    "    body_of_while\n",
    "```\n",
    "\n",
    "ในลูป while นั้นจะมีการตรวจสอบนิพจน์ทดสอบก่อนเสมอ โดยจะมีการเข้ามาทำซ้ำในขอบเขตของ while ก็ต่อเมื่อ test_expression มีค่าเป็น True เท่านั้น\n",
    "\n",
    "หลังจากทำซ้ำแล้วจะมีการตรวจสอบนิพจน์ทดสอบอีกครั้ง กระบวนการนี้ยังคงดำเนินต่อไปจนกว่า test_expression จะมีค่าเป็น False\n",
    "\n",
    "ในโปรแกรมภาษาไพธอน ขอบเขตของ while ลูปจะถูกกำหนดโดยการเยื้อง\n",
    "\n",
    "โปรแกรมภาษาไพธอนจะทำการแปลค่าที่ไม่ใช่ศูนย์เป็น True และ 0 ถูกตีความว่าเป็น False\n",
    "\n"
   ]
  },
  {
   "cell_type": "markdown",
   "metadata": {
    "id": "6jY4KsEC0VrZ"
   },
   "source": [
    "### ตัวอย่างการใช้งาน while Loop"
   ]
  },
  {
   "cell_type": "code",
   "execution_count": null,
   "metadata": {
    "id": "qwqj588rw0sZ"
   },
   "outputs": [],
   "source": [
    "count = 2\n",
    "while count <= 10:\n",
    "    print('The index is : {}'.format(count))\n",
    "    count += 2"
   ]
  },
  {
   "cell_type": "code",
   "execution_count": null,
   "metadata": {
    "id": "0nXzn_4o0aAI"
   },
   "outputs": [],
   "source": [
    "count = 0\n",
    "result = 0\n",
    "\n",
    "while count < 10:\n",
    "    result += 3\n",
    "    count += 2\n",
    "\n",
    "print(result)\n",
    "\n",
    "\"\"\"\n",
    "1 : count = 0 , result = 3\n",
    "2 : count = 2 , result = 6\n",
    "3 : count = 4 , result = 9\n",
    "4 : count = 6 , result = 12\n",
    "5 : count = 8 , result = 15\n",
    "\"\"\""
   ]
  },
  {
   "cell_type": "code",
   "execution_count": null,
   "metadata": {
    "id": "V1dl9fDL0fsZ"
   },
   "outputs": [],
   "source": [
    "# โปรแกรมบวกจำนวนสะสมภายในช่วงข้อมูลที่กำหนด\n",
    "# sum = 1 + 2 + 3 + ... + n\n",
    "\n",
    "# เพื่อรับข้อมูลจากผู้ใช้\n",
    "n = int(input(\"Enter n: \"))\n",
    "\n",
    "# initialize sum and counter\n",
    "sum = 0\n",
    "i = 1\n",
    "\n",
    "while i <= n:\n",
    "    sum = sum + i\n",
    "    i = i+1    # update counter\n",
    "    n = int(input(\"Enter n : \"))\n",
    "\n",
    "# print the sum\n",
    "print(\"The sum is\", sum)"
   ]
  },
  {
   "cell_type": "markdown",
   "metadata": {
    "id": "ZtBrruHH0ile"
   },
   "source": [
    "- ในโปรแกรมข้างต้น นิพจน์เงื่อนไขจะเป็น True ตราบใดที่ตัวแปร i มีค่าน้อยกว่าหรือเท่ากับ n (จำนวนที่ผู้ใช้ป้อนเข้ามาในโปรแกรม)\n",
    "\n",
    "- เราจำเป็นต้องเพิ่มค่าของตัวแปรตัวนับในลูป ซึ่งนี่เป็นสิ่งที่สำคัญมาก หากไม่มีการเพิ่มจำนวน i ขึ้นมาทีละ 1 ทุกครั้งที่วนลูปจะส่งผลให้มีการวนซ้ำแบบไม่มีที่สิ้นสุด"
   ]
  },
  {
   "cell_type": "markdown",
   "metadata": {
    "id": "A7NqH5Yb1Fsa"
   },
   "source": [
    "---"
   ]
  },
  {
   "cell_type": "markdown",
   "metadata": {
    "id": "HXBYm6_c00sg"
   },
   "source": [
    "### คำสั่ง break และ continue\n",
    "\n",
    "คำสั่ง break นั้นจะเป็นคำสั่งเพื่อออกจากลูป และคำสั่ง continue นั้นจะเป็นคำสั่งเพื่อกระโดดไปยังต้น loop"
   ]
  },
  {
   "cell_type": "markdown",
   "metadata": {
    "id": "Qa1GC-nR08dd"
   },
   "source": [
    "### คำสั่ง break\n",
    "\n",
    "- คำสั่ง break จะยุติการวนรอบที่มี โปรแกรมจะออกจากการทำงานภายในลูปทันที และจะเลื่อนไปทำงานในชุดคำสั่งถัดไปที่อยู่ต่อจากลูป\n",
    "\n",
    "- ถ้าคำสั่ง break อยู่ภายใน loop ที่ซ้อนกัน (ลูปภายใน loop อื่น) การแบ่งจะเป็นการยุติ loop ที่อยู่ด้านในที่สุด"
   ]
  },
  {
   "cell_type": "markdown",
   "metadata": {
    "id": "mf_9XQgS1U0f"
   },
   "source": [
    "### ไวยากรณ์ของ break\n",
    "\n",
    "\n",
    "\n",
    "```python\n",
    "break\n",
    "```\n",
    "\n"
   ]
  },
  {
   "cell_type": "markdown",
   "metadata": {
    "id": "bbp-Jv-v1jlL"
   },
   "source": [
    "### ตัวอย่างการใช้งานคำสั่ง break"
   ]
  },
  {
   "cell_type": "code",
   "execution_count": null,
   "metadata": {
    "id": "0X6SgliA1l0G"
   },
   "outputs": [],
   "source": [
    "# ใช้คำสั่ง break ภายในลูป\n",
    "\n",
    "for val in \"string\":\n",
    "    if val == \"i\":\n",
    "        break\n",
    "    print(val)\n",
    "\n",
    "print(\"The end\")"
   ]
  },
  {
   "cell_type": "markdown",
   "metadata": {
    "id": "169mYw2q1rqH"
   },
   "source": [
    "ตัวอย่างโปรแกรมด้านล่างจะแสดงให้เห็นถึงการประยุกต์ใช้คำสั่ง break เพื่อหยุดการทำงานของลูป\n",
    "\n",
    "โดยการทำงานของโปรแกรมนี้จะใช้ลูป while เพื่อวนรับค่าตัวเลขจำนวนเต็มจากคีย์บอร์ดและทำการหาค่าแสควรูทของตัวเลขที่ป้อนเข้ามา โดยโปรแกรมจะหยุกทำงานต่อเมื่อผู้ใช้ป้อนตัวเลขจำนวนเต็มลบเข้ามา"
   ]
  },
  {
   "cell_type": "code",
   "execution_count": null,
   "metadata": {
    "id": "a7UPqqaJ0lir"
   },
   "outputs": [],
   "source": [
    "# โจทย์ ให้เขียนโปรแกรม ที่มี loop ซ้อนกัน 2 loop\n",
    "# โดย loop นอกสุด ให้วนรับค่า 5 ครั้ง\n",
    "# และ loop ในสุด ให้วนรับค่าไปเรื่อย ๆ จนกว่าจะพบตัวอักษร 'q'\n",
    "\n",
    "for i in range(0, 5):\n",
    "    print(\"Loop {}\".format(i))\n",
    "    while True:\n",
    "        val = input(\"Enter value : \")\n",
    "        if val == 'q':\n",
    "            break"
   ]
  },
  {
   "cell_type": "markdown",
   "metadata": {
    "id": "Jq-Q9ThC1wVl"
   },
   "source": [
    "### คำสั่ง continue\n",
    "\n",
    "จะใช้เพื่อข้ามส่วนที่เหลือของโค้ดภายในลูปสำหรับการทำซ้ำปัจจุบันเท่านั้น ลูปจะไม่สิ้นสุด แต่จะดำเนินการต่อด้วยการทำซ้ำครั้งต่อไป"
   ]
  },
  {
   "cell_type": "markdown",
   "metadata": {
    "id": "bGg68Egl12QA"
   },
   "source": [
    "### ไวยากรณ์ของ Continue\n",
    "\n",
    "\n",
    "```python\n",
    "continue\n",
    "```\n",
    "\n"
   ]
  },
  {
   "cell_type": "markdown",
   "metadata": {
    "id": "qdW2vcSJ2Uaz"
   },
   "source": [
    "ตัวอย่างการใช้งานคำสั่ง Continue"
   ]
  },
  {
   "cell_type": "code",
   "execution_count": null,
   "metadata": {
    "id": "M4uo5o_z1L37"
   },
   "outputs": [],
   "source": [
    "# โปรแกรมเพื่อแสดงการใช้คำสั่ง continue ภายในลูป\n",
    "\n",
    "for val in \"string\":\n",
    "    if val == \"i\":\n",
    "        continue\n",
    "    print(val)\n",
    "\n",
    "print(\"The end\")"
   ]
  },
  {
   "cell_type": "markdown",
   "metadata": {
    "id": "hk3VQx8z2dvs"
   },
   "source": [
    "โปรแกรมนี้เหมือนกับตัวอย่างข้างต้นยกเว้นคำสั่ง break ถูกแทนที่ด้วย continue\n",
    "\n",
    "เราดำเนินการต่อกับลูปถ้าสตริงคือ \"i\" ไม่ใช้งานส่วนที่เหลือของบล็อค ดังนั้นเราจะเห็นในผลลัพธ์ของเราว่ามีการพิมพ์ตัวอักษรทั้งหมดยกเว้น \"i\""
   ]
  },
  {
   "cell_type": "markdown",
   "metadata": {
    "id": "GEOA0Ax1evRk"
   },
   "source": [
    "---"
   ]
  },
  {
   "cell_type": "markdown",
   "metadata": {
    "id": "lHpU8JM8VzCk"
   },
   "source": [
    "# บทที่ 5 Numpy Array\n",
    "\n",
    "NumPy (ย่อมาจาก Numerical Python) เป็นอีกหนึ่งโมดูลของไพธอน โดยเป็นโอเพ่นซอร์สเพื่อทำการคำนวณทางวิทยาศาสตร์ โดยช่วยให้เราสามารถทำงานกับอาร์เรย์และเมทริกซ์ได้อย่างเป็นธรรมชาติ โมดูลมีรายการฟังก์ชันทางคณิตศาสตร์ที่เป็นประโยชน์ซึ่งรวมถึงฟังก์ชันบางอย่างสำหรับพีชคณิตเชิงเส้น การแปลงฟูริเยร์ และการสร้างลำดับแบบสุ่ม\n"
   ]
  },
  {
   "cell_type": "markdown",
   "metadata": {
    "id": "4iisg3cBWgUo"
   },
   "source": [
    "## ความสำคัญของ NumPy\n",
    "การใช้ภาษาไพธอนเพื่อพัฒนาโปรแกรมสำหรับการแก้ปัญหาทางด้านวิทยาศาสตร์ หรือคณิตศาสตร์อย่างใดอย่างหนึ่งนั้น การเลือกใช้ความสามารถที่มีอยู่ใน NumPy จะช่วยอำนวยความสะดวก รวดเร็วในการทำงานได้มากกว่าการเขียนโค้ดเองจากภาษาไพธอนพื้นฐานสำหรับการแก้ปัญหานั้น ๆ ให้บรรลุ เพราะเนื่องมาจากการดำเนินการโดยตรงกับอาร์เรย์ และเมทริกซ์มีความซับซ้อนอย่างมาก\n",
    "\n",
    "ตลอดจนอัลกอริทึมสำหรับการจัดการงานใด ๆ ที่ NumPy ใช้ได้มีการรับรองประสิทธิภาพเป็นที่เรียบร้อย\n",
    "อาร์เรย์ที่ NumPy สร้างขึ้นจะถูกเก็บไว้อย่างมีประสิทธิภาพมากกว่าการใช้โครงสร้างข้อมูลโดยทั่วไปของภาษาไพธอน เช่น ลิสต์ซ้อนภายในลิสต์ซึ่งการจัดอาร์เรย์ของ NumPy นั้นรวดเร็วกว่าการใช้งานไพธอนพื้นฐานมาก\n",
    "\n",
    "โค้ดส่วนใหญ่หลายส่วนของ NumPy จะถูกเขียนด้วยภาษา C ด้วยเหตุนี้จึงทำให้ NumPy ทำงานได้เร็วกว่าไลบรารีอื่น ๆ ที่ถูกพัฒนาด้วยภาษาไพธอนเพียงอย่างเดียว สุดท้ายเนื่องจาก NumPy เป็นโอเพ่นซอร์ส\n",
    "\n",
    "ซึ่งเราสามารถนำความสามารถของ NumPy มาใช้งานได้อย่างอิสระเต็มที่ โดยไม่มีต้นทุนใด ๆ ในการพัฒนาโปรแกรม และยังมีผู้ร่วมพัฒนาภายในชุมชนนักพัฒนาโปรแกรมด้วย NumPy เป็นจำนวนมากซึ่งสามารถที่จะค้นหา แลกเปลี่ยน เรียนรู้ร่วมกันได้ตลอดเวลาต่อไป"
   ]
  },
  {
   "cell_type": "markdown",
   "metadata": {
    "id": "7efFHJbWWzF6"
   },
   "source": [
    "## ความแตกต่างระหว่าง NumPy Arrays และลิสต์\n",
    "\n",
    "เราใช้ NumPy Arrays แทนลิสต์ของภาษาไพธอนด้วยเหตุผลสามประการดังนี้\n",
    "- ใช้พื้นที่หน่วยความจำน้อยลง\n",
    "- รวดเร็วกว่า\n",
    "- สะดวกสบายในการทำงานมากว่า\n",
    "\n",
    "เหตุผลแรกที่เลือก NumPy Arrays คือใช้หน่วยความจำน้อยกว่าเมื่อเทียบกับลิสต์ จะเป็นสาเหตุในด้านความรวดเร็วในการทำงาน ซึ่งนี่คือข้อได้เปรียบที่สำคัญที่ NumPy Arrays มีมากกว่าลิสต์ โดยสามารถแสดงให้เห็นถึงความแตกต่างดังตัวอย่างด้านล่าง\n"
   ]
  },
  {
   "cell_type": "code",
   "execution_count": null,
   "metadata": {
    "id": "cuy4pfztXI62"
   },
   "outputs": [],
   "source": [
    "import numpy as np\n",
    "\n",
    "lt = [1, 2, 3, 4]\n",
    "arr = np.array(lt)\n",
    "\n",
    "print(\"python list : {} , type is : {}\".format(lt, type(lt)))\n",
    "print(\"numpy array :{} , type is : {}\".format(arr, type(arr)))"
   ]
  },
  {
   "cell_type": "code",
   "execution_count": null,
   "metadata": {
    "id": "8YjJgiTyXmob"
   },
   "outputs": [],
   "source": [
    "lt * 2"
   ]
  },
  {
   "cell_type": "code",
   "execution_count": null,
   "metadata": {
    "id": "5XQRkF-GXqGV"
   },
   "outputs": [],
   "source": [
    "arr * 2"
   ]
  },
  {
   "cell_type": "code",
   "execution_count": null,
   "metadata": {
    "id": "o5izqfKNX_Ko"
   },
   "outputs": [],
   "source": [
    "# จะเกิด error\n",
    "lt / 2"
   ]
  },
  {
   "cell_type": "code",
   "execution_count": null,
   "metadata": {
    "id": "UsKiqawNYCpr"
   },
   "outputs": [],
   "source": [
    "arr / 2"
   ]
  },
  {
   "cell_type": "code",
   "execution_count": null,
   "metadata": {
    "id": "XJw_PDmOZCwd"
   },
   "outputs": [],
   "source": [
    "arr - 1"
   ]
  },
  {
   "cell_type": "markdown",
   "metadata": {
    "id": "QDMNfDS0ba94"
   },
   "source": [
    "---"
   ]
  },
  {
   "cell_type": "markdown",
   "metadata": {
    "id": "TmOz1QGjZXqg"
   },
   "source": [
    "## การคำนวณทางคณิตศาสตร์กับ NumPy Arrays"
   ]
  },
  {
   "cell_type": "code",
   "execution_count": null,
   "metadata": {
    "id": "80R2rIC4ZCuK"
   },
   "outputs": [],
   "source": [
    "x = np.arange(4)\n",
    "\n",
    "print(\"x =\", x)\n",
    "print(\"x + 5 =\", x + 5)\n",
    "print(\"x - 5 =\", x - 5)\n",
    "print(\"x * 2 =\", x * 2)\n",
    "print(\"x / 2 =\", x / 2)\n",
    "print(\"x // 2 =\", x // 2) # floor division"
   ]
  },
  {
   "cell_type": "code",
   "execution_count": null,
   "metadata": {
    "id": "hKi5r2vKbH3F"
   },
   "outputs": [],
   "source": [
    "print(\"-x = \", -x)\n",
    "print(\"x ** 2 = \", x ** 2)\n",
    "print(\"x % 2 = \", x % 2)"
   ]
  },
  {
   "cell_type": "markdown",
   "metadata": {
    "id": "2Hwsk1Boom1e"
   },
   "source": [
    "---"
   ]
  },
  {
   "cell_type": "markdown",
   "metadata": {
    "id": "E2Mv7R7ooJQ8"
   },
   "source": [
    "## ความเข้าใจเรื่องมิติของ Array"
   ]
  },
  {
   "cell_type": "markdown",
   "metadata": {
    "id": "rJW6FhySoP_e"
   },
   "source": [
    "### อาร์เรย์ 0 มิติ"
   ]
  },
  {
   "cell_type": "code",
   "execution_count": null,
   "metadata": {
    "id": "aYMbYryFoVg9"
   },
   "outputs": [],
   "source": [
    "import numpy as np\n",
    "\n",
    "arr = np.array(42)\n",
    "\n",
    "print(arr)"
   ]
  },
  {
   "cell_type": "markdown",
   "metadata": {
    "id": "1FsTfGT6odkZ"
   },
   "source": [
    "### อาร์เรย์ 1 มิติ"
   ]
  },
  {
   "cell_type": "code",
   "execution_count": null,
   "metadata": {
    "id": "Lu2DaKy-oh4F"
   },
   "outputs": [],
   "source": [
    "import numpy as np\n",
    "\n",
    "arr = np.array([1, 2, 3, 4, 5])\n",
    "\n",
    "print(arr)"
   ]
  },
  {
   "cell_type": "markdown",
   "metadata": {
    "id": "4NZTqTELor3g"
   },
   "source": [
    "### อาร์เรย์ 2 มิติ"
   ]
  },
  {
   "cell_type": "code",
   "execution_count": null,
   "metadata": {
    "id": "tgqWwhcLovct"
   },
   "outputs": [],
   "source": [
    "import numpy as np\n",
    "\n",
    "arr = np.array([[1, 2, 3], [4, 5, 6]])\n",
    "\n",
    "print(arr)"
   ]
  },
  {
   "cell_type": "markdown",
   "metadata": {
    "id": "9t22G0j1oy3N"
   },
   "source": [
    "### อาร์เรย์ 3 มิติ"
   ]
  },
  {
   "cell_type": "code",
   "execution_count": null,
   "metadata": {
    "id": "l1_WZBs3o369"
   },
   "outputs": [],
   "source": [
    "import numpy as np\n",
    "\n",
    "arr = np.array([[[1, 2, 3], [4, 5, 6]], [[1, 2, 3], [4, 5, 6]]])\n",
    "\n",
    "print(arr)"
   ]
  },
  {
   "cell_type": "markdown",
   "metadata": {
    "id": "lZvz8jtdpMaI"
   },
   "source": [
    "### การตรวจสอบขนาดมิติของ numpy array\n",
    "\n",
    "NumPy Arrays จัดเตรียม แอตทริบิวต์ **ndim** ซึ่งจะที่ส่งคืนจำนวนเต็มที่บอกเราว่าอาร์เรย์มีกี่มิติ"
   ]
  },
  {
   "cell_type": "code",
   "execution_count": null,
   "metadata": {
    "id": "Xt2yj6DtpiQ0"
   },
   "outputs": [],
   "source": [
    "import numpy as np\n",
    "\n",
    "a = np.array(42)\n",
    "b = np.array([1, 2, 3, 4, 5])\n",
    "c = np.array([[1, 2, 3], [4, 5, 6]])\n",
    "d = np.array([[[1, 2, 3], [4, 5, 6]], [[1, 2, 3], [4, 5, 6]]])\n",
    "\n",
    "print(a.ndim)\n",
    "print(b.ndim)\n",
    "print(c.ndim)\n",
    "print(d.ndim)"
   ]
  },
  {
   "cell_type": "markdown",
   "metadata": {
    "id": "XipfkOiOuSM1"
   },
   "source": [
    "### อาร์กิวเมนต์ ndmin\n",
    "\n",
    "อาร์เรย์ที่เราสร้างขึ้นนั้น สามารถมีมิติข้อมูลจำนวนเท่าใดก็ได้\n",
    "\n",
    "เมื่อสร้างอาร์เรย์แล้ว สามารถกำหนดจำนวนมิติได้โดยใช้ **ndmin**\n",
    "\n",
    "**ตัวอย่าง**\n",
    "สร้างอาร์เรย์ที่มี 5 มิติและตรวจสอบว่ามี 5 มิติ:"
   ]
  },
  {
   "cell_type": "code",
   "execution_count": null,
   "metadata": {
    "id": "S0BcwfBAut4n"
   },
   "outputs": [],
   "source": [
    "import numpy as np\n",
    "\n",
    "arr = np.array([1, 2, 3, 4], ndmin=2)\n",
    "\n",
    "print(arr)\n",
    "print('number of dimensions :', arr.ndim)"
   ]
  },
  {
   "cell_type": "markdown",
   "metadata": {
    "id": "0AOK_2wuXHK3"
   },
   "source": [
    "---"
   ]
  },
  {
   "cell_type": "markdown",
   "metadata": {
    "id": "IqF3H4rxwpmD"
   },
   "source": [
    "### การเข้าถึงสมาชิกของอาร์เรย์\n",
    "\n",
    "การจัดทำดัชนีอาร์เรย์จะเหมือนกับการเข้าถึงองค์ประกอบอาร์เรย์\n",
    "\n",
    "คุณสามารถเข้าถึงองค์ประกอบอาร์เรย์ได้โดยอ้างอิงถึงหมายเลขดัชนี\n",
    "\n",
    "ดัชนีในอาร์เรย์ NumPy เริ่มต้นด้วย 0 ซึ่งหมายความว่าองค์ประกอบแรกมีดัชนี 0 และองค์ประกอบที่สองมีดัชนี 1 เป็นต้น"
   ]
  },
  {
   "cell_type": "code",
   "execution_count": null,
   "metadata": {
    "id": "9GJ4UPY2wlvS"
   },
   "outputs": [],
   "source": [
    "import numpy as np\n",
    "\n",
    "arr = np.array([1, 2, 3, 4])\n",
    "\n",
    "print(arr[0])"
   ]
  },
  {
   "cell_type": "code",
   "execution_count": null,
   "metadata": {
    "id": "ClEq8aDxw5Fp"
   },
   "outputs": [],
   "source": [
    "print(arr[-1])"
   ]
  },
  {
   "cell_type": "markdown",
   "metadata": {
    "id": "SbHP5VdOrs8m"
   },
   "source": [
    "### การเข้าถึงอาร์เรย์ 2 มิติ\n",
    "ในการเข้าถึงองค์ประกอบจากอาร์เรย์ 2 มิติ เราสามารถใช้จำนวนเต็มที่คั่นด้วยเครื่องหมายจุลภาคซึ่งแสดงถึงมิติและดัชนีขององค์ประกอบ\n",
    "\n",
    "ลองนึกถึงอาร์เรย์ 2 มิติเหมือนกับตารางที่มีแถวและคอลัมน์ โดยที่มิติแสดงถึงแถวและดัชนีแสดงถึงคอลัมน์"
   ]
  },
  {
   "cell_type": "code",
   "execution_count": null,
   "metadata": {
    "id": "iK6oDfrfr15o"
   },
   "outputs": [],
   "source": [
    "import numpy as np\n",
    "\n",
    "arr = np.array([[1,2,3,4,5], [6,7,8,9,10]])\n",
    "\n",
    "print(arr)"
   ]
  },
  {
   "cell_type": "code",
   "execution_count": null,
   "metadata": {
    "id": "rCsWPToBr6L8"
   },
   "outputs": [],
   "source": [
    "# เข้าถึงสมาชิกในแถวแรก, คอลัมน์ที่สอง:\n",
    "\n",
    "print('2nd element on 1st row: ', arr[0, 1])"
   ]
  },
  {
   "cell_type": "code",
   "execution_count": null,
   "metadata": {
    "id": "AGxgLv13sTHG"
   },
   "outputs": [],
   "source": [
    "# เข้าถึงองค์ประกอบในแถวที่ 2 คอลัมน์ที่ 5:\n",
    "\n",
    "print('5th element on 2nd row: ', arr[1, 4])"
   ]
  },
  {
   "cell_type": "markdown",
   "metadata": {
    "id": "xOSdkP0otIUl"
   },
   "source": [
    "### การเข้าถึงอาร์เรย์ 3 มิติ\n",
    "\n",
    "ในการเข้าถึงสมาชิกจากอาร์เรย์ 3 มิติ เราสามารถใช้จำนวนเต็มที่คั่นด้วยเครื่องหมายจุลภาคซึ่งแสดงถึงขนาดและดัชนีของสมาชิก"
   ]
  },
  {
   "cell_type": "markdown",
   "metadata": {
    "id": "VuALNzXktTVw"
   },
   "source": [
    "ตัวอย่าง\n",
    "\n",
    "เข้าถึงสามชิกตัวที่สามของอาร์เรย์ที่สองของอาร์เรย์แรก:"
   ]
  },
  {
   "cell_type": "code",
   "execution_count": 31,
   "metadata": {
    "colab": {
     "base_uri": "https://localhost:8080/"
    },
    "id": "VUNuAH7ftXAR",
    "outputId": "fd5849c6-8a35-4e92-b1b2-b495f0479589"
   },
   "outputs": [
    {
     "name": "stdout",
     "output_type": "stream",
     "text": [
      "[[[ 1  2  3]\n",
      "  [ 4  5  6]]\n",
      "\n",
      " [[ 7  8  9]\n",
      "  [10 11 12]]]\n",
      "dimention of array :  3\n"
     ]
    }
   ],
   "source": [
    "import numpy as np\n",
    "\n",
    "lt = [\n",
    "      [[1, 2, 3],\n",
    "       [4, 5, 6]],\n",
    "\n",
    "      [[7, 8, 9],\n",
    "       [10, 11, 12]],\n",
    "    ]\n",
    "\n",
    "arr = np.array(lt)\n",
    "\n",
    "print(arr)\n",
    "print(\"dimention of array : \", arr.ndim)"
   ]
  },
  {
   "cell_type": "code",
   "execution_count": 26,
   "metadata": {
    "colab": {
     "base_uri": "https://localhost:8080/"
    },
    "id": "Eh15LwaNtfUw",
    "outputId": "4bd51c32-c100-4e7a-b3cd-2fb4978e316f"
   },
   "outputs": [
    {
     "name": "stdout",
     "output_type": "stream",
     "text": [
      "6\n"
     ]
    }
   ],
   "source": [
    "print(arr[0, 1, 2])"
   ]
  },
  {
   "cell_type": "markdown",
   "metadata": {
    "id": "kl08YzYHzqSk"
   },
   "source": [
    "---"
   ]
  },
  {
   "cell_type": "markdown",
   "metadata": {
    "id": "X5mrcbxPzr-8"
   },
   "source": [
    "## NumPy Array Shape\n",
    "\n",
    "รูปร่างของอาร์เรย์คือจำนวนสมาชิกในแต่ละมิติ\n",
    "\n",
    "อาร์เรย์ NumPy มีแอตทริบิวต์ **shape** ที่เรียกว่าส่งคืนสิ่งอันดับโดย\n",
    "\n",
    "แต่ละดัชนีมีจำนวนองค์ประกอบที่สอดคล้องกัน"
   ]
  },
  {
   "cell_type": "code",
   "execution_count": 32,
   "metadata": {
    "colab": {
     "base_uri": "https://localhost:8080/"
    },
    "id": "HDWigVVM0HMP",
    "outputId": "8419093f-3694-4962-b630-e580b1c7d055"
   },
   "outputs": [
    {
     "name": "stdout",
     "output_type": "stream",
     "text": [
      "(2, 4)\n"
     ]
    }
   ],
   "source": [
    "import numpy as np\n",
    "\n",
    "arr = np.array([[1, 2, 3, 4], [5, 6, 7, 8]])\n",
    "\n",
    "print(arr.shape)"
   ]
  },
  {
   "cell_type": "code",
   "execution_count": 33,
   "metadata": {
    "colab": {
     "base_uri": "https://localhost:8080/"
    },
    "id": "aSphM5E00c5q",
    "outputId": "8c4634eb-9e11-41c3-9406-6556f5110f15"
   },
   "outputs": [
    {
     "name": "stdout",
     "output_type": "stream",
     "text": [
      "[[[[[1 2 3 4]]]]]\n",
      "shape of array : (1, 1, 1, 1, 4)\n"
     ]
    }
   ],
   "source": [
    "arr = np.array([1, 2, 3, 4], ndmin=5)\n",
    "\n",
    "print(arr)\n",
    "print('shape of array :', arr.shape)"
   ]
  },
  {
   "cell_type": "markdown",
   "metadata": {
    "id": "imGiF_aw0zom"
   },
   "source": [
    "## NumPy Array Reshaping\n",
    "\n",
    "\n",
    "การปรับรูปร่างอาร์เรย์ใหม่\n",
    "การปรับรูปร่างใหม่หมายถึงการเปลี่ยนรูปร่างของอาร์เรย์\n",
    "\n",
    "รูปร่างของอาร์เรย์คือจำนวนองค์ประกอบในแต่ละมิติ\n",
    "\n",
    "การปรับรูปร่างใหม่ทำให้เราสามารถเพิ่มหรือลบมิติข้อมูลหรือเปลี่ยนจำนวนองค์ประกอบในแต่ละมิติได้\n",
    "\n"
   ]
  },
  {
   "cell_type": "markdown",
   "metadata": {
    "id": "D02ciQw_1AB3"
   },
   "source": [
    "### เปลี่ยนรูปร่างจาก 1-D เป็น 2-D\n",
    "\n",
    "ตัวอย่าง\n",
    "\n",
    "แปลงอาร์เรย์ 1-D ต่อไปนี้ที่มี 12 องค์ประกอบให้เป็นอาร์เรย์ 2-D\n",
    "\n",
    "มิติด้านนอกสุดจะมี 4 อาร์เรย์ โดยแต่ละองค์ประกอบมี 3 องค์ประกอบ:\n"
   ]
  },
  {
   "cell_type": "code",
   "execution_count": 34,
   "metadata": {
    "colab": {
     "base_uri": "https://localhost:8080/"
    },
    "id": "CDiXSE7D1IVQ",
    "outputId": "8be4d52d-b736-4392-a5f3-44f500646711"
   },
   "outputs": [
    {
     "name": "stdout",
     "output_type": "stream",
     "text": [
      "[[ 1  2  3]\n",
      " [ 4  5  6]\n",
      " [ 7  8  9]\n",
      " [10 11 12]]\n"
     ]
    }
   ],
   "source": [
    "import numpy as np\n",
    "\n",
    "arr = np.array([1, 2, 3, 4, 5, 6, 7, 8, 9, 10, 11, 12])\n",
    "\n",
    "newarr = arr.reshape(4, 3)\n",
    "\n",
    "print(newarr)"
   ]
  },
  {
   "cell_type": "markdown",
   "metadata": {
    "id": "z9L-4d_s3tTk"
   },
   "source": [
    "### การปรับอาร์เรย์หลายมิติให้กลายเป็น 1 มิติ"
   ]
  },
  {
   "cell_type": "code",
   "execution_count": 35,
   "metadata": {
    "colab": {
     "base_uri": "https://localhost:8080/"
    },
    "id": "GO_OpFjo3aMQ",
    "outputId": "615de156-ae37-4916-9c1a-b37364a1dae3"
   },
   "outputs": [
    {
     "name": "stdout",
     "output_type": "stream",
     "text": [
      "[1 2 3 4 5 6]\n"
     ]
    }
   ],
   "source": [
    "arr = np.array([[1, 2, 3], [4, 5, 6]])\n",
    "\n",
    "newarr = arr.reshape(-1)\n",
    "\n",
    "print(newarr)"
   ]
  },
  {
   "cell_type": "markdown",
   "metadata": {
    "id": "47beURHU0IoY"
   },
   "source": [
    "---"
   ]
  },
  {
   "cell_type": "markdown",
   "metadata": {
    "id": "j8xu6RzUhBDV"
   },
   "source": [
    "# โจทย์เสริมทักษะ"
   ]
  },
  {
   "cell_type": "markdown",
   "metadata": {
    "id": "rK-9CmYShFdO"
   },
   "source": [
    "1. จงเขียนโปรแกรมเพื่อรับจำนวน $ n $ และพิมพ์พิระมิดชิดซ้ายที่มีขนาดเท่ากับ $ n $ เช่น\n",
    "\n",
    "```\n",
    "Enter the size of the left-angle pyramid (n): 5\n",
    "*\n",
    "**\n",
    "***\n",
    "****\n",
    "*****\n",
    "```"
   ]
  },
  {
   "cell_type": "code",
   "execution_count": null,
   "metadata": {
    "id": "5s2Wf3t92Y3K"
   },
   "outputs": [],
   "source": [
    "# คำตอบ\n",
    "\n"
   ]
  },
  {
   "cell_type": "markdown",
   "metadata": {
    "id": "9aOlwR_IhLmN"
   },
   "source": [
    "2. จงเขียนโปรแกรมเพื่อรับจำนวน $ h $ และพิมพ์พิระมิดที่มีความสูงเท่ากับ $ h $ เช่น\n",
    "\n",
    "```\n",
    "Enter the height of the pyramid (h): 5\n",
    "    *\n",
    "   ***\n",
    "  *****\n",
    " *******\n",
    "*********\n",
    "```"
   ]
  },
  {
   "cell_type": "code",
   "execution_count": null,
   "metadata": {
    "id": "1Ru75sWQhN3o"
   },
   "outputs": [],
   "source": [
    "# คำตอบ\n",
    "\n",
    "\n"
   ]
  },
  {
   "cell_type": "markdown",
   "metadata": {
    "id": "sc9V8iddhOY3"
   },
   "source": [
    "3. จงเขียนโปรแกรมเพื่อรับจำนวน $ h $ และพิมพ์รูปข้าวหลามตัดที่มีความสูงเท่ากับ $ 2h - 1 $ เช่น\n",
    "\n",
    "```\n",
    "Enter the height of club (h): 5\n",
    "    *\n",
    "   ***\n",
    "  *****\n",
    " *******\n",
    "*********\n",
    " *******\n",
    "  *****\n",
    "   ***\n",
    "    *\n",
    "```"
   ]
  },
  {
   "cell_type": "code",
   "execution_count": null,
   "metadata": {
    "id": "nJa6WkJ6hRAM"
   },
   "outputs": [],
   "source": [
    "# คำตอบ\n",
    "\n",
    "\n"
   ]
  },
  {
   "cell_type": "markdown",
   "metadata": {
    "id": "llFR5QjOhTRh"
   },
   "source": [
    "4. จงเขียนโปรแกรมเพื่อรับจำนวน $ h $ และพิมพ์รูปข้าวหลามตัดกลวงที่มีความสูงเท่ากับ $ 2h - 1 $ เช่น\n",
    "\n",
    "```shell\n",
    "Enter the height of hollow club (h): 5\n",
    "    *\n",
    "   * *\n",
    "  *   *\n",
    " *     *\n",
    "*       *\n",
    " *     *\n",
    "  *   *\n",
    "   * *\n",
    "    *\n",
    "```"
   ]
  },
  {
   "cell_type": "code",
   "execution_count": null,
   "metadata": {
    "id": "CccFzrxihT7p"
   },
   "outputs": [],
   "source": [
    "# คำตอบ\n",
    "\n",
    "\n"
   ]
  },
  {
   "cell_type": "markdown",
   "metadata": {
    "id": "6nxy7qFXAEzS"
   },
   "source": [
    "5. จงเขียนโปรแกรมที่แสดงเลขจำนวน 1 ถึง 50 โดยสำหรับเลขจำนวนใดที่หารด้วย 3 ลงตัวให้พิมพ์ Fizz และเลขจำนวนใดที่หารด้วย 5 ลงตัวให้พิมพ์ Buzz และเลขใดที่หารลงตัวทั้ง 3 และ 5 ให้พิมพ์ FizzBuzz\n",
    "\n",
    "\n",
    "\n",
    "```\n",
    "\"\"\"\n",
    "เช่น\n",
    "\n",
    "1\n",
    "2\n",
    "Fizz\n",
    "4\n",
    "Buzz\n",
    "```\n",
    "\n"
   ]
  },
  {
   "cell_type": "code",
   "execution_count": null,
   "metadata": {
    "id": "8jUqjk9tAMr1"
   },
   "outputs": [],
   "source": [
    "# คำตอบ\n",
    "\n"
   ]
  },
  {
   "cell_type": "markdown",
   "metadata": {
    "id": "705PLcXTBBD_"
   },
   "source": [
    "6. จงเขียนโปรแกรมเพื่อหาค่า สูงสุด และค่าต่ำสุด จากชุดข้อมูล\n",
    "\n",
    "\n",
    "\n",
    "```\n",
    "'''\n",
    "โปรแกรมหาค่า สูงสุด และค่าต่ำสุด จากชุดตัวเลข\n",
    "\n",
    "1. สร้างตัวแปร max สำหรับเก็บค่าสูงสุด\n",
    "2. สร้างตัวแปร min สำหรับเก็บค่าต่ำสุด\n",
    "3. กำหนดให้ max และ min มีค่าเท่ากับ สมาชิกตัวแรกของชุดตัวเลข\n",
    "4. ทำการเปรียบเทียบค่าของสมาชิก (num) ในชุดตัวเลขกับ max\n",
    "        - ถ้า max มีค่าน้อยกว่า num กำหนดให้ max = num\n",
    "5. ทำการเปรียบเทียบค่าของสมาชิก (num) ในชุดตัวเลขกับ min\n",
    "        - ถ้า min มีค่ามากกว่า num กำหนดให้ min = num\n",
    "6. ทำซ้ำข้อ 4 - 6 จนกว่าจะครบจำนวนสมาชิก\n",
    "7. พิมพ์ max และ min ออกทางหน้าจอ\n",
    "\n",
    "'''\n",
    "```\n",
    "\n"
   ]
  },
  {
   "cell_type": "code",
   "execution_count": null,
   "metadata": {
    "id": "TJHWKxDTBItl"
   },
   "outputs": [],
   "source": [
    "numbers = [6, 5, 3, 8, 4, 2, 5, 4, 11]\n",
    "\n"
   ]
  }
 ],
 "metadata": {
  "colab": {
   "authorship_tag": "ABX9TyNZn8KmqOmqk7SV+CJLW55g",
   "include_colab_link": true,
   "provenance": [],
   "toc_visible": true
  },
  "kernelspec": {
   "display_name": "Python 3 (ipykernel)",
   "language": "python",
   "name": "python3"
  },
  "language_info": {
   "codemirror_mode": {
    "name": "ipython",
    "version": 3
   },
   "file_extension": ".py",
   "mimetype": "text/x-python",
   "name": "python",
   "nbconvert_exporter": "python",
   "pygments_lexer": "ipython3",
   "version": "3.13.0"
  }
 },
 "nbformat": 4,
 "nbformat_minor": 4
}
