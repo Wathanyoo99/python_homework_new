{
 "cells": [
  {
   "cell_type": "code",
   "execution_count": null,
   "id": "62702b36-3b60-482f-925b-da3a94594209",
   "metadata": {},
   "outputs": [],
   "source": [
    "กบ (frog)\n",
    "1 second, 32 megabytes\n",
    "มีเจ้ากบน้อยอยู่ตัวหนึ่ง สามารถกระโดดได้ในทุกทิศทางบนระนาบ และจะกระโดดเป็นระยะทางครั้งละ X หน่วย\n",
    "พอดี อยู่มาวันหนึ่ง เจ้ากบน้อยต้องการกระโดดจากจุด A ไปยังจุด B ซึ่งเป็นจุดบนระนาบ ที่ตั้งอยู่ห่างกัน Y หน่วย\n",
    "เจ้ากบน้อยอยากให้คุณช่วยหาว่า มันจะต้องกระโดดอย่างน้อยกี่ครั้ง จึงจะไปหยุดที่จุด B พอดี\n",
    "โจทย์จงเขียนโปรแกรมเพื่อรับจํานวนเต็ม X และ Y แล้วคํานวณหาจํานวนครั้งที่น้อยที่สุดที่เจ้ากบน้อยต้องใช้ใน\n",
    "การกระโดดจากจุด A ไปยังจุด B\n",
    "ข้อมูลนําเข้า\n",
    "มีบรรทัดเดียว ระบุจํานวนเต็ม X และ Y (1 ≤ X, Y ≤ 1 000) แทนระยะทางในการกระโดดแต่ละครั้งของเจ้ากบ\n",
    "น้อย และระยะห่างระหว่างจุด A และจุด B\n",
    "ข้อมูลส่งออก\n",
    "มีบรรทัดเดียว แสดงจํานวนครั้งที่น้อยที่สุดที่เจ้ากบน้อยต้องใช้ในการกระโดดจากจุด A ไปยังจุด B\n",
    "ตัวอย่างข้อมูลนําเข้าและข้อมูลส่งออก\n",
    "\n",
    "ตัวอย่างข้อมูลนําเข้า ตัวอย่างข้อมูลส่งออก\n",
    "\n",
    "3 12 4\n",
    "5 23 5\n",
    "\n",
    "แหล่งที่มา\n",
    "โจทย์โดย: สุธี เรืองวิเศษ\n",
    "การแข่งขัน IOI Thailand League เดือนสิงหาคม 2553"
   ]
  },
  {
   "cell_type": "code",
   "execution_count": 1,
   "id": "a1a3ece4-b73e-47b3-92c8-87b09d16aee4",
   "metadata": {},
   "outputs": [
    {
     "name": "stdin",
     "output_type": "stream",
     "text": [
      " 3 12\n"
     ]
    },
    {
     "name": "stdout",
     "output_type": "stream",
     "text": [
      "4\n"
     ]
    }
   ],
   "source": [
    "import math\n",
    "\n",
    "X, Y = map(int, input().split())\n",
    "\n",
    "jumps = math.ceil(Y / X)\n",
    "\n",
    "print(jumps)"
   ]
  },
  {
   "cell_type": "code",
   "execution_count": null,
   "id": "665f7369-a7a9-4412-892f-4004ff9e9b8e",
   "metadata": {},
   "outputs": [],
   "source": []
  }
 ],
 "metadata": {
  "kernelspec": {
   "display_name": "Python 3 (ipykernel)",
   "language": "python",
   "name": "python3"
  },
  "language_info": {
   "codemirror_mode": {
    "name": "ipython",
    "version": 3
   },
   "file_extension": ".py",
   "mimetype": "text/x-python",
   "name": "python",
   "nbconvert_exporter": "python",
   "pygments_lexer": "ipython3",
   "version": "3.13.0"
  }
 },
 "nbformat": 4,
 "nbformat_minor": 5
}
